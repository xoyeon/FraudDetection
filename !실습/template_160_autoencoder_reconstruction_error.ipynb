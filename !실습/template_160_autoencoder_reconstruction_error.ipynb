{
 "cells": [
  {
   "cell_type": "markdown",
   "metadata": {
    "id": "iEl3ncgPc0sv"
   },
   "source": [
    "\n",
    "# Autoencoder Reconstruction Error를 이용한 Fraud Detection\n",
    "\n",
    "- [Credit Card Fraud Detection](https://www.kaggle.com/mlg-ulb/creditcardfraud) - Kaggle\n",
    "\n",
    "\n",
    "- Highly Imbalanced Dataset - dataset는 2013 년 9 월 유럽 카드 소지자 신용 카드 거래로 만들었습니다. 이 dataset는 2 일 동안 발생한 거래를 보여 주며, 284,807 건의 거래 중 492 건의 fraud가 있습니다. 데이터세트는 매우 불균형하며 포지티브 클래스(사기)는 모든 거래의 0.172 %를 차지합니다.\n",
    "\n",
    "\n",
    "- 이 dataset는 PCA 변환의 결과인 숫자 입력 변수만 포함합니다. 안타깝게도 기밀 유지 문제로 인해 데이터에 대한 원래 feature와 추가 background 정보를 제공할 수 없습니다. 특성 V1, V2, ... V28은 PCA로 얻은 principal component이며 PCA로 변환되지 않은 유일한 기능은 `Time` 과 `Amount`입니다.`'Time` 특성은 각 트랜잭션과 데이터 세트의 첫 번째 트랜잭션 사이에 경과된 시간(초) 입니다. `Amount` 특성은 거래금액 입니다. \n",
    "\n",
    "\n",
    "\n",
    "- `Class`는 사기의 경우 1, 그렇지 않으면 0 입니다."
   ]
  },
  {
   "cell_type": "markdown",
   "metadata": {
    "id": "WTrPa78OJjUN"
   },
   "source": [
    "## Downloading of dataset"
   ]
  },
  {
   "cell_type": "markdown",
   "metadata": {
    "id": "5Y0a-xNMeDEA"
   },
   "source": [
    "- the dataset is highly unbalanced"
   ]
  },
  {
   "cell_type": "markdown",
   "metadata": {
    "id": "Yz8jrMm2maRj"
   },
   "source": [
    "- Time 필드를 일중 시간으로 변환합니다.   \n",
    "- Amount 필드는 로그 스케일로 변환합니다."
   ]
  },
  {
   "cell_type": "markdown",
   "metadata": {
    "id": "6vzbL3QfJjUQ"
   },
   "source": [
    "- class 1 이 너무 적으므로 통상적인 7:3 대신 5:5 비율로 train, test set 분리"
   ]
  },
  {
   "cell_type": "markdown",
   "metadata": {
    "id": "otvOl-HcevoG"
   },
   "source": [
    "## Autoencoder Train"
   ]
  },
  {
   "cell_type": "markdown",
   "metadata": {
    "id": "xPpRAl0TeQR8"
   },
   "source": [
    "- 정상 거래로만 오토 인코더를 교육합니다.   \n",
    "\n",
    "- 사기성(비정상) 거래의 재구성 error 가 비사기성 거래보다 높을 것으로 기대합니다."
   ]
  },
  {
   "cell_type": "markdown",
   "metadata": {
    "id": "CbX1U5aheSla"
   },
   "source": [
    "## DNN model 작성\n",
    "- 정상 데이터만 사용"
   ]
  },
  {
   "cell_type": "markdown",
   "metadata": {
    "id": "GMG2m7rYJjUT"
   },
   "source": [
    "### 정상 data로 만 train  "
   ]
  },
  {
   "cell_type": "markdown",
   "metadata": {
    "id": "wztaRRboxZuc"
   },
   "source": [
    "## Reconstruction Error 시각화"
   ]
  },
  {
   "cell_type": "markdown",
   "metadata": {
    "id": "X6_eJfzzU5L7"
   },
   "source": [
    "- Anomaly data 와의 bar chart 비교를 위해 정상 abnormal data 갯수 만큼의 임의의 normal sample 을 선택"
   ]
  },
  {
   "cell_type": "markdown",
   "metadata": {
    "id": "P8APIzpjVzQJ"
   },
   "source": [
    "### 정상 data 및 fraud data 의 autoencoder 재 구성값\n",
    "- 정상 data의 metric"
   ]
  },
  {
   "cell_type": "markdown",
   "metadata": {
    "id": "bAjdGxX8maRo"
   },
   "source": [
    "- fraud data의 metric"
   ]
  },
  {
   "cell_type": "markdown",
   "metadata": {
    "id": "In0qGo81Wz0Z"
   },
   "source": [
    "- 정상 data 와 anomaly data 간의 MSE 차이 시각화"
   ]
  },
  {
   "cell_type": "markdown",
   "metadata": {
    "id": "CXOYnoZvW7dE"
   },
   "source": [
    "- 정상, 비정상 data 의 box plot 비교"
   ]
  },
  {
   "cell_type": "markdown",
   "metadata": {
    "id": "DzM40bzmU-UT"
   },
   "source": [
    "## reconstruction error threshold 결정"
   ]
  },
  {
   "cell_type": "markdown",
   "metadata": {
    "id": "rRQepwFre9UM"
   },
   "source": [
    "- 위에서 볼 수 있듯이 사기성이 아닌 경우의 오류는 사기성 사례의 오류보다 낮습니다.   \n",
    "\n",
    "\n",
    "- mean + 3 * std 를 threshold 로 사용하여 test set 의 재구성 error (squared error) 가 threshold 보다 크면 fraud 거래로 분류합니다.  \n",
    "\n",
    "- 1 std - 68%, 2 std - 96%, 3std - 99.8%"
   ]
  },
  {
   "cell_type": "markdown",
   "metadata": {
    "id": "xHl-TL8smaRp"
   },
   "source": [
    "- 재구성 오류를 이용한 anomaly detection   \n",
    "- confusion matrix 시각화"
   ]
  }
 ],
 "metadata": {
  "accelerator": "GPU",
  "colab": {
   "collapsed_sections": [],
   "machine_shape": "hm",
   "provenance": []
  },
  "kernelspec": {
   "display_name": "Python 3 (ipykernel)",
   "language": "python",
   "name": "python3"
  },
  "language_info": {
   "codemirror_mode": {
    "name": "ipython",
    "version": 3
   },
   "file_extension": ".py",
   "mimetype": "text/x-python",
   "name": "python",
   "nbconvert_exporter": "python",
   "pygments_lexer": "ipython3",
   "version": "3.9.12"
  }
 },
 "nbformat": 4,
 "nbformat_minor": 0
}
