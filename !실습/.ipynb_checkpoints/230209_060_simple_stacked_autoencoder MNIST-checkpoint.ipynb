{
 "cells": [
  {
   "cell_type": "markdown",
   "metadata": {
    "id": "6_BMH4BDOWz7"
   },
   "source": [
    "# Simple and Stacked Autoencoder with MNIST - Dense\n",
    "\n",
    "- fashion_mnist dataset 을 이용한 deep autoencoder 생성\n",
    "\n",
    "\n",
    "- Mnist dataset 의 손글씨체를 encoding 후 decoding 하여 복원  "
   ]
  },
  {
   "cell_type": "markdown",
   "metadata": {},
   "source": [
    "`plot_model` 사용을 위해서 `conda install pydot`, `conda install graphviz` 로 graphviz 와 pydot 설치"
   ]
  },
  {
   "cell_type": "code",
   "execution_count": 1,
   "metadata": {},
   "outputs": [],
   "source": [
    "import numpy as np\n",
    "import tensorflow as tf\n",
    "from tensorflow.keras.datasets import fashion_mnist\n",
    "from tensorflow.keras import regularizers\n",
    "from tensorflow.keras.models import Sequential, Model\n",
    "from tensorflow.keras.layers import Input, Dense\n",
    "from tensorflow.keras.utils import plot_model\n",
    "import matplotlib.pyplot as plt"
   ]
  },
  {
   "cell_type": "code",
   "execution_count": 2,
   "metadata": {},
   "outputs": [
    {
     "name": "stdout",
     "output_type": "stream",
     "text": [
      "Downloading data from https://storage.googleapis.com/tensorflow/tf-keras-datasets/train-labels-idx1-ubyte.gz\n",
      "29515/29515 [==============================] - 0s 0us/step\n",
      "Downloading data from https://storage.googleapis.com/tensorflow/tf-keras-datasets/train-images-idx3-ubyte.gz\n",
      "26421880/26421880 [==============================] - 3s 0us/step\n",
      "Downloading data from https://storage.googleapis.com/tensorflow/tf-keras-datasets/t10k-labels-idx1-ubyte.gz\n",
      "5148/5148 [==============================] - 0s 0s/step\n",
      "Downloading data from https://storage.googleapis.com/tensorflow/tf-keras-datasets/t10k-images-idx3-ubyte.gz\n",
      "4422102/4422102 [==============================] - 0s 0us/step\n"
     ]
    },
    {
     "data": {
      "text/plain": [
       "(60000, 28, 28)"
      ]
     },
     "execution_count": 2,
     "metadata": {},
     "output_type": "execute_result"
    }
   ],
   "source": [
    "(X_train,_),(X_test,_) = fashion_mnist.load_data() ## _는 안쓴다는 뜻\n",
    "X_train.shape"
   ]
  },
  {
   "cell_type": "markdown",
   "metadata": {},
   "source": [
    "sample image 시각화"
   ]
  },
  {
   "cell_type": "code",
   "execution_count": 4,
   "metadata": {},
   "outputs": [
    {
     "data": {
      "image/png": "[encoded data removed]",
      "text/plain": [
       "<Figure size 2000x400 with 10 Axes>"
      ]
     },
     "metadata": {},
     "output_type": "display_data"
    }
   ],
   "source": [
    "fig, ax = plt.subplots(1,10,figsize=(20,4))\n",
    "for i in range(10):\n",
    "    ax[i].imshow(X_train[i], cmap='gray')\n",
    "    ax[i].set_xticks([])\n",
    "    ax[i].set_yticks([])"
   ]
  },
  {
   "cell_type": "markdown",
   "metadata": {},
   "source": [
    "- data normalization  \n",
    "- 2차원 image 를 1 차원으로 변경"
   ]
  },
  {
   "cell_type": "code",
   "execution_count": 6,
   "metadata": {},
   "outputs": [
    {
     "data": {
      "text/plain": [
       "((60000, 784), (10000, 784))"
      ]
     },
     "execution_count": 6,
     "metadata": {},
     "output_type": "execute_result"
    }
   ],
   "source": [
    "X_train = X_train / 255. ## color값 정규화\n",
    "X_test = X_test / 255.\n",
    "\n",
    "# X_train = X_train.reshape(60000, 784)\n",
    "X_train = X_train.reshape(-1, 784)\n",
    "X_test = X_test.reshape(-1, 784)\n",
    "X_train.shape, X_test.shape"
   ]
  },
  {
   "cell_type": "markdown",
   "metadata": {
    "id": "S7lrANLDd1xH"
   },
   "source": [
    "# stacked autoencoder 작성"
   ]
  },
  {
   "cell_type": "code",
   "execution_count": 11,
   "metadata": {},
   "outputs": [],
   "source": [
    "inp = Input(shape=(784,))\n",
    "\n",
    "x = Dense(128, activation='relu')(inp)\n",
    "x = Dense(64,activation='relu')(x)\n",
    "encoder = Dense(32, activation='relu')(x)\n",
    "\n",
    "x = Dense(64, activation='relu')(encoder)\n",
    "x = Dense(128, activation='relu')(x)\n",
    "decoder = Dense(784, activation='sigmoid')(x)\n",
    "\n",
    "# encoder + decoder 연결\n",
    "encoder_model = Model(inputs=inp, outputs=encoder)\n",
    "autoencoder = Model(inputs=inp, outputs=decoder)\n",
    "\n",
    "autoencoder.compile(loss='binary_crossentropy', optimizer='adam')"
   ]
  },
  {
   "cell_type": "code",
   "execution_count": 12,
   "metadata": {},
   "outputs": [
    {
     "name": "stdout",
     "output_type": "stream",
     "text": [
      "Model: \"model_3\"\n",
      "_________________________________________________________________\n",
      " Layer (type)                Output Shape              Param #   \n",
      "=================================================================\n",
      " input_2 (InputLayer)        [(None, 784)]             0         \n",
      "                                                                 \n",
      " dense_6 (Dense)             (None, 128)               100480    \n",
      "                                                                 \n",
      " dense_7 (Dense)             (None, 64)                8256      \n",
      "                                                                 \n",
      " dense_8 (Dense)             (None, 32)                2080      \n",
      "                                                                 \n",
      " dense_9 (Dense)             (None, 64)                2112      \n",
      "                                                                 \n",
      " dense_10 (Dense)            (None, 128)               8320      \n",
      "                                                                 \n",
      " dense_11 (Dense)            (None, 784)               101136    \n",
      "                                                                 \n",
      "=================================================================\n",
      "Total params: 222,384\n",
      "Trainable params: 222,384\n",
      "Non-trainable params: 0\n",
      "_________________________________________________________________\n"
     ]
    }
   ],
   "source": [
    "autoencoder.summary()"
   ]
  },
  {
   "cell_type": "code",
   "execution_count": 13,
   "metadata": {},
   "outputs": [
    {
     "name": "stdout",
     "output_type": "stream",
     "text": [
      "Epoch 1/50\n",
      "235/235 [==============================] - 3s 8ms/step - loss: 0.3862 - val_loss: 0.3240\n",
      "Epoch 2/50\n",
      "235/235 [==============================] - 2s 7ms/step - loss: 0.3132 - val_loss: 0.3087\n",
      "Epoch 3/50\n",
      "235/235 [==============================] - 2s 7ms/step - loss: 0.3028 - val_loss: 0.3015\n",
      "Epoch 4/50\n",
      "235/235 [==============================] - 2s 8ms/step - loss: 0.2974 - val_loss: 0.2977\n",
      "Epoch 5/50\n",
      "235/235 [==============================] - 2s 8ms/step - loss: 0.2942 - val_loss: 0.2953\n",
      "Epoch 6/50\n",
      "235/235 [==============================] - 2s 8ms/step - loss: 0.2920 - val_loss: 0.2934\n",
      "Epoch 7/50\n",
      "235/235 [==============================] - 2s 8ms/step - loss: 0.2902 - val_loss: 0.2914\n",
      "Epoch 8/50\n",
      "235/235 [==============================] - 2s 7ms/step - loss: 0.2886 - val_loss: 0.2899\n",
      "Epoch 9/50\n",
      "235/235 [==============================] - 2s 8ms/step - loss: 0.2873 - val_loss: 0.2887\n",
      "Epoch 10/50\n",
      "235/235 [==============================] - 2s 7ms/step - loss: 0.2861 - val_loss: 0.2883\n",
      "Epoch 11/50\n",
      "235/235 [==============================] - 2s 7ms/step - loss: 0.2851 - val_loss: 0.2869\n",
      "Epoch 12/50\n",
      "235/235 [==============================] - 2s 7ms/step - loss: 0.2841 - val_loss: 0.2861\n",
      "Epoch 13/50\n",
      "235/235 [==============================] - 2s 7ms/step - loss: 0.2833 - val_loss: 0.2851\n",
      "Epoch 14/50\n",
      "235/235 [==============================] - 2s 7ms/step - loss: 0.2825 - val_loss: 0.2845\n",
      "Epoch 15/50\n",
      "235/235 [==============================] - 2s 7ms/step - loss: 0.2820 - val_loss: 0.2845\n",
      "Epoch 16/50\n",
      "235/235 [==============================] - 2s 7ms/step - loss: 0.2814 - val_loss: 0.2833\n",
      "Epoch 17/50\n",
      "235/235 [==============================] - 2s 7ms/step - loss: 0.2808 - val_loss: 0.2832\n",
      "Epoch 18/50\n",
      "235/235 [==============================] - 2s 7ms/step - loss: 0.2804 - val_loss: 0.2826\n",
      "Epoch 19/50\n",
      "235/235 [==============================] - 2s 7ms/step - loss: 0.2799 - val_loss: 0.2822\n",
      "Epoch 20/50\n",
      "235/235 [==============================] - 2s 7ms/step - loss: 0.2795 - val_loss: 0.2820\n",
      "Epoch 21/50\n",
      "235/235 [==============================] - 2s 7ms/step - loss: 0.2791 - val_loss: 0.2818\n",
      "Epoch 22/50\n",
      "235/235 [==============================] - 2s 7ms/step - loss: 0.2788 - val_loss: 0.2811\n",
      "Epoch 23/50\n",
      "235/235 [==============================] - 2s 7ms/step - loss: 0.2784 - val_loss: 0.2808\n",
      "Epoch 24/50\n",
      "235/235 [==============================] - 2s 7ms/step - loss: 0.2782 - val_loss: 0.2804\n",
      "Epoch 25/50\n",
      "235/235 [==============================] - 2s 7ms/step - loss: 0.2778 - val_loss: 0.2802\n",
      "Epoch 26/50\n",
      "235/235 [==============================] - 2s 7ms/step - loss: 0.2775 - val_loss: 0.2801\n",
      "Epoch 27/50\n",
      "235/235 [==============================] - 2s 8ms/step - loss: 0.2774 - val_loss: 0.2802\n",
      "Epoch 28/50\n",
      "235/235 [==============================] - 2s 8ms/step - loss: 0.2770 - val_loss: 0.2794\n",
      "Epoch 29/50\n",
      "235/235 [==============================] - 2s 8ms/step - loss: 0.2768 - val_loss: 0.2790\n",
      "Epoch 30/50\n",
      "235/235 [==============================] - 2s 7ms/step - loss: 0.2766 - val_loss: 0.2793\n",
      "Epoch 31/50\n",
      "235/235 [==============================] - 2s 7ms/step - loss: 0.2764 - val_loss: 0.2787\n",
      "Epoch 32/50\n",
      "235/235 [==============================] - 2s 7ms/step - loss: 0.2760 - val_loss: 0.2785\n",
      "Epoch 33/50\n",
      "235/235 [==============================] - 2s 7ms/step - loss: 0.2759 - val_loss: 0.2784\n",
      "Epoch 34/50\n",
      "235/235 [==============================] - 2s 7ms/step - loss: 0.2757 - val_loss: 0.2781\n",
      "Epoch 35/50\n",
      "235/235 [==============================] - 2s 8ms/step - loss: 0.2755 - val_loss: 0.2783\n",
      "Epoch 36/50\n",
      "235/235 [==============================] - 2s 7ms/step - loss: 0.2753 - val_loss: 0.2777\n",
      "Epoch 37/50\n",
      "235/235 [==============================] - 2s 7ms/step - loss: 0.2752 - val_loss: 0.2776\n",
      "Epoch 38/50\n",
      "235/235 [==============================] - 2s 7ms/step - loss: 0.2750 - val_loss: 0.2777\n",
      "Epoch 39/50\n",
      "235/235 [==============================] - 2s 8ms/step - loss: 0.2748 - val_loss: 0.2773\n",
      "Epoch 40/50\n",
      "235/235 [==============================] - 2s 7ms/step - loss: 0.2747 - val_loss: 0.2771\n",
      "Epoch 41/50\n",
      "235/235 [==============================] - 2s 7ms/step - loss: 0.2745 - val_loss: 0.2770\n",
      "Epoch 42/50\n",
      "235/235 [==============================] - 2s 7ms/step - loss: 0.2744 - val_loss: 0.2767\n",
      "Epoch 43/50\n",
      "235/235 [==============================] - 2s 7ms/step - loss: 0.2743 - val_loss: 0.2766\n",
      "Epoch 44/50\n",
      "235/235 [==============================] - 2s 8ms/step - loss: 0.2741 - val_loss: 0.2768\n",
      "Epoch 45/50\n",
      "235/235 [==============================] - 2s 7ms/step - loss: 0.2740 - val_loss: 0.2769\n",
      "Epoch 46/50\n",
      "235/235 [==============================] - 2s 7ms/step - loss: 0.2739 - val_loss: 0.2763\n",
      "Epoch 47/50\n",
      "235/235 [==============================] - 2s 6ms/step - loss: 0.2737 - val_loss: 0.2763\n",
      "Epoch 48/50\n",
      "235/235 [==============================] - 2s 7ms/step - loss: 0.2736 - val_loss: 0.2762\n",
      "Epoch 49/50\n",
      "235/235 [==============================] - 2s 7ms/step - loss: 0.2736 - val_loss: 0.2763\n",
      "Epoch 50/50\n",
      "235/235 [==============================] - 2s 7ms/step - loss: 0.2735 - val_loss: 0.2761\n"
     ]
    }
   ],
   "source": [
    "history = autoencoder.fit(X_train, X_train, epochs=50, shuffle=True,\n",
    "                          batch_size=256, validation_data=(X_test, X_test))"
   ]
  },
  {
   "cell_type": "markdown",
   "metadata": {},
   "source": [
    "- model summary 및 시각화"
   ]
  },
  {
   "cell_type": "code",
   "execution_count": 14,
   "metadata": {
    "scrolled": true
   },
   "outputs": [
    {
     "data": {
      "text/plain": [
       "<matplotlib.legend.Legend at 0x20066e3ce20>"
      ]
     },
     "execution_count": 14,
     "metadata": {},
     "output_type": "execute_result"
    },
    {
     "data": {
      "image/png": "[encoded data removed]",
      "text/plain": [
       "<Figure size 640x480 with 1 Axes>"
      ]
     },
     "metadata": {},
     "output_type": "display_data"
    }
   ],
   "source": [
    "plt.plot(history.history['loss'],label='Train Loss')\n",
    "plt.plot(history.history['val_loss'],label='Validation Loss')\n",
    "plt.legend()"
   ]
  },
  {
   "cell_type": "code",
   "execution_count": null,
   "metadata": {
    "scrolled": false
   },
   "outputs": [],
   "source": [
    "fig,ax = plt.subplots(3,10,figsize=(20,8))\n",
    "\n",
    "for i in range(10):\n",
    "    ax[0,i].imshow(X_test[i].reshape(28,28), cmap='gray') ## X_test.shape --> (10000,784), 시각화 위해 (28,28)\n",
    "    \n",
    "    img = np.expand_dims(X_test[i],axis=0)\n",
    "    result = encoder_model.predict(img, verbose=0)\n",
    "    ax[1,i].imshow(result.reshape(8,4), cmap='gray')\n",
    "    \n",
    "    result = autoencoder.predict(img, verbose=0)\n",
    "    ax[2,i].imshow(result.reshape(28,28),cmap='gray')\n",
    "    \n",
    "    ax[0,i].axis('off')\n",
    "    ax[1,i].axis('off')\n",
    "    ax[2,i].axis('off')"
   ]
  },
  {
   "cell_type": "code",
   "execution_count": null,
   "metadata": {},
   "outputs": [],
   "source": []
  }
 ],
 "metadata": {
  "accelerator": "GPU",
  "colab": {
   "collapsed_sections": [],
   "machine_shape": "hm",
   "name": "100_Autoencoder_basic_Dense.ipynb",
   "provenance": []
  },
  "kernelspec": {
   "display_name": "soyeon",
   "language": "python",
   "name": "soyeon"
  },
  "language_info": {
   "codemirror_mode": {
    "name": "ipython",
    "version": 3
   },
   "file_extension": ".py",
   "mimetype": "text/x-python",
   "name": "python",
   "nbconvert_exporter": "python",
   "pygments_lexer": "ipython3",
   "version": "3.8.13"
  }
 },
 "nbformat": 4,
 "nbformat_minor": 1
}
