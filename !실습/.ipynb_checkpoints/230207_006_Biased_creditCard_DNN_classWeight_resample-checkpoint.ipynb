{
 "cells": [
  {
   "cell_type": "markdown",
   "metadata": {
    "id": "SyQuWKAJt3xq"
   },
   "source": [
    "# Deep Learning model의 class weight 조정\n",
    "\n",
    "## DNN 이용, Class Weight 조정, OverSampling\n",
    "\n",
    "- Data 는 이전 실습 문제와 동일한 [Credit Card Fraud Detection](https://www.kaggle.com/mlg-ulb/creditcardfraud) - Kaggle"
   ]
  },
  {
   "cell_type": "code",
   "execution_count": 1,
   "metadata": {},
   "outputs": [],
   "source": [
    "import tensorflow as tf\n",
    "from tensorflow.keras.layers import Dense, Dropout\n",
    "\n",
    "import matplotlib as mpl\n",
    "import matplotlib.pyplot as plt\n",
    "import numpy as np\n",
    "import pandas as pd\n",
    "import seaborn as sns\n",
    "from collections import Counter\n",
    "from sklearn.metrics import confusion_matrix, f1_score\n",
    "from sklearn.metrics import accuracy_score, precision_score, recall_score, roc_curve, roc_auc_score\n",
    "\n",
    "from sklearn.model_selection import train_test_split\n",
    "from sklearn.preprocessing import StandardScaler\n",
    "mpl.rcParams['figure.figsize'] = (12, 10)"
   ]
  },
  {
   "cell_type": "markdown",
   "metadata": {
    "id": "IdW269nBt3x2"
   },
   "source": [
    "### Kaggle Credit Card Fraud dataset 다운로드"
   ]
  },
  {
   "cell_type": "code",
   "execution_count": 2,
   "metadata": {},
   "outputs": [
    {
     "data": {
      "text/html": [
       "<div>\n",
       "<style scoped>\n",
       "    .dataframe tbody tr th:only-of-type {\n",
       "        vertical-align: middle;\n",
       "    }\n",
       "\n",
       "    .dataframe tbody tr th {\n",
       "        vertical-align: top;\n",
       "    }\n",
       "\n",
       "    .dataframe thead th {\n",
       "        text-align: right;\n",
       "    }\n",
       "</style>\n",
       "<table border=\"1\" class=\"dataframe\">\n",
       "  <thead>\n",
       "    <tr style=\"text-align: right;\">\n",
       "      <th></th>\n",
       "      <th>Time</th>\n",
       "      <th>V1</th>\n",
       "      <th>V2</th>\n",
       "      <th>V3</th>\n",
       "      <th>V4</th>\n",
       "      <th>V5</th>\n",
       "      <th>V6</th>\n",
       "      <th>V7</th>\n",
       "      <th>V8</th>\n",
       "      <th>V9</th>\n",
       "      <th>...</th>\n",
       "      <th>V21</th>\n",
       "      <th>V22</th>\n",
       "      <th>V23</th>\n",
       "      <th>V24</th>\n",
       "      <th>V25</th>\n",
       "      <th>V26</th>\n",
       "      <th>V27</th>\n",
       "      <th>V28</th>\n",
       "      <th>Amount</th>\n",
       "      <th>Class</th>\n",
       "    </tr>\n",
       "  </thead>\n",
       "  <tbody>\n",
       "    <tr>\n",
       "      <th>0</th>\n",
       "      <td>0.0</td>\n",
       "      <td>-1.359807</td>\n",
       "      <td>-0.072781</td>\n",
       "      <td>2.536347</td>\n",
       "      <td>1.378155</td>\n",
       "      <td>-0.338321</td>\n",
       "      <td>0.462388</td>\n",
       "      <td>0.239599</td>\n",
       "      <td>0.098698</td>\n",
       "      <td>0.363787</td>\n",
       "      <td>...</td>\n",
       "      <td>-0.018307</td>\n",
       "      <td>0.277838</td>\n",
       "      <td>-0.110474</td>\n",
       "      <td>0.066928</td>\n",
       "      <td>0.128539</td>\n",
       "      <td>-0.189115</td>\n",
       "      <td>0.133558</td>\n",
       "      <td>-0.021053</td>\n",
       "      <td>149.62</td>\n",
       "      <td>0</td>\n",
       "    </tr>\n",
       "    <tr>\n",
       "      <th>1</th>\n",
       "      <td>0.0</td>\n",
       "      <td>1.191857</td>\n",
       "      <td>0.266151</td>\n",
       "      <td>0.166480</td>\n",
       "      <td>0.448154</td>\n",
       "      <td>0.060018</td>\n",
       "      <td>-0.082361</td>\n",
       "      <td>-0.078803</td>\n",
       "      <td>0.085102</td>\n",
       "      <td>-0.255425</td>\n",
       "      <td>...</td>\n",
       "      <td>-0.225775</td>\n",
       "      <td>-0.638672</td>\n",
       "      <td>0.101288</td>\n",
       "      <td>-0.339846</td>\n",
       "      <td>0.167170</td>\n",
       "      <td>0.125895</td>\n",
       "      <td>-0.008983</td>\n",
       "      <td>0.014724</td>\n",
       "      <td>2.69</td>\n",
       "      <td>0</td>\n",
       "    </tr>\n",
       "    <tr>\n",
       "      <th>2</th>\n",
       "      <td>1.0</td>\n",
       "      <td>-1.358354</td>\n",
       "      <td>-1.340163</td>\n",
       "      <td>1.773209</td>\n",
       "      <td>0.379780</td>\n",
       "      <td>-0.503198</td>\n",
       "      <td>1.800499</td>\n",
       "      <td>0.791461</td>\n",
       "      <td>0.247676</td>\n",
       "      <td>-1.514654</td>\n",
       "      <td>...</td>\n",
       "      <td>0.247998</td>\n",
       "      <td>0.771679</td>\n",
       "      <td>0.909412</td>\n",
       "      <td>-0.689281</td>\n",
       "      <td>-0.327642</td>\n",
       "      <td>-0.139097</td>\n",
       "      <td>-0.055353</td>\n",
       "      <td>-0.059752</td>\n",
       "      <td>378.66</td>\n",
       "      <td>0</td>\n",
       "    </tr>\n",
       "    <tr>\n",
       "      <th>3</th>\n",
       "      <td>1.0</td>\n",
       "      <td>-0.966272</td>\n",
       "      <td>-0.185226</td>\n",
       "      <td>1.792993</td>\n",
       "      <td>-0.863291</td>\n",
       "      <td>-0.010309</td>\n",
       "      <td>1.247203</td>\n",
       "      <td>0.237609</td>\n",
       "      <td>0.377436</td>\n",
       "      <td>-1.387024</td>\n",
       "      <td>...</td>\n",
       "      <td>-0.108300</td>\n",
       "      <td>0.005274</td>\n",
       "      <td>-0.190321</td>\n",
       "      <td>-1.175575</td>\n",
       "      <td>0.647376</td>\n",
       "      <td>-0.221929</td>\n",
       "      <td>0.062723</td>\n",
       "      <td>0.061458</td>\n",
       "      <td>123.50</td>\n",
       "      <td>0</td>\n",
       "    </tr>\n",
       "    <tr>\n",
       "      <th>4</th>\n",
       "      <td>2.0</td>\n",
       "      <td>-1.158233</td>\n",
       "      <td>0.877737</td>\n",
       "      <td>1.548718</td>\n",
       "      <td>0.403034</td>\n",
       "      <td>-0.407193</td>\n",
       "      <td>0.095921</td>\n",
       "      <td>0.592941</td>\n",
       "      <td>-0.270533</td>\n",
       "      <td>0.817739</td>\n",
       "      <td>...</td>\n",
       "      <td>-0.009431</td>\n",
       "      <td>0.798278</td>\n",
       "      <td>-0.137458</td>\n",
       "      <td>0.141267</td>\n",
       "      <td>-0.206010</td>\n",
       "      <td>0.502292</td>\n",
       "      <td>0.219422</td>\n",
       "      <td>0.215153</td>\n",
       "      <td>69.99</td>\n",
       "      <td>0</td>\n",
       "    </tr>\n",
       "  </tbody>\n",
       "</table>\n",
       "<p>5 rows × 31 columns</p>\n",
       "</div>"
      ],
      "text/plain": [
       "   Time        V1        V2        V3        V4        V5        V6        V7  \\\n",
       "0   0.0 -1.359807 -0.072781  2.536347  1.378155 -0.338321  0.462388  0.239599   \n",
       "1   0.0  1.191857  0.266151  0.166480  0.448154  0.060018 -0.082361 -0.078803   \n",
       "2   1.0 -1.358354 -1.340163  1.773209  0.379780 -0.503198  1.800499  0.791461   \n",
       "3   1.0 -0.966272 -0.185226  1.792993 -0.863291 -0.010309  1.247203  0.237609   \n",
       "4   2.0 -1.158233  0.877737  1.548718  0.403034 -0.407193  0.095921  0.592941   \n",
       "\n",
       "         V8        V9  ...       V21       V22       V23       V24       V25  \\\n",
       "0  0.098698  0.363787  ... -0.018307  0.277838 -0.110474  0.066928  0.128539   \n",
       "1  0.085102 -0.255425  ... -0.225775 -0.638672  0.101288 -0.339846  0.167170   \n",
       "2  0.247676 -1.514654  ...  0.247998  0.771679  0.909412 -0.689281 -0.327642   \n",
       "3  0.377436 -1.387024  ... -0.108300  0.005274 -0.190321 -1.175575  0.647376   \n",
       "4 -0.270533  0.817739  ... -0.009431  0.798278 -0.137458  0.141267 -0.206010   \n",
       "\n",
       "        V26       V27       V28  Amount  Class  \n",
       "0 -0.189115  0.133558 -0.021053  149.62      0  \n",
       "1  0.125895 -0.008983  0.014724    2.69      0  \n",
       "2 -0.139097 -0.055353 -0.059752  378.66      0  \n",
       "3 -0.221929  0.062723  0.061458  123.50      0  \n",
       "4  0.502292  0.219422  0.215153   69.99      0  \n",
       "\n",
       "[5 rows x 31 columns]"
      ]
     },
     "execution_count": 2,
     "metadata": {},
     "output_type": "execute_result"
    }
   ],
   "source": [
    "df = pd.read_csv('https://storage.googleapis.com/download.tensorflow.org/data/creditcard.csv')\n",
    "df.head()"
   ]
  },
  {
   "cell_type": "markdown",
   "metadata": {
    "id": "738aexZRt3x-"
   },
   "source": [
    "### 클래스 레이블 불균형 조사"
   ]
  },
  {
   "cell_type": "code",
   "execution_count": 3,
   "metadata": {},
   "outputs": [
    {
     "data": {
      "text/plain": [
       "0    284315\n",
       "1       492\n",
       "Name: Class, dtype: int64"
      ]
     },
     "execution_count": 3,
     "metadata": {},
     "output_type": "execute_result"
    }
   ],
   "source": [
    "df['Class'].value_counts()"
   ]
  },
  {
   "cell_type": "code",
   "execution_count": 4,
   "metadata": {},
   "outputs": [
    {
     "name": "stdout",
     "output_type": "stream",
     "text": [
      "Total 건수: 284807\n",
      "Positive 건수/비율: 284315 (99.83%)\n"
     ]
    }
   ],
   "source": [
    "pos, neg = df['Class'].value_counts().values.tolist()\n",
    "total = neg + pos\n",
    "print(f'Total 건수: {total}\\nPositive 건수/비율: {pos} ({pos/total*100:.2f}%)')"
   ]
  },
  {
   "cell_type": "markdown",
   "metadata": {
    "id": "USH9Dhvjt3yG"
   },
   "source": [
    "## Data 전처리 \n",
    "\n",
    "- 2 일 동안의 data가 00:00:00 부터 발생했으므로 Time을 일중 시간으로 변경 : time / 3600 초 % 24 시간  \n",
    "- Amount column 은 편차가 크므로 log-scale 로 변환"
   ]
  },
  {
   "cell_type": "code",
   "execution_count": 5,
   "metadata": {},
   "outputs": [
    {
     "data": {
      "text/html": [
       "<div>\n",
       "<style scoped>\n",
       "    .dataframe tbody tr th:only-of-type {\n",
       "        vertical-align: middle;\n",
       "    }\n",
       "\n",
       "    .dataframe tbody tr th {\n",
       "        vertical-align: top;\n",
       "    }\n",
       "\n",
       "    .dataframe thead th {\n",
       "        text-align: right;\n",
       "    }\n",
       "</style>\n",
       "<table border=\"1\" class=\"dataframe\">\n",
       "  <thead>\n",
       "    <tr style=\"text-align: right;\">\n",
       "      <th></th>\n",
       "      <th>Time</th>\n",
       "      <th>V1</th>\n",
       "      <th>V2</th>\n",
       "      <th>V3</th>\n",
       "      <th>V4</th>\n",
       "      <th>V5</th>\n",
       "      <th>V6</th>\n",
       "      <th>V7</th>\n",
       "      <th>V8</th>\n",
       "      <th>V9</th>\n",
       "      <th>...</th>\n",
       "      <th>V21</th>\n",
       "      <th>V22</th>\n",
       "      <th>V23</th>\n",
       "      <th>V24</th>\n",
       "      <th>V25</th>\n",
       "      <th>V26</th>\n",
       "      <th>V27</th>\n",
       "      <th>V28</th>\n",
       "      <th>Class</th>\n",
       "      <th>Amount</th>\n",
       "    </tr>\n",
       "  </thead>\n",
       "  <tbody>\n",
       "    <tr>\n",
       "      <th>0</th>\n",
       "      <td>0.000000</td>\n",
       "      <td>-1.359807</td>\n",
       "      <td>-0.072781</td>\n",
       "      <td>2.536347</td>\n",
       "      <td>1.378155</td>\n",
       "      <td>-0.338321</td>\n",
       "      <td>0.462388</td>\n",
       "      <td>0.239599</td>\n",
       "      <td>0.098698</td>\n",
       "      <td>0.363787</td>\n",
       "      <td>...</td>\n",
       "      <td>-0.018307</td>\n",
       "      <td>0.277838</td>\n",
       "      <td>-0.110474</td>\n",
       "      <td>0.066928</td>\n",
       "      <td>0.128539</td>\n",
       "      <td>-0.189115</td>\n",
       "      <td>0.133558</td>\n",
       "      <td>-0.021053</td>\n",
       "      <td>0</td>\n",
       "      <td>5.008105</td>\n",
       "    </tr>\n",
       "    <tr>\n",
       "      <th>1</th>\n",
       "      <td>0.000000</td>\n",
       "      <td>1.191857</td>\n",
       "      <td>0.266151</td>\n",
       "      <td>0.166480</td>\n",
       "      <td>0.448154</td>\n",
       "      <td>0.060018</td>\n",
       "      <td>-0.082361</td>\n",
       "      <td>-0.078803</td>\n",
       "      <td>0.085102</td>\n",
       "      <td>-0.255425</td>\n",
       "      <td>...</td>\n",
       "      <td>-0.225775</td>\n",
       "      <td>-0.638672</td>\n",
       "      <td>0.101288</td>\n",
       "      <td>-0.339846</td>\n",
       "      <td>0.167170</td>\n",
       "      <td>0.125895</td>\n",
       "      <td>-0.008983</td>\n",
       "      <td>0.014724</td>\n",
       "      <td>0</td>\n",
       "      <td>0.989913</td>\n",
       "    </tr>\n",
       "    <tr>\n",
       "      <th>2</th>\n",
       "      <td>0.000278</td>\n",
       "      <td>-1.358354</td>\n",
       "      <td>-1.340163</td>\n",
       "      <td>1.773209</td>\n",
       "      <td>0.379780</td>\n",
       "      <td>-0.503198</td>\n",
       "      <td>1.800499</td>\n",
       "      <td>0.791461</td>\n",
       "      <td>0.247676</td>\n",
       "      <td>-1.514654</td>\n",
       "      <td>...</td>\n",
       "      <td>0.247998</td>\n",
       "      <td>0.771679</td>\n",
       "      <td>0.909412</td>\n",
       "      <td>-0.689281</td>\n",
       "      <td>-0.327642</td>\n",
       "      <td>-0.139097</td>\n",
       "      <td>-0.055353</td>\n",
       "      <td>-0.059752</td>\n",
       "      <td>0</td>\n",
       "      <td>5.936641</td>\n",
       "    </tr>\n",
       "    <tr>\n",
       "      <th>3</th>\n",
       "      <td>0.000278</td>\n",
       "      <td>-0.966272</td>\n",
       "      <td>-0.185226</td>\n",
       "      <td>1.792993</td>\n",
       "      <td>-0.863291</td>\n",
       "      <td>-0.010309</td>\n",
       "      <td>1.247203</td>\n",
       "      <td>0.237609</td>\n",
       "      <td>0.377436</td>\n",
       "      <td>-1.387024</td>\n",
       "      <td>...</td>\n",
       "      <td>-0.108300</td>\n",
       "      <td>0.005274</td>\n",
       "      <td>-0.190321</td>\n",
       "      <td>-1.175575</td>\n",
       "      <td>0.647376</td>\n",
       "      <td>-0.221929</td>\n",
       "      <td>0.062723</td>\n",
       "      <td>0.061458</td>\n",
       "      <td>0</td>\n",
       "      <td>4.816249</td>\n",
       "    </tr>\n",
       "    <tr>\n",
       "      <th>4</th>\n",
       "      <td>0.000556</td>\n",
       "      <td>-1.158233</td>\n",
       "      <td>0.877737</td>\n",
       "      <td>1.548718</td>\n",
       "      <td>0.403034</td>\n",
       "      <td>-0.407193</td>\n",
       "      <td>0.095921</td>\n",
       "      <td>0.592941</td>\n",
       "      <td>-0.270533</td>\n",
       "      <td>0.817739</td>\n",
       "      <td>...</td>\n",
       "      <td>-0.009431</td>\n",
       "      <td>0.798278</td>\n",
       "      <td>-0.137458</td>\n",
       "      <td>0.141267</td>\n",
       "      <td>-0.206010</td>\n",
       "      <td>0.502292</td>\n",
       "      <td>0.219422</td>\n",
       "      <td>0.215153</td>\n",
       "      <td>0</td>\n",
       "      <td>4.248367</td>\n",
       "    </tr>\n",
       "  </tbody>\n",
       "</table>\n",
       "<p>5 rows × 31 columns</p>\n",
       "</div>"
      ],
      "text/plain": [
       "       Time        V1        V2        V3        V4        V5        V6  \\\n",
       "0  0.000000 -1.359807 -0.072781  2.536347  1.378155 -0.338321  0.462388   \n",
       "1  0.000000  1.191857  0.266151  0.166480  0.448154  0.060018 -0.082361   \n",
       "2  0.000278 -1.358354 -1.340163  1.773209  0.379780 -0.503198  1.800499   \n",
       "3  0.000278 -0.966272 -0.185226  1.792993 -0.863291 -0.010309  1.247203   \n",
       "4  0.000556 -1.158233  0.877737  1.548718  0.403034 -0.407193  0.095921   \n",
       "\n",
       "         V7        V8        V9  ...       V21       V22       V23       V24  \\\n",
       "0  0.239599  0.098698  0.363787  ... -0.018307  0.277838 -0.110474  0.066928   \n",
       "1 -0.078803  0.085102 -0.255425  ... -0.225775 -0.638672  0.101288 -0.339846   \n",
       "2  0.791461  0.247676 -1.514654  ...  0.247998  0.771679  0.909412 -0.689281   \n",
       "3  0.237609  0.377436 -1.387024  ... -0.108300  0.005274 -0.190321 -1.175575   \n",
       "4  0.592941 -0.270533  0.817739  ... -0.009431  0.798278 -0.137458  0.141267   \n",
       "\n",
       "        V25       V26       V27       V28  Class    Amount  \n",
       "0  0.128539 -0.189115  0.133558 -0.021053      0  5.008105  \n",
       "1  0.167170  0.125895 -0.008983  0.014724      0  0.989913  \n",
       "2 -0.327642 -0.139097 -0.055353 -0.059752      0  5.936641  \n",
       "3  0.647376 -0.221929  0.062723  0.061458      0  4.816249  \n",
       "4 -0.206010  0.502292  0.219422  0.215153      0  4.248367  \n",
       "\n",
       "[5 rows x 31 columns]"
      ]
     },
     "execution_count": 5,
     "metadata": {},
     "output_type": "execute_result"
    }
   ],
   "source": [
    "cleaned_df = df.copy()\n",
    "\n",
    "# Time 을 일중 시간으로 변환\n",
    "cleaned_df.loc[:, \"Time\"] = cleaned_df.loc[:, \"Time\"].apply(lambda x : x / 3600 % 24) \n",
    "\n",
    "# Amount column 은 편차가 크므로 log-scale 로 변환\n",
    "eps=0.001     \n",
    "cleaned_df['Amount'] = np.log(cleaned_df.pop('Amount') + eps)\n",
    "\n",
    "cleaned_df.head()"
   ]
  },
  {
   "cell_type": "code",
   "execution_count": 6,
   "metadata": {},
   "outputs": [
    {
     "data": {
      "text/plain": [
       "<AxesSubplot: ylabel='Frequency'>"
      ]
     },
     "execution_count": 6,
     "metadata": {},
     "output_type": "execute_result"
    },
    {
     "data": {
      "image/png": "[encoded data removed]",
      "text/plain": [
       "<Figure size 800x300 with 2 Axes>"
      ]
     },
     "metadata": {},
     "output_type": "display_data"
    }
   ],
   "source": [
    "fig, (ax1, ax2) = plt.subplots(1, 2, figsize=(8, 3))\n",
    "df['Amount'].plot(kind='hist', ax=ax1)\n",
    "cleaned_df['Amount'].plot(kind='hist', ax=ax2)"
   ]
  },
  {
   "cell_type": "code",
   "execution_count": 7,
   "metadata": {},
   "outputs": [
    {
     "data": {
      "text/plain": [
       "array([0, 0, 0, ..., 0, 0, 0], dtype=int64)"
      ]
     },
     "execution_count": 7,
     "metadata": {},
     "output_type": "execute_result"
    }
   ],
   "source": [
    "labels = np.array(cleaned_df.pop('Class'))\n",
    "labels"
   ]
  },
  {
   "cell_type": "code",
   "execution_count": 8,
   "metadata": {},
   "outputs": [
    {
     "data": {
      "text/plain": [
       "(284807, 30)"
      ]
     },
     "execution_count": 8,
     "metadata": {},
     "output_type": "execute_result"
    }
   ],
   "source": [
    "features = cleaned_df.values\n",
    "features.shape"
   ]
  },
  {
   "cell_type": "code",
   "execution_count": 9,
   "metadata": {},
   "outputs": [
    {
     "data": {
      "text/plain": [
       "<AxesSubplot: ylabel='count'>"
      ]
     },
     "execution_count": 9,
     "metadata": {},
     "output_type": "execute_result"
    },
    {
     "data": {
      "image/png": "[encoded data removed]",
      "text/plain": [
       "<Figure size 600x400 with 1 Axes>"
      ]
     },
     "metadata": {},
     "output_type": "display_data"
    }
   ],
   "source": [
    "plt.figure(figsize=(6, 4))\n",
    "sns.countplot(x=labels)"
   ]
  },
  {
   "cell_type": "markdown",
   "metadata": {
    "id": "q0AhbQkT_XS2"
   },
   "source": [
    "### Dataset 을 Training 과 Test set 으로 분리"
   ]
  },
  {
   "cell_type": "code",
   "execution_count": 10,
   "metadata": {},
   "outputs": [
    {
     "data": {
      "text/plain": [
       "((142403, 30), (142404, 30), (142403,), (142404,))"
      ]
     },
     "execution_count": 10,
     "metadata": {},
     "output_type": "execute_result"
    }
   ],
   "source": [
    "X_train, X_test, y_train, y_test = train_test_split(features, labels, \n",
    "                                test_size=0.5, random_state=0, stratify=labels)\n",
    "\n",
    "X_train.shape, X_test.shape, y_train.shape, y_test.shape"
   ]
  },
  {
   "cell_type": "code",
   "execution_count": 11,
   "metadata": {},
   "outputs": [
    {
     "name": "stdout",
     "output_type": "stream",
     "text": [
      "전체 data의 positive 건수 :  Counter({0: 284315, 1: 492})\n",
      "Train set 의 positive 건수 :  Counter({0: 142157, 1: 246})\n",
      "Test set 의 positive 건수 :  Counter({0: 142158, 1: 246})\n"
     ]
    }
   ],
   "source": [
    "print(\"전체 data의 positive 건수 : \", Counter(labels))\n",
    "print(\"Train set 의 positive 건수 : \", Counter(y_train))\n",
    "print(\"Test set 의 positive 건수 : \", Counter(y_test))"
   ]
  },
  {
   "cell_type": "markdown",
   "metadata": {
    "id": "HbTDWeFP-W2t"
   },
   "source": [
    "## Feature Scaling"
   ]
  },
  {
   "cell_type": "code",
   "execution_count": 12,
   "metadata": {},
   "outputs": [],
   "source": [
    "sc = StandardScaler()\n",
    "X_train = sc.fit_transform(X_train)\n",
    "X_test  = sc.transform(X_test)"
   ]
  },
  {
   "cell_type": "markdown",
   "metadata": {
    "id": "putdDmMN-W2t"
   },
   "source": [
    "### Metrics 정의\n",
    "- model train 중 측정할 metric  정의"
   ]
  },
  {
   "cell_type": "code",
   "execution_count": 13,
   "metadata": {},
   "outputs": [],
   "source": [
    "METRIC = tf.keras.metrics.AUC(name='auc')"
   ]
  },
  {
   "cell_type": "markdown",
   "metadata": {
    "id": "ejjpZM9Kt3ym"
   },
   "source": [
    "## Simple NN model 정의 - 이진 분류 모델"
   ]
  },
  {
   "cell_type": "code",
   "execution_count": 14,
   "metadata": {},
   "outputs": [],
   "source": [
    "# relu = max(0,x)"
   ]
  },
  {
   "cell_type": "code",
   "execution_count": 15,
   "metadata": {},
   "outputs": [
    {
     "data": {
      "text/plain": [
       "(142403, 30)"
      ]
     },
     "execution_count": 15,
     "metadata": {},
     "output_type": "execute_result"
    }
   ],
   "source": [
    "X_train.shape"
   ]
  },
  {
   "cell_type": "code",
   "execution_count": 16,
   "metadata": {},
   "outputs": [
    {
     "name": "stdout",
     "output_type": "stream",
     "text": [
      "Model: \"sequential\"\n",
      "_________________________________________________________________\n",
      " Layer (type)                Output Shape              Param #   \n",
      "=================================================================\n",
      " dense (Dense)               (None, 32)                992       \n",
      "                                                                 \n",
      " dropout (Dropout)           (None, 32)                0         \n",
      "                                                                 \n",
      " dense_1 (Dense)             (None, 16)                528       \n",
      "                                                                 \n",
      " dropout_1 (Dropout)         (None, 16)                0         \n",
      "                                                                 \n",
      " dense_2 (Dense)             (None, 1)                 17        \n",
      "                                                                 \n",
      "=================================================================\n",
      "Total params: 1,537\n",
      "Trainable params: 1,537\n",
      "Non-trainable params: 0\n",
      "_________________________________________________________________\n"
     ]
    }
   ],
   "source": [
    "model = tf.keras.Sequential([\n",
    "    Dense(32, activation='relu', input_shape=(X_train.shape[-1],)),\n",
    "    Dropout(0.2),\n",
    "    Dense(16, activation='relu'),\n",
    "    Dropout(0.2),\n",
    "    Dense(1, activation='sigmoid')\n",
    "])\n",
    "\n",
    "model.summary()"
   ]
  },
  {
   "cell_type": "code",
   "execution_count": 17,
   "metadata": {},
   "outputs": [],
   "source": [
    "def make_model():\n",
    "    \n",
    "    model = tf.keras.Sequential([\n",
    "        Dense(32, activation='relu', input_shape=(X_train.shape[-1],)),\n",
    "        Dropout(0.2),\n",
    "        Dense(16, activation='relu'),\n",
    "        Dropout(0.2),\n",
    "        Dense(1, activation='sigmoid')\n",
    "    ])\n",
    "    model.compile(optimizer=tf.keras.optimizers.Adam(learning_rate=0.01), loss='binary_crossentropy',\n",
    "             metrics=[METRIC,'accuracy'])\n",
    "    return model"
   ]
  },
  {
   "cell_type": "markdown",
   "metadata": {
    "id": "YuB7VrmAt3yr"
   },
   "source": [
    "### Baseline model build"
   ]
  },
  {
   "cell_type": "code",
   "execution_count": 18,
   "metadata": {},
   "outputs": [],
   "source": [
    "EPOCHS = 100\n",
    "BATCH_SIZE = 2048\n",
    "early_stopping=tf.keras.callbacks.EarlyStopping(monitor='val_auc',\n",
    "                                                verbose=1,\n",
    "                                                patience=10,\n",
    "                                                mode='max',\n",
    "                                                restore_best_weights=True)"
   ]
  },
  {
   "cell_type": "code",
   "execution_count": 19,
   "metadata": {},
   "outputs": [
    {
     "name": "stdout",
     "output_type": "stream",
     "text": [
      "Model: \"sequential_1\"\n",
      "_________________________________________________________________\n",
      " Layer (type)                Output Shape              Param #   \n",
      "=================================================================\n",
      " dense_3 (Dense)             (None, 32)                992       \n",
      "                                                                 \n",
      " dropout_2 (Dropout)         (None, 32)                0         \n",
      "                                                                 \n",
      " dense_4 (Dense)             (None, 16)                528       \n",
      "                                                                 \n",
      " dropout_3 (Dropout)         (None, 16)                0         \n",
      "                                                                 \n",
      " dense_5 (Dense)             (None, 1)                 17        \n",
      "                                                                 \n",
      "=================================================================\n",
      "Total params: 1,537\n",
      "Trainable params: 1,537\n",
      "Non-trainable params: 0\n",
      "_________________________________________________________________\n"
     ]
    }
   ],
   "source": [
    "base_model = make_model()\n",
    "base_model.summary()"
   ]
  },
  {
   "cell_type": "markdown",
   "metadata": {
    "id": "B-Ftgdtct3zb"
   },
   "source": [
    "## Train the model"
   ]
  },
  {
   "cell_type": "code",
   "execution_count": 20,
   "metadata": {},
   "outputs": [
    {
     "name": "stdout",
     "output_type": "stream",
     "text": [
      "Epoch 1/100\n",
      "70/70 [==============================] - 4s 25ms/step - loss: 0.0256 - auc: 0.7826 - accuracy: 0.9970 - val_loss: 0.0048 - val_auc: 0.9140 - val_accuracy: 0.9984\n",
      "Epoch 2/100\n",
      "70/70 [==============================] - 1s 14ms/step - loss: 0.0047 - auc: 0.9287 - accuracy: 0.9990 - val_loss: 0.0040 - val_auc: 0.9223 - val_accuracy: 0.9994\n",
      "Epoch 3/100\n",
      "70/70 [==============================] - 1s 14ms/step - loss: 0.0042 - auc: 0.9354 - accuracy: 0.9992 - val_loss: 0.0039 - val_auc: 0.9304 - val_accuracy: 0.9993\n",
      "Epoch 4/100\n",
      "70/70 [==============================] - 1s 15ms/step - loss: 0.0038 - auc: 0.9438 - accuracy: 0.9992 - val_loss: 0.0040 - val_auc: 0.9265 - val_accuracy: 0.9993\n",
      "Epoch 5/100\n",
      "70/70 [==============================] - 1s 17ms/step - loss: 0.0035 - auc: 0.9520 - accuracy: 0.9991 - val_loss: 0.0040 - val_auc: 0.9225 - val_accuracy: 0.9993\n",
      "Epoch 6/100\n",
      "70/70 [==============================] - 1s 15ms/step - loss: 0.0032 - auc: 0.9524 - accuracy: 0.9992 - val_loss: 0.0037 - val_auc: 0.9325 - val_accuracy: 0.9993\n",
      "Epoch 7/100\n",
      "70/70 [==============================] - 1s 18ms/step - loss: 0.0030 - auc: 0.9603 - accuracy: 0.9992 - val_loss: 0.0038 - val_auc: 0.9306 - val_accuracy: 0.9993\n",
      "Epoch 8/100\n",
      "70/70 [==============================] - 1s 19ms/step - loss: 0.0029 - auc: 0.9585 - accuracy: 0.9992 - val_loss: 0.0038 - val_auc: 0.9246 - val_accuracy: 0.9994\n",
      "Epoch 9/100\n",
      "70/70 [==============================] - 1s 16ms/step - loss: 0.0026 - auc: 0.9627 - accuracy: 0.9993 - val_loss: 0.0037 - val_auc: 0.9265 - val_accuracy: 0.9994\n",
      "Epoch 10/100\n",
      "70/70 [==============================] - 1s 15ms/step - loss: 0.0026 - auc: 0.9648 - accuracy: 0.9992 - val_loss: 0.0036 - val_auc: 0.9305 - val_accuracy: 0.9994\n",
      "Epoch 11/100\n",
      "70/70 [==============================] - 1s 19ms/step - loss: 0.0025 - auc: 0.9669 - accuracy: 0.9992 - val_loss: 0.0036 - val_auc: 0.9347 - val_accuracy: 0.9993\n",
      "Epoch 12/100\n",
      "70/70 [==============================] - 2s 22ms/step - loss: 0.0024 - auc: 0.9690 - accuracy: 0.9992 - val_loss: 0.0034 - val_auc: 0.9345 - val_accuracy: 0.9994\n",
      "Epoch 13/100\n",
      "70/70 [==============================] - 2s 22ms/step - loss: 0.0025 - auc: 0.9667 - accuracy: 0.9992 - val_loss: 0.0039 - val_auc: 0.9225 - val_accuracy: 0.9993\n",
      "Epoch 14/100\n",
      "70/70 [==============================] - 2s 23ms/step - loss: 0.0023 - auc: 0.9710 - accuracy: 0.9993 - val_loss: 0.0038 - val_auc: 0.9326 - val_accuracy: 0.9993\n",
      "Epoch 15/100\n",
      "70/70 [==============================] - 2s 30ms/step - loss: 0.0024 - auc: 0.9730 - accuracy: 0.9992 - val_loss: 0.0039 - val_auc: 0.9327 - val_accuracy: 0.9993\n",
      "Epoch 16/100\n",
      "70/70 [==============================] - 1s 21ms/step - loss: 0.0020 - auc: 0.9773 - accuracy: 0.9992 - val_loss: 0.0039 - val_auc: 0.9266 - val_accuracy: 0.9993\n",
      "Epoch 17/100\n",
      "70/70 [==============================] - 2s 23ms/step - loss: 0.0020 - auc: 0.9793 - accuracy: 0.9992 - val_loss: 0.0038 - val_auc: 0.9367 - val_accuracy: 0.9994\n",
      "Epoch 18/100\n",
      "70/70 [==============================] - 1s 18ms/step - loss: 0.0021 - auc: 0.9771 - accuracy: 0.9992 - val_loss: 0.0038 - val_auc: 0.9366 - val_accuracy: 0.9994\n",
      "Epoch 19/100\n",
      "70/70 [==============================] - 1s 14ms/step - loss: 0.0021 - auc: 0.9792 - accuracy: 0.9992 - val_loss: 0.0041 - val_auc: 0.9246 - val_accuracy: 0.9994\n",
      "Epoch 20/100\n",
      "70/70 [==============================] - 1s 14ms/step - loss: 0.0020 - auc: 0.9813 - accuracy: 0.9993 - val_loss: 0.0036 - val_auc: 0.9386 - val_accuracy: 0.9994\n",
      "Epoch 21/100\n",
      "70/70 [==============================] - 1s 16ms/step - loss: 0.0020 - auc: 0.9854 - accuracy: 0.9992 - val_loss: 0.0038 - val_auc: 0.9345 - val_accuracy: 0.9994\n",
      "Epoch 22/100\n",
      "70/70 [==============================] - 1s 13ms/step - loss: 0.0020 - auc: 0.9792 - accuracy: 0.9993 - val_loss: 0.0039 - val_auc: 0.9326 - val_accuracy: 0.9994\n",
      "Epoch 23/100\n",
      "70/70 [==============================] - 1s 16ms/step - loss: 0.0018 - auc: 0.9855 - accuracy: 0.9995 - val_loss: 0.0045 - val_auc: 0.9165 - val_accuracy: 0.9994\n",
      "Epoch 24/100\n",
      "70/70 [==============================] - 1s 13ms/step - loss: 0.0019 - auc: 0.9813 - accuracy: 0.9995 - val_loss: 0.0042 - val_auc: 0.9266 - val_accuracy: 0.9994\n",
      "Epoch 25/100\n",
      "70/70 [==============================] - 1s 14ms/step - loss: 0.0018 - auc: 0.9814 - accuracy: 0.9995 - val_loss: 0.0045 - val_auc: 0.9226 - val_accuracy: 0.9994\n",
      "Epoch 26/100\n",
      "70/70 [==============================] - 1s 12ms/step - loss: 0.0018 - auc: 0.9834 - accuracy: 0.9995 - val_loss: 0.0041 - val_auc: 0.9325 - val_accuracy: 0.9994\n",
      "Epoch 27/100\n",
      "70/70 [==============================] - 1s 13ms/step - loss: 0.0019 - auc: 0.9895 - accuracy: 0.9995 - val_loss: 0.0044 - val_auc: 0.9266 - val_accuracy: 0.9994\n",
      "Epoch 28/100\n",
      "70/70 [==============================] - 1s 12ms/step - loss: 0.0019 - auc: 0.9834 - accuracy: 0.9995 - val_loss: 0.0042 - val_auc: 0.9306 - val_accuracy: 0.9994\n",
      "Epoch 29/100\n",
      "70/70 [==============================] - 1s 15ms/step - loss: 0.0018 - auc: 0.9835 - accuracy: 0.9995 - val_loss: 0.0044 - val_auc: 0.9307 - val_accuracy: 0.9994\n",
      "Epoch 30/100\n",
      "65/70 [==========================>...] - ETA: 0s - loss: 0.0018 - auc: 0.9824 - accuracy: 0.9995Restoring model weights from the end of the best epoch: 20.\n",
      "70/70 [==============================] - 1s 18ms/step - loss: 0.0017 - auc: 0.9835 - accuracy: 0.9995 - val_loss: 0.0044 - val_auc: 0.9306 - val_accuracy: 0.9994\n",
      "Epoch 30: early stopping\n"
     ]
    }
   ],
   "source": [
    "baseline_history = base_model.fit(X_train, y_train, batch_size=BATCH_SIZE,\n",
    "                                 epochs=EPOCHS, callbacks=[early_stopping],\n",
    "                                 validation_data=(X_test,y_test))"
   ]
  },
  {
   "cell_type": "code",
   "execution_count": 21,
   "metadata": {},
   "outputs": [
    {
     "data": {
      "text/plain": [
       "(0.9994101524353027, 0.930622398853302)"
      ]
     },
     "execution_count": 21,
     "metadata": {},
     "output_type": "execute_result"
    }
   ],
   "source": [
    "baseline_history.history['val_accuracy'][-1],baseline_history.history['val_auc'][-1]"
   ]
  },
  {
   "cell_type": "markdown",
   "metadata": {
    "id": "PROwAK95t3zl"
   },
   "source": [
    "## Evaluate Metric\n",
    "\n",
    "- confusion matrix 를 이용하여 metrics 요약"
   ]
  },
  {
   "cell_type": "code",
   "execution_count": 22,
   "metadata": {},
   "outputs": [
    {
     "name": "stdout",
     "output_type": "stream",
     "text": [
      "4451/4451 [==============================] - 13s 3ms/step\n"
     ]
    },
    {
     "data": {
      "text/plain": [
       "(142404, 1)"
      ]
     },
     "execution_count": 22,
     "metadata": {},
     "output_type": "execute_result"
    }
   ],
   "source": [
    "prediction_baseline = base_model.predict(X_test)\n",
    "prediction_baseline.shape"
   ]
  },
  {
   "cell_type": "code",
   "execution_count": 23,
   "metadata": {},
   "outputs": [
    {
     "data": {
      "text/plain": [
       "array([[1.8545253e-10],\n",
       "       [4.2873003e-09],\n",
       "       [1.4966338e-09],\n",
       "       ...,\n",
       "       [1.5700697e-12],\n",
       "       [5.3989243e-14],\n",
       "       [4.1373846e-07]], dtype=float32)"
      ]
     },
     "execution_count": 23,
     "metadata": {},
     "output_type": "execute_result"
    }
   ],
   "source": [
    "prediction_baseline"
   ]
  },
  {
   "cell_type": "markdown",
   "metadata": {
    "id": "LWD-EIM7t3zt"
   },
   "source": [
    "### Test dataset 으로 모델을 평가 하고, confusion matrix 를 그린다"
   ]
  },
  {
   "cell_type": "code",
   "execution_count": 24,
   "metadata": {},
   "outputs": [],
   "source": [
    "def plot_cm(y_test, y_pred_prob, threshold):\n",
    "    \n",
    "    y_pred = y_pred_prob > threshold\n",
    "    \n",
    "    cm = confusion_matrix(y_test, y_pred)\n",
    "    \n",
    "    print(\"f1 score:\", f1_score(y_test, y_pred))\n",
    "    print(\"Accuracy\", accuracy_score(y_test, y_pred))\n",
    "    print(\"Precision\", precision_score(y_test, y_pred))\n",
    "    print(\"Recall\", recall_score(y_test, y_pred))\n",
    "    \n",
    "    plt.figure(figsize=(5,5))\n",
    "\n",
    "    sns.heatmap(cm, annot=True, fmt=\"d\")\n",
    "    plt.title('Confusion matrix (threshold>{:.2f}) '.format(threshold))\n",
    "    plt.ylabel('Actual label')\n",
    "    plt.xlabel('Predicted label')"
   ]
  },
  {
   "cell_type": "code",
   "execution_count": 25,
   "metadata": {},
   "outputs": [
    {
     "name": "stdout",
     "output_type": "stream",
     "text": [
      "f1 score: 0.8036117381489842\n",
      "Accuracy 0.999389062104997\n",
      "Precision 0.9035532994923858\n",
      "Recall 0.7235772357723578\n"
     ]
    },
    {
     "data": {
      "image/png": "[encoded data removed]",
      "text/plain": [
       "<Figure size 500x500 with 2 Axes>"
      ]
     },
     "metadata": {},
     "output_type": "display_data"
    }
   ],
   "source": [
    "plot_cm(y_test, prediction_baseline, threshold=0.5)"
   ]
  },
  {
   "cell_type": "markdown",
   "metadata": {
    "id": "-P-iJJ1pt3z5"
   },
   "source": [
    "## Class Weight 조정\n",
    "\n",
    "사용할 positive 샘플이 많지 않기 때문에 가용한 적은 수의 sample 에 classifier 가 더 비중을 두도록 할 수 있다.  이는 모델이 과소 표현된 클래스의 샘플에 `더 많은주의를 기울이도록` 지시하는 데 유용.\n",
    "\n",
    "step1 - 레이블 및 관련 가중치로 dictionary 정의 \n",
    "```\n",
    "class_weight ={0: 0.5008652375006595, 1: 289.43800813008136}\n",
    "```                \n",
    "step2 - dictionary를 매개 변수로 공급:  \n",
    "```\n",
    "    model.fit(X_train, Y_train, nb_epoch=5, batch_size=32, class_weight=class_weight)\n",
    "```\n",
    "\n",
    "- loss function 계산 시 class_weight 에 지정된 대로 가중 평균"
   ]
  },
  {
   "cell_type": "code",
   "execution_count": 26,
   "metadata": {},
   "outputs": [
    {
     "data": {
      "text/plain": [
       "(284315, 492, 284807)"
      ]
     },
     "execution_count": 26,
     "metadata": {},
     "output_type": "execute_result"
    }
   ],
   "source": [
    "pos, neg, total"
   ]
  },
  {
   "cell_type": "code",
   "execution_count": 27,
   "metadata": {},
   "outputs": [
    {
     "data": {
      "text/plain": [
       "1.001730475001319"
      ]
     },
     "execution_count": 27,
     "metadata": {},
     "output_type": "execute_result"
    }
   ],
   "source": [
    "weight_for_0 = (1/pos) * total\n",
    "weight_for_0"
   ]
  },
  {
   "cell_type": "code",
   "execution_count": 28,
   "metadata": {},
   "outputs": [
    {
     "data": {
      "text/plain": [
       "578.8760162601627"
      ]
     },
     "execution_count": 28,
     "metadata": {},
     "output_type": "execute_result"
    }
   ],
   "source": [
    "weight_for_1 = (1/neg) * total\n",
    "weight_for_1"
   ]
  },
  {
   "cell_type": "code",
   "execution_count": 29,
   "metadata": {},
   "outputs": [
    {
     "data": {
      "text/plain": [
       "{0: 1.001730475001319, 1: 578.8760162601627}"
      ]
     },
     "execution_count": 29,
     "metadata": {},
     "output_type": "execute_result"
    }
   ],
   "source": [
    "class_weight = {0: weight_for_0, 1: weight_for_1}\n",
    "class_weight"
   ]
  },
  {
   "cell_type": "code",
   "execution_count": 30,
   "metadata": {},
   "outputs": [
    {
     "name": "stdout",
     "output_type": "stream",
     "text": [
      "Epoch 1/100\n",
      "70/70 [==============================] - 3s 19ms/step - loss: 0.6735 - auc: 0.9118 - accuracy: 0.8928 - val_loss: 0.1729 - val_auc: 0.9813 - val_accuracy: 0.9709\n",
      "Epoch 2/100\n",
      "70/70 [==============================] - 1s 11ms/step - loss: 0.4098 - auc: 0.9712 - accuracy: 0.9648 - val_loss: 0.0999 - val_auc: 0.9779 - val_accuracy: 0.9885\n",
      "Epoch 3/100\n",
      "70/70 [==============================] - 1s 12ms/step - loss: 0.2945 - auc: 0.9834 - accuracy: 0.9793 - val_loss: 0.0762 - val_auc: 0.9823 - val_accuracy: 0.9896\n",
      "Epoch 4/100\n",
      "70/70 [==============================] - 1s 11ms/step - loss: 0.2967 - auc: 0.9813 - accuracy: 0.9750 - val_loss: 0.1061 - val_auc: 0.9820 - val_accuracy: 0.9797\n",
      "Epoch 5/100\n",
      "70/70 [==============================] - 1s 10ms/step - loss: 0.2846 - auc: 0.9844 - accuracy: 0.9769 - val_loss: 0.0883 - val_auc: 0.9828 - val_accuracy: 0.9828\n",
      "Epoch 6/100\n",
      "70/70 [==============================] - 1s 11ms/step - loss: 0.2344 - auc: 0.9904 - accuracy: 0.9742 - val_loss: 0.0836 - val_auc: 0.9818 - val_accuracy: 0.9785\n",
      "Epoch 7/100\n",
      "70/70 [==============================] - 1s 14ms/step - loss: 0.2061 - auc: 0.9933 - accuracy: 0.9775 - val_loss: 0.0880 - val_auc: 0.9803 - val_accuracy: 0.9757\n",
      "Epoch 8/100\n",
      "70/70 [==============================] - 1s 15ms/step - loss: 0.2003 - auc: 0.9940 - accuracy: 0.9727 - val_loss: 0.0828 - val_auc: 0.9827 - val_accuracy: 0.9774\n",
      "Epoch 9/100\n",
      "70/70 [==============================] - 1s 12ms/step - loss: 0.1721 - auc: 0.9953 - accuracy: 0.9774 - val_loss: 0.0365 - val_auc: 0.9786 - val_accuracy: 0.9933\n",
      "Epoch 10/100\n",
      "70/70 [==============================] - 1s 12ms/step - loss: 0.2253 - auc: 0.9922 - accuracy: 0.9817 - val_loss: 0.0920 - val_auc: 0.9813 - val_accuracy: 0.9749\n",
      "Epoch 11/100\n",
      "70/70 [==============================] - 1s 13ms/step - loss: 0.1749 - auc: 0.9955 - accuracy: 0.9758 - val_loss: 0.0466 - val_auc: 0.9748 - val_accuracy: 0.9899\n",
      "Epoch 12/100\n",
      "70/70 [==============================] - 1s 12ms/step - loss: 0.1394 - auc: 0.9971 - accuracy: 0.9798 - val_loss: 0.0434 - val_auc: 0.9751 - val_accuracy: 0.9893\n",
      "Epoch 13/100\n",
      "70/70 [==============================] - 1s 11ms/step - loss: 0.1211 - auc: 0.9980 - accuracy: 0.9863 - val_loss: 0.0432 - val_auc: 0.9769 - val_accuracy: 0.9881\n",
      "Epoch 14/100\n",
      "70/70 [==============================] - 1s 11ms/step - loss: 0.1330 - auc: 0.9973 - accuracy: 0.9790 - val_loss: 0.0534 - val_auc: 0.9737 - val_accuracy: 0.9835\n",
      "Epoch 15/100\n",
      "70/70 [==============================] - ETA: 0s - loss: 0.1424 - auc: 0.9969 - accuracy: 0.9793Restoring model weights from the end of the best epoch: 5.\n",
      "70/70 [==============================] - 1s 13ms/step - loss: 0.1424 - auc: 0.9969 - accuracy: 0.9793 - val_loss: 0.0438 - val_auc: 0.9745 - val_accuracy: 0.9883\n",
      "Epoch 15: early stopping\n"
     ]
    }
   ],
   "source": [
    "weighted_model = make_model()\n",
    "weighted_history = weighted_model.fit(X_train, y_train,\n",
    "                                     batch_size=BATCH_SIZE,\n",
    "                                     epochs=EPOCHS, callbacks=[early_stopping],\n",
    "                                     validation_data=(X_test, y_test),\n",
    "                                      class_weight=class_weight)"
   ]
  },
  {
   "cell_type": "code",
   "execution_count": 31,
   "metadata": {},
   "outputs": [
    {
     "name": "stdout",
     "output_type": "stream",
     "text": [
      "4451/4451 [==============================] - 9s 2ms/step\n",
      "f1 score: 0.15176715176715178\n",
      "Accuracy 0.982809471644055\n",
      "Precision 0.08295454545454546\n",
      "Recall 0.8902439024390244\n"
     ]
    },
    {
     "data": {
      "image/png": "[encoded data removed]",
      "text/plain": [
       "<Figure size 500x500 with 2 Axes>"
      ]
     },
     "metadata": {},
     "output_type": "display_data"
    }
   ],
   "source": [
    "prediction_weighted = weighted_model.predict(X_test)\n",
    "plot_cm(y_test, prediction_weighted, threshold=0.5)"
   ]
  },
  {
   "cell_type": "markdown",
   "metadata": {
    "id": "FF42Tjcdt30K"
   },
   "source": [
    "## Plot the ROC"
   ]
  },
  {
   "cell_type": "code",
   "execution_count": 32,
   "metadata": {},
   "outputs": [],
   "source": [
    "def plot_roc(name, labels, predictions, **kwargs):  ## **kwargs : 같은 파라미터 적용가능\n",
    "    \n",
    "    fp, tp, _ = roc_curve(labels, predictions)\n",
    "    auc = roc_auc_score(y_test, predictions)\n",
    "    \n",
    "    plt.plot(100*fp, 100*tp, label=f\"auc of {name}={auc:.5f}\", linewidth=2, **kwargs)\n",
    "    plt.xlabel('FP [%]')\n",
    "    plt.ylabel('TP [%]')\n",
    "    plt.xlim([-0.5,20])\n",
    "    plt.ylim([80,100.5])\n",
    "    plt.grid(True)\n",
    "    ax = plt.gca()\n",
    "    ax.set_aspect('equal')\n",
    "    fig = plt.gcf()\n",
    "    fig.set_size_inches(8, 6)"
   ]
  },
  {
   "cell_type": "code",
   "execution_count": 33,
   "metadata": {},
   "outputs": [
    {
     "data": {
      "text/plain": [
       "<matplotlib.legend.Legend at 0x20c2af1ae50>"
      ]
     },
     "execution_count": 33,
     "metadata": {},
     "output_type": "execute_result"
    },
    {
     "data": {
      "image/png": "[encoded data removed]",
      "text/plain": [
       "<Figure size 800x600 with 1 Axes>"
      ]
     },
     "metadata": {},
     "output_type": "display_data"
    }
   ],
   "source": [
    "plot_roc(\"Baseline ROC\", y_test, prediction_baseline, color='blue', linestyle='--')\n",
    "plot_roc(\"Weighted ROC\", y_test, prediction_weighted, color='red', linestyle='--')\n",
    "plt.legend(loc='lower right')"
   ]
  },
  {
   "cell_type": "markdown",
   "metadata": {
    "id": "rcbHFEtjGzxD"
   },
   "source": [
    "## Next Step => Over+Under-sampling model과 weight 조절 DNN model 비교"
   ]
  }
 ],
 "metadata": {
  "accelerator": "GPU",
  "colab": {
   "collapsed_sections": [],
   "machine_shape": "hm",
   "provenance": []
  },
  "gpuClass": "standard",
  "kernelspec": {
   "display_name": "soyeon",
   "language": "python",
   "name": "soyeon"
  },
  "language_info": {
   "codemirror_mode": {
    "name": "ipython",
    "version": 3
   },
   "file_extension": ".py",
   "mimetype": "text/x-python",
   "name": "python",
   "nbconvert_exporter": "python",
   "pygments_lexer": "ipython3",
   "version": "3.8.10"
  }
 },
 "nbformat": 4,
 "nbformat_minor": 1
}
