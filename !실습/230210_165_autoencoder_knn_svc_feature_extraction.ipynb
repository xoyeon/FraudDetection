{
 "cells": [
  {
   "cell_type": "markdown",
   "metadata": {
    "id": "iEl3ncgPc0sv"
   },
   "source": [
    "\n",
    "# Autoencoder 와 지도학습 모델을 이용한 신용카드 Fraud Detection\n",
    "\n",
    "- [Credit Card Fraud Detection](https://www.kaggle.com/mlg-ulb/creditcardfraud) - Kaggle\n",
    "\n",
    "\n",
    "- Highly Imbalanced Dataset - dataset는 2013 년 9 월 유럽 카드 소지자 신용 카드 거래로 만들었습니다. 이 dataset는 2 일 동안 발생한 거래를 보여 주며, 284,807 건의 거래 중 492 건의 fraud가 있습니다. 데이터세트는 매우 불균형하며 포지티브 클래스(사기)는 모든 거래의 0.172 %를 차지합니다.\n",
    "\n",
    "\n",
    "- 이 dataset는 PCA 변환의 결과인 숫자 입력 변수만 포함합니다. 안타깝게도 기밀 유지 문제로 인해 데이터에 대한 원래 feature와 추가 background 정보를 제공할 수 없습니다. 특성 V1, V2, ... V28은 PCA로 얻은 principal component이며 PCA로 변환되지 않은 유일한 기능은 'Time' 과 'Amount' 입니다. 'time' 특성은 각 트랜잭션과 데이터 세트의 첫 번째 트랜잭션 사이에 경과된 시간(초) 입니다. 'Amount' 특성은 거래금액 입니다. \n",
    "\n",
    "\n",
    "\n",
    "- 'Class'는 사기의 경우 1, 그렇지 않으면 0 입니다."
   ]
  },
  {
   "cell_type": "code",
   "execution_count": 1,
   "metadata": {},
   "outputs": [],
   "source": [
    "import pandas as pd\n",
    "import numpy as np\n",
    "import seaborn as sns\n",
    "import matplotlib.pyplot as plt \n",
    "import matplotlib.ticker as ticker\n",
    "\n",
    "from sklearn.model_selection import train_test_split\n",
    "from sklearn.metrics import precision_score, recall_score, confusion_matrix\n",
    "from sklearn.preprocessing import StandardScaler\n",
    "\n",
    "import tensorflow as tf\n",
    "from tensorflow.keras.models import Model, load_model\n",
    "from tensorflow.keras.layers import Input, Dense\n",
    "from tensorflow.keras.utils import plot_model\n",
    "\n",
    "np.random.seed(0)\n",
    "tf.random.set_seed(0)"
   ]
  },
  {
   "cell_type": "markdown",
   "metadata": {
    "id": "WTrPa78OJjUN"
   },
   "source": [
    "## Downloading of dataset"
   ]
  },
  {
   "cell_type": "code",
   "execution_count": 2,
   "metadata": {},
   "outputs": [
    {
     "data": {
      "text/html": [
       "<div>\n",
       "<style scoped>\n",
       "    .dataframe tbody tr th:only-of-type {\n",
       "        vertical-align: middle;\n",
       "    }\n",
       "\n",
       "    .dataframe tbody tr th {\n",
       "        vertical-align: top;\n",
       "    }\n",
       "\n",
       "    .dataframe thead th {\n",
       "        text-align: right;\n",
       "    }\n",
       "</style>\n",
       "<table border=\"1\" class=\"dataframe\">\n",
       "  <thead>\n",
       "    <tr style=\"text-align: right;\">\n",
       "      <th></th>\n",
       "      <th>Time</th>\n",
       "      <th>V1</th>\n",
       "      <th>V2</th>\n",
       "      <th>V3</th>\n",
       "      <th>V4</th>\n",
       "      <th>V5</th>\n",
       "      <th>V6</th>\n",
       "      <th>V7</th>\n",
       "      <th>V8</th>\n",
       "      <th>V9</th>\n",
       "      <th>...</th>\n",
       "      <th>V21</th>\n",
       "      <th>V22</th>\n",
       "      <th>V23</th>\n",
       "      <th>V24</th>\n",
       "      <th>V25</th>\n",
       "      <th>V26</th>\n",
       "      <th>V27</th>\n",
       "      <th>V28</th>\n",
       "      <th>Amount</th>\n",
       "      <th>Class</th>\n",
       "    </tr>\n",
       "  </thead>\n",
       "  <tbody>\n",
       "    <tr>\n",
       "      <th>0</th>\n",
       "      <td>0.0</td>\n",
       "      <td>-1.359807</td>\n",
       "      <td>-0.072781</td>\n",
       "      <td>2.536347</td>\n",
       "      <td>1.378155</td>\n",
       "      <td>-0.338321</td>\n",
       "      <td>0.462388</td>\n",
       "      <td>0.239599</td>\n",
       "      <td>0.098698</td>\n",
       "      <td>0.363787</td>\n",
       "      <td>...</td>\n",
       "      <td>-0.018307</td>\n",
       "      <td>0.277838</td>\n",
       "      <td>-0.110474</td>\n",
       "      <td>0.066928</td>\n",
       "      <td>0.128539</td>\n",
       "      <td>-0.189115</td>\n",
       "      <td>0.133558</td>\n",
       "      <td>-0.021053</td>\n",
       "      <td>149.62</td>\n",
       "      <td>0</td>\n",
       "    </tr>\n",
       "    <tr>\n",
       "      <th>1</th>\n",
       "      <td>0.0</td>\n",
       "      <td>1.191857</td>\n",
       "      <td>0.266151</td>\n",
       "      <td>0.166480</td>\n",
       "      <td>0.448154</td>\n",
       "      <td>0.060018</td>\n",
       "      <td>-0.082361</td>\n",
       "      <td>-0.078803</td>\n",
       "      <td>0.085102</td>\n",
       "      <td>-0.255425</td>\n",
       "      <td>...</td>\n",
       "      <td>-0.225775</td>\n",
       "      <td>-0.638672</td>\n",
       "      <td>0.101288</td>\n",
       "      <td>-0.339846</td>\n",
       "      <td>0.167170</td>\n",
       "      <td>0.125895</td>\n",
       "      <td>-0.008983</td>\n",
       "      <td>0.014724</td>\n",
       "      <td>2.69</td>\n",
       "      <td>0</td>\n",
       "    </tr>\n",
       "    <tr>\n",
       "      <th>2</th>\n",
       "      <td>1.0</td>\n",
       "      <td>-1.358354</td>\n",
       "      <td>-1.340163</td>\n",
       "      <td>1.773209</td>\n",
       "      <td>0.379780</td>\n",
       "      <td>-0.503198</td>\n",
       "      <td>1.800499</td>\n",
       "      <td>0.791461</td>\n",
       "      <td>0.247676</td>\n",
       "      <td>-1.514654</td>\n",
       "      <td>...</td>\n",
       "      <td>0.247998</td>\n",
       "      <td>0.771679</td>\n",
       "      <td>0.909412</td>\n",
       "      <td>-0.689281</td>\n",
       "      <td>-0.327642</td>\n",
       "      <td>-0.139097</td>\n",
       "      <td>-0.055353</td>\n",
       "      <td>-0.059752</td>\n",
       "      <td>378.66</td>\n",
       "      <td>0</td>\n",
       "    </tr>\n",
       "    <tr>\n",
       "      <th>3</th>\n",
       "      <td>1.0</td>\n",
       "      <td>-0.966272</td>\n",
       "      <td>-0.185226</td>\n",
       "      <td>1.792993</td>\n",
       "      <td>-0.863291</td>\n",
       "      <td>-0.010309</td>\n",
       "      <td>1.247203</td>\n",
       "      <td>0.237609</td>\n",
       "      <td>0.377436</td>\n",
       "      <td>-1.387024</td>\n",
       "      <td>...</td>\n",
       "      <td>-0.108300</td>\n",
       "      <td>0.005274</td>\n",
       "      <td>-0.190321</td>\n",
       "      <td>-1.175575</td>\n",
       "      <td>0.647376</td>\n",
       "      <td>-0.221929</td>\n",
       "      <td>0.062723</td>\n",
       "      <td>0.061458</td>\n",
       "      <td>123.50</td>\n",
       "      <td>0</td>\n",
       "    </tr>\n",
       "    <tr>\n",
       "      <th>4</th>\n",
       "      <td>2.0</td>\n",
       "      <td>-1.158233</td>\n",
       "      <td>0.877737</td>\n",
       "      <td>1.548718</td>\n",
       "      <td>0.403034</td>\n",
       "      <td>-0.407193</td>\n",
       "      <td>0.095921</td>\n",
       "      <td>0.592941</td>\n",
       "      <td>-0.270533</td>\n",
       "      <td>0.817739</td>\n",
       "      <td>...</td>\n",
       "      <td>-0.009431</td>\n",
       "      <td>0.798278</td>\n",
       "      <td>-0.137458</td>\n",
       "      <td>0.141267</td>\n",
       "      <td>-0.206010</td>\n",
       "      <td>0.502292</td>\n",
       "      <td>0.219422</td>\n",
       "      <td>0.215153</td>\n",
       "      <td>69.99</td>\n",
       "      <td>0</td>\n",
       "    </tr>\n",
       "  </tbody>\n",
       "</table>\n",
       "<p>5 rows × 31 columns</p>\n",
       "</div>"
      ],
      "text/plain": [
       "   Time        V1        V2        V3        V4        V5        V6        V7  \\\n",
       "0   0.0 -1.359807 -0.072781  2.536347  1.378155 -0.338321  0.462388  0.239599   \n",
       "1   0.0  1.191857  0.266151  0.166480  0.448154  0.060018 -0.082361 -0.078803   \n",
       "2   1.0 -1.358354 -1.340163  1.773209  0.379780 -0.503198  1.800499  0.791461   \n",
       "3   1.0 -0.966272 -0.185226  1.792993 -0.863291 -0.010309  1.247203  0.237609   \n",
       "4   2.0 -1.158233  0.877737  1.548718  0.403034 -0.407193  0.095921  0.592941   \n",
       "\n",
       "         V8        V9  ...       V21       V22       V23       V24       V25  \\\n",
       "0  0.098698  0.363787  ... -0.018307  0.277838 -0.110474  0.066928  0.128539   \n",
       "1  0.085102 -0.255425  ... -0.225775 -0.638672  0.101288 -0.339846  0.167170   \n",
       "2  0.247676 -1.514654  ...  0.247998  0.771679  0.909412 -0.689281 -0.327642   \n",
       "3  0.377436 -1.387024  ... -0.108300  0.005274 -0.190321 -1.175575  0.647376   \n",
       "4 -0.270533  0.817739  ... -0.009431  0.798278 -0.137458  0.141267 -0.206010   \n",
       "\n",
       "        V26       V27       V28  Amount  Class  \n",
       "0 -0.189115  0.133558 -0.021053  149.62      0  \n",
       "1  0.125895 -0.008983  0.014724    2.69      0  \n",
       "2 -0.139097 -0.055353 -0.059752  378.66      0  \n",
       "3 -0.221929  0.062723  0.061458  123.50      0  \n",
       "4  0.502292  0.219422  0.215153   69.99      0  \n",
       "\n",
       "[5 rows x 31 columns]"
      ]
     },
     "execution_count": 2,
     "metadata": {},
     "output_type": "execute_result"
    }
   ],
   "source": [
    "df = pd.read_csv( 'https://storage.googleapis.com/download.tensorflow.org/data/creditcard.csv')\n",
    "df.head()"
   ]
  },
  {
   "cell_type": "markdown",
   "metadata": {
    "id": "5Y0a-xNMeDEA"
   },
   "source": [
    "- the dataset is highly unbalanced"
   ]
  },
  {
   "cell_type": "code",
   "execution_count": 3,
   "metadata": {},
   "outputs": [
    {
     "data": {
      "text/plain": [
       "0    284315\n",
       "1       492\n",
       "Name: Class, dtype: int64"
      ]
     },
     "execution_count": 3,
     "metadata": {},
     "output_type": "execute_result"
    }
   ],
   "source": [
    "df['Class'].value_counts()"
   ]
  },
  {
   "cell_type": "code",
   "execution_count": 4,
   "metadata": {},
   "outputs": [
    {
     "name": "stdout",
     "output_type": "stream",
     "text": [
      "Total = 284,807\n",
      "Fraud = 0.17%\n",
      "Normal = 99.83%\n"
     ]
    }
   ],
   "source": [
    "fraud = (df['Class'] == 1).sum()\n",
    "normal = (df['Class'] == 0).sum()\n",
    "\n",
    "total = fraud + normal\n",
    "\n",
    "print(f\"Total = {total:,}\")\n",
    "print(f\"Fraud = {fraud/total*100:,.2f}%\")\n",
    "print(f\"Normal = {normal/total*100:,.2f}%\")"
   ]
  },
  {
   "cell_type": "markdown",
   "metadata": {
    "id": "PoYryN6O6X3U"
   },
   "source": [
    "- Time 필드를 일중 시간으로 변환합니다.   \n",
    "- Amount 필드는 로그 스케일로 변환합니다."
   ]
  },
  {
   "cell_type": "code",
   "execution_count": 5,
   "metadata": {},
   "outputs": [],
   "source": [
    "df.loc[:, \"Time\"]   = df.loc[:, \"Time\"].apply(lambda x : x / 3600 % 24) #일중 시간\n",
    "df.loc[:, 'Amount'] = np.log(df.loc[:, 'Amount'] + 1)"
   ]
  },
  {
   "cell_type": "markdown",
   "metadata": {
    "id": "6vzbL3QfJjUQ"
   },
   "source": [
    "- class 1 이 너무 적으므로 통상적인 7:3 대신 5:5 비율로 train, test set 분리"
   ]
  },
  {
   "cell_type": "code",
   "execution_count": 6,
   "metadata": {},
   "outputs": [
    {
     "data": {
      "text/plain": [
       "((142403, 30), (142404, 30), (142403,), (142404,))"
      ]
     },
     "execution_count": 6,
     "metadata": {},
     "output_type": "execute_result"
    }
   ],
   "source": [
    "X_train, X_test, y_train, y_test = train_test_split(df.drop('Class', axis=1), df['Class'], \n",
    "                                                    test_size=0.5, random_state=0)\n",
    "X_train.shape, X_test.shape, y_train.shape, y_test.shape"
   ]
  },
  {
   "cell_type": "code",
   "execution_count": 7,
   "metadata": {},
   "outputs": [],
   "source": [
    "sc = StandardScaler()\n",
    "X_train = sc.fit_transform(X_train.values)\n",
    "X_test  = sc.transform(X_test.values)"
   ]
  },
  {
   "cell_type": "code",
   "execution_count": 8,
   "metadata": {},
   "outputs": [
    {
     "data": {
      "text/plain": [
       "0    0.998251\n",
       "1    0.001749\n",
       "Name: Class, dtype: float64"
      ]
     },
     "execution_count": 8,
     "metadata": {},
     "output_type": "execute_result"
    }
   ],
   "source": [
    "# Train set의 정상/사기 거래 비율\n",
    "y_train.value_counts() / y_train.count()"
   ]
  },
  {
   "cell_type": "code",
   "execution_count": 9,
   "metadata": {},
   "outputs": [
    {
     "data": {
      "text/plain": [
       "0    0.998294\n",
       "1    0.001706\n",
       "Name: Class, dtype: float64"
      ]
     },
     "execution_count": 9,
     "metadata": {},
     "output_type": "execute_result"
    }
   ],
   "source": [
    "# Test set 의 정상/사기 거래 비율\n",
    "y_test.value_counts() / y_test.count()"
   ]
  },
  {
   "cell_type": "markdown",
   "metadata": {
    "id": "otvOl-HcevoG"
   },
   "source": [
    "## Autoencoder Train"
   ]
  },
  {
   "cell_type": "markdown",
   "metadata": {
    "id": "xPpRAl0TeQR8"
   },
   "source": [
    "- 모든 데이터를 이용하여 autoencoder 학습\n",
    "\n",
    "- Autoencoder 의 encoder 부분을 feature extractor 로 이용"
   ]
  },
  {
   "cell_type": "markdown",
   "metadata": {
    "id": "Nh2xw3tcfng9"
   },
   "source": [
    "## autoencoder의 인코더 부분 및 k-NN / SVC 사용\n",
    "\n",
    "훈련 데이터세트의 모든 사례 (사기/정상)를 사용하여 훈련하고 그 결과를 사용하여 인스턴스들을 12 차원 공간에 매핑합니다. 매핑된 케이스는 분류를 위해 k-NN, SVM, DNN 모델에 공급됩니다."
   ]
  },
  {
   "cell_type": "markdown",
   "metadata": {
    "id": "NFr1kJuI6X3Z"
   },
   "source": [
    "### Auto Encoder model 작성\n",
    "- encoder 부분만 사용할 수 있도록 encoder 와 decoder network 을 분리하여 작성 \n",
    "- decoder는 훈련된 encoder를 얻기 위한 역할"
   ]
  },
  {
   "cell_type": "code",
   "execution_count": 10,
   "metadata": {},
   "outputs": [],
   "source": [
    "input_layer = Input(shape=(30, ))\n",
    "\n",
    "encoded_all = Dense(12, activation='relu')(input_layer)\n",
    "decoded_all = Dense(30)(encoded_all)\n",
    "\n",
    "encoder_all = Model(input_layer, encoded_all)\n",
    "autoencoder_all = Model(input_layer, decoded_all)"
   ]
  },
  {
   "cell_type": "code",
   "execution_count": 11,
   "metadata": {},
   "outputs": [
    {
     "name": "stdout",
     "output_type": "stream",
     "text": [
      "You must install pydot (`pip install pydot`) and install graphviz (see instructions at https://graphviz.gitlab.io/download/) for plot_model to work.\n"
     ]
    }
   ],
   "source": [
    "plot_model(autoencoder_all, show_shapes=True)"
   ]
  },
  {
   "cell_type": "code",
   "execution_count": 12,
   "metadata": {},
   "outputs": [
    {
     "name": "stdout",
     "output_type": "stream",
     "text": [
      "Epoch 1/30\n",
      "1113/1113 [==============================] - 8s 6ms/step - loss: 0.7459 - val_loss: 0.6010\n",
      "Epoch 2/30\n",
      "1113/1113 [==============================] - 5s 5ms/step - loss: 0.5834 - val_loss: 0.5619\n",
      "Epoch 3/30\n",
      "1113/1113 [==============================] - 4s 4ms/step - loss: 0.5644 - val_loss: 0.5572\n",
      "Epoch 4/30\n",
      "1113/1113 [==============================] - 4s 4ms/step - loss: 0.5612 - val_loss: 0.5580\n",
      "Epoch 5/30\n",
      "1113/1113 [==============================] - 4s 4ms/step - loss: 0.5599 - val_loss: 0.5567\n",
      "Epoch 6/30\n",
      "1113/1113 [==============================] - 4s 3ms/step - loss: 0.5591 - val_loss: 0.5587\n",
      "Epoch 7/30\n",
      "1113/1113 [==============================] - 4s 4ms/step - loss: 0.5583 - val_loss: 0.5577\n",
      "Epoch 8/30\n",
      "1113/1113 [==============================] - 4s 4ms/step - loss: 0.5579 - val_loss: 0.5581\n",
      "Epoch 9/30\n",
      "1113/1113 [==============================] - 4s 3ms/step - loss: 0.5574 - val_loss: 0.5591\n",
      "Epoch 10/30\n",
      "1113/1113 [==============================] - 4s 3ms/step - loss: 0.5571 - val_loss: 0.5585\n",
      "Epoch 11/30\n",
      "1113/1113 [==============================] - 4s 3ms/step - loss: 0.5567 - val_loss: 0.5596\n",
      "Epoch 12/30\n",
      "1113/1113 [==============================] - 4s 4ms/step - loss: 0.5566 - val_loss: 0.5601\n",
      "Epoch 13/30\n",
      "1113/1113 [==============================] - 4s 3ms/step - loss: 0.5564 - val_loss: 0.5594\n",
      "Epoch 14/30\n",
      "1113/1113 [==============================] - 4s 3ms/step - loss: 0.5561 - val_loss: 0.5595\n",
      "Epoch 15/30\n",
      "1113/1113 [==============================] - 4s 3ms/step - loss: 0.5560 - val_loss: 0.5595\n",
      "Epoch 16/30\n",
      "1113/1113 [==============================] - 4s 3ms/step - loss: 0.5559 - val_loss: 0.5597\n",
      "Epoch 17/30\n",
      "1113/1113 [==============================] - 4s 3ms/step - loss: 0.5558 - val_loss: 0.5601\n",
      "Epoch 18/30\n",
      "1113/1113 [==============================] - 4s 3ms/step - loss: 0.5556 - val_loss: 0.5605\n",
      "Epoch 19/30\n",
      "1113/1113 [==============================] - 4s 4ms/step - loss: 0.5556 - val_loss: 0.5601\n",
      "Epoch 20/30\n",
      "1113/1113 [==============================] - 4s 4ms/step - loss: 0.5555 - val_loss: 0.5606\n",
      "Epoch 21/30\n",
      "1113/1113 [==============================] - 4s 4ms/step - loss: 0.5554 - val_loss: 0.5612\n",
      "Epoch 22/30\n",
      "1113/1113 [==============================] - 4s 3ms/step - loss: 0.5552 - val_loss: 0.5607\n",
      "Epoch 23/30\n",
      "1113/1113 [==============================] - 4s 4ms/step - loss: 0.5553 - val_loss: 0.5605\n",
      "Epoch 24/30\n",
      "1113/1113 [==============================] - 4s 3ms/step - loss: 0.5551 - val_loss: 0.5607\n",
      "Epoch 25/30\n",
      "1113/1113 [==============================] - 4s 3ms/step - loss: 0.5550 - val_loss: 0.5613\n",
      "Epoch 26/30\n",
      "1113/1113 [==============================] - 4s 4ms/step - loss: 0.5551 - val_loss: 0.5606\n",
      "Epoch 27/30\n",
      "1113/1113 [==============================] - 4s 3ms/step - loss: 0.5548 - val_loss: 0.5604\n",
      "Epoch 28/30\n",
      "1113/1113 [==============================] - 4s 4ms/step - loss: 0.5549 - val_loss: 0.5604\n",
      "Epoch 29/30\n",
      "1113/1113 [==============================] - 4s 4ms/step - loss: 0.5549 - val_loss: 0.5607\n",
      "Epoch 30/30\n",
      "1113/1113 [==============================] - 4s 4ms/step - loss: 0.5547 - val_loss: 0.5603\n"
     ]
    }
   ],
   "source": [
    "autoencoder_all.compile(optimizer='adam', loss='mse')\n",
    "\n",
    "history = autoencoder_all.fit(X_train, X_train, epochs = 30, \n",
    "                              batch_size=128, validation_data=(X_test, X_test))"
   ]
  },
  {
   "cell_type": "code",
   "execution_count": 13,
   "metadata": {},
   "outputs": [
    {
     "data": {
      "text/plain": [
       "[<matplotlib.lines.Line2D at 0x1641f07c760>]"
      ]
     },
     "execution_count": 13,
     "metadata": {},
     "output_type": "execute_result"
    },
    {
     "data": {
      "image/png": "[encoded data removed]",
      "text/plain": [
       "<Figure size 640x480 with 1 Axes>"
      ]
     },
     "metadata": {},
     "output_type": "display_data"
    }
   ],
   "source": [
    "plt.plot(history.history['loss'])\n",
    "plt.plot(history.history['val_loss'])\n",
    "## overfitting이 일어남"
   ]
  },
  {
   "cell_type": "markdown",
   "metadata": {
    "id": "hYRDsZ6ygSJq"
   },
   "source": [
    "## KNN, SVC\n",
    "- train input 으로 사용하기 위한 encoder output 출력"
   ]
  },
  {
   "cell_type": "code",
   "execution_count": 14,
   "metadata": {},
   "outputs": [
    {
     "name": "stdout",
     "output_type": "stream",
     "text": [
      "4451/4451 [==============================] - 7s 1ms/step\n"
     ]
    },
    {
     "data": {
      "text/plain": [
       "(142403, 12)"
      ]
     },
     "execution_count": 14,
     "metadata": {},
     "output_type": "execute_result"
    }
   ],
   "source": [
    "enc_all = encoder_all.predict(X_train)\n",
    "enc_all.shape"
   ]
  },
  {
   "cell_type": "markdown",
   "metadata": {
    "id": "CQRykR2-6X3b"
   },
   "source": [
    "- encoder output 을 feature 로 이용하여 knn, svc model train"
   ]
  },
  {
   "cell_type": "code",
   "execution_count": 15,
   "metadata": {},
   "outputs": [],
   "source": [
    "from sklearn.neighbors import KNeighborsClassifier\n",
    "from sklearn.svm import SVC\n",
    "\n",
    "model_svc = SVC()\n",
    "model_knn = KNeighborsClassifier(n_neighbors=3)"
   ]
  },
  {
   "cell_type": "code",
   "execution_count": 16,
   "metadata": {},
   "outputs": [
    {
     "data": {
      "text/plain": [
       "SVC()"
      ]
     },
     "execution_count": 16,
     "metadata": {},
     "output_type": "execute_result"
    }
   ],
   "source": [
    "model_svc.fit(enc_all, y_train)"
   ]
  },
  {
   "cell_type": "code",
   "execution_count": 17,
   "metadata": {},
   "outputs": [
    {
     "data": {
      "text/plain": [
       "KNeighborsClassifier(n_neighbors=3)"
      ]
     },
     "execution_count": 17,
     "metadata": {},
     "output_type": "execute_result"
    }
   ],
   "source": [
    "model_knn.fit(enc_all, y_train)"
   ]
  },
  {
   "cell_type": "code",
   "execution_count": 18,
   "metadata": {},
   "outputs": [
    {
     "name": "stdout",
     "output_type": "stream",
     "text": [
      "4451/4451 [==============================] - 8s 2ms/step\n"
     ]
    },
    {
     "data": {
      "text/plain": [
       "(142404,)"
      ]
     },
     "execution_count": 18,
     "metadata": {},
     "output_type": "execute_result"
    }
   ],
   "source": [
    "predicted_svc = model_svc.predict(encoder_all.predict(X_test))\n",
    "predicted_svc.shape"
   ]
  },
  {
   "cell_type": "code",
   "execution_count": 19,
   "metadata": {},
   "outputs": [
    {
     "name": "stdout",
     "output_type": "stream",
     "text": [
      "4451/4451 [==============================] - 8s 2ms/step\n"
     ]
    },
    {
     "data": {
      "text/plain": [
       "(142404,)"
      ]
     },
     "execution_count": 19,
     "metadata": {},
     "output_type": "execute_result"
    }
   ],
   "source": [
    "predicted_knn = model_knn.predict(encoder_all.predict(X_test))\n",
    "predicted_knn.shape"
   ]
  },
  {
   "cell_type": "markdown",
   "metadata": {
    "id": "2jPSlZE56X3c"
   },
   "source": [
    "- train 된 모델을 이용하여 test set 분류"
   ]
  },
  {
   "cell_type": "markdown",
   "metadata": {
    "id": "vxdpmFah6X3c"
   },
   "source": [
    "### DNN 이진 분류 모델 작성"
   ]
  },
  {
   "cell_type": "markdown",
   "metadata": {
    "id": "W52kNVXq-H-d"
   },
   "source": [
    "분류기로 사용한 전통적 머신러닝 2 개 모델과 딥러닝 모델의 성능 비교"
   ]
  },
  {
   "cell_type": "code",
   "execution_count": 20,
   "metadata": {},
   "outputs": [],
   "source": [
    "model_dnn = tf.keras.Sequential([\n",
    "      tf.keras.layers.Dense(32, activation='relu', input_shape=(enc_all.shape[-1],)),\n",
    "      tf.keras.layers.Dropout(0.2),\n",
    "      tf.keras.layers.Dense(16, activation='relu'),\n",
    "      tf.keras.layers.Dropout(0.2),\n",
    "      tf.keras.layers.Dense(1, activation='sigmoid'),\n",
    "  ])\n",
    "\n",
    "model_dnn.compile(\n",
    "      optimizer = tf.keras.optimizers.Adam(learning_rate=1e-3),\n",
    "      loss = 'binary_crossentropy', metrics=['accuracy'])"
   ]
  },
  {
   "cell_type": "code",
   "execution_count": 21,
   "metadata": {},
   "outputs": [
    {
     "name": "stdout",
     "output_type": "stream",
     "text": [
      "4451/4451 [==============================] - 9s 2ms/step\n"
     ]
    }
   ],
   "source": [
    "enc_test = encoder_all.predict(X_test)"
   ]
  },
  {
   "cell_type": "code",
   "execution_count": 22,
   "metadata": {},
   "outputs": [
    {
     "name": "stdout",
     "output_type": "stream",
     "text": [
      "Epoch 1/50\n",
      "140/140 [==============================] - 2s 8ms/step - loss: 0.1336 - accuracy: 0.9869 - val_loss: 0.0350 - val_accuracy: 0.9983\n",
      "Epoch 2/50\n",
      "140/140 [==============================] - 1s 6ms/step - loss: 0.0388 - accuracy: 0.9983 - val_loss: 0.0247 - val_accuracy: 0.9983\n",
      "Epoch 3/50\n",
      "140/140 [==============================] - 1s 6ms/step - loss: 0.0246 - accuracy: 0.9983 - val_loss: 0.0103 - val_accuracy: 0.9984\n",
      "Epoch 4/50\n",
      "140/140 [==============================] - 1s 7ms/step - loss: 0.0141 - accuracy: 0.9985 - val_loss: 0.0079 - val_accuracy: 0.9988\n",
      "Epoch 5/50\n",
      "140/140 [==============================] - 1s 6ms/step - loss: 0.0116 - accuracy: 0.9985 - val_loss: 0.0073 - val_accuracy: 0.9990\n",
      "Epoch 6/50\n",
      "140/140 [==============================] - 1s 6ms/step - loss: 0.0102 - accuracy: 0.9986 - val_loss: 0.0067 - val_accuracy: 0.9989\n",
      "Epoch 7/50\n",
      "140/140 [==============================] - 1s 7ms/step - loss: 0.0093 - accuracy: 0.9986 - val_loss: 0.0065 - val_accuracy: 0.9990\n",
      "Epoch 8/50\n",
      "140/140 [==============================] - 1s 6ms/step - loss: 0.0085 - accuracy: 0.9987 - val_loss: 0.0062 - val_accuracy: 0.9991\n",
      "Epoch 9/50\n",
      "140/140 [==============================] - 1s 6ms/step - loss: 0.0079 - accuracy: 0.9988 - val_loss: 0.0058 - val_accuracy: 0.9991\n",
      "Epoch 10/50\n",
      "140/140 [==============================] - 1s 6ms/step - loss: 0.0074 - accuracy: 0.9988 - val_loss: 0.0058 - val_accuracy: 0.9992\n",
      "Epoch 11/50\n",
      "140/140 [==============================] - 1s 7ms/step - loss: 0.0069 - accuracy: 0.9987 - val_loss: 0.0057 - val_accuracy: 0.9992\n",
      "Epoch 12/50\n",
      "140/140 [==============================] - 1s 6ms/step - loss: 0.0067 - accuracy: 0.9989 - val_loss: 0.0054 - val_accuracy: 0.9992\n",
      "Epoch 13/50\n",
      "140/140 [==============================] - 1s 6ms/step - loss: 0.0064 - accuracy: 0.9989 - val_loss: 0.0052 - val_accuracy: 0.9992\n",
      "Epoch 14/50\n",
      "140/140 [==============================] - 1s 6ms/step - loss: 0.0063 - accuracy: 0.9990 - val_loss: 0.0050 - val_accuracy: 0.9992\n",
      "Epoch 15/50\n",
      "140/140 [==============================] - 1s 7ms/step - loss: 0.0060 - accuracy: 0.9990 - val_loss: 0.0049 - val_accuracy: 0.9992\n",
      "Epoch 16/50\n",
      "140/140 [==============================] - 1s 6ms/step - loss: 0.0059 - accuracy: 0.9990 - val_loss: 0.0047 - val_accuracy: 0.9993\n",
      "Epoch 17/50\n",
      "140/140 [==============================] - 1s 6ms/step - loss: 0.0056 - accuracy: 0.9990 - val_loss: 0.0046 - val_accuracy: 0.9993\n",
      "Epoch 18/50\n",
      "140/140 [==============================] - 1s 7ms/step - loss: 0.0052 - accuracy: 0.9991 - val_loss: 0.0046 - val_accuracy: 0.9993\n",
      "Epoch 19/50\n",
      "140/140 [==============================] - 1s 7ms/step - loss: 0.0053 - accuracy: 0.9991 - val_loss: 0.0044 - val_accuracy: 0.9992\n",
      "Epoch 20/50\n",
      "140/140 [==============================] - 1s 8ms/step - loss: 0.0052 - accuracy: 0.9991 - val_loss: 0.0045 - val_accuracy: 0.9993\n",
      "Epoch 21/50\n",
      "140/140 [==============================] - 2s 11ms/step - loss: 0.0052 - accuracy: 0.9991 - val_loss: 0.0043 - val_accuracy: 0.9993\n",
      "Epoch 22/50\n",
      "140/140 [==============================] - 1s 7ms/step - loss: 0.0049 - accuracy: 0.9990 - val_loss: 0.0043 - val_accuracy: 0.9993\n",
      "Epoch 23/50\n",
      "140/140 [==============================] - 1s 7ms/step - loss: 0.0050 - accuracy: 0.9991 - val_loss: 0.0043 - val_accuracy: 0.9993\n",
      "Epoch 24/50\n",
      "140/140 [==============================] - 1s 7ms/step - loss: 0.0046 - accuracy: 0.9992 - val_loss: 0.0042 - val_accuracy: 0.9993\n",
      "Epoch 25/50\n",
      "140/140 [==============================] - 1s 8ms/step - loss: 0.0046 - accuracy: 0.9990 - val_loss: 0.0042 - val_accuracy: 0.9993\n",
      "Epoch 26/50\n",
      "140/140 [==============================] - 1s 7ms/step - loss: 0.0047 - accuracy: 0.9991 - val_loss: 0.0041 - val_accuracy: 0.9993\n",
      "Epoch 27/50\n",
      "140/140 [==============================] - 1s 7ms/step - loss: 0.0046 - accuracy: 0.9992 - val_loss: 0.0041 - val_accuracy: 0.9993\n",
      "Epoch 28/50\n",
      "140/140 [==============================] - 1s 10ms/step - loss: 0.0044 - accuracy: 0.9991 - val_loss: 0.0041 - val_accuracy: 0.9993\n",
      "Epoch 29/50\n",
      "140/140 [==============================] - 1s 10ms/step - loss: 0.0045 - accuracy: 0.9991 - val_loss: 0.0040 - val_accuracy: 0.9993\n",
      "Epoch 30/50\n",
      "140/140 [==============================] - 1s 7ms/step - loss: 0.0044 - accuracy: 0.9991 - val_loss: 0.0041 - val_accuracy: 0.9993\n",
      "Epoch 31/50\n",
      "140/140 [==============================] - 1s 10ms/step - loss: 0.0045 - accuracy: 0.9991 - val_loss: 0.0040 - val_accuracy: 0.9993\n",
      "Epoch 32/50\n",
      "140/140 [==============================] - 1s 8ms/step - loss: 0.0043 - accuracy: 0.9992 - val_loss: 0.0041 - val_accuracy: 0.9993\n",
      "Epoch 33/50\n",
      "140/140 [==============================] - 1s 9ms/step - loss: 0.0043 - accuracy: 0.9991 - val_loss: 0.0041 - val_accuracy: 0.9993\n",
      "Epoch 34/50\n",
      "140/140 [==============================] - 1s 9ms/step - loss: 0.0041 - accuracy: 0.9992 - val_loss: 0.0043 - val_accuracy: 0.9993\n",
      "Epoch 35/50\n",
      "140/140 [==============================] - 1s 8ms/step - loss: 0.0044 - accuracy: 0.9992 - val_loss: 0.0040 - val_accuracy: 0.9993\n",
      "Epoch 36/50\n",
      "140/140 [==============================] - 1s 9ms/step - loss: 0.0042 - accuracy: 0.9992 - val_loss: 0.0040 - val_accuracy: 0.9993\n",
      "Epoch 37/50\n",
      "140/140 [==============================] - 1s 8ms/step - loss: 0.0042 - accuracy: 0.9992 - val_loss: 0.0040 - val_accuracy: 0.9994\n",
      "Epoch 38/50\n",
      "140/140 [==============================] - 1s 8ms/step - loss: 0.0041 - accuracy: 0.9992 - val_loss: 0.0042 - val_accuracy: 0.9993\n",
      "Epoch 39/50\n",
      "140/140 [==============================] - 1s 7ms/step - loss: 0.0043 - accuracy: 0.9991 - val_loss: 0.0041 - val_accuracy: 0.9993\n",
      "Epoch 40/50\n",
      "140/140 [==============================] - 2s 11ms/step - loss: 0.0042 - accuracy: 0.9992 - val_loss: 0.0040 - val_accuracy: 0.9993\n",
      "Epoch 41/50\n",
      "140/140 [==============================] - 2s 15ms/step - loss: 0.0041 - accuracy: 0.9992 - val_loss: 0.0040 - val_accuracy: 0.9993\n",
      "Epoch 42/50\n",
      "140/140 [==============================] - 1s 7ms/step - loss: 0.0042 - accuracy: 0.9992 - val_loss: 0.0039 - val_accuracy: 0.9993\n",
      "Epoch 43/50\n",
      "140/140 [==============================] - 1s 7ms/step - loss: 0.0041 - accuracy: 0.9992 - val_loss: 0.0041 - val_accuracy: 0.9993\n",
      "Epoch 44/50\n",
      "140/140 [==============================] - 1s 8ms/step - loss: 0.0040 - accuracy: 0.9992 - val_loss: 0.0040 - val_accuracy: 0.9993\n",
      "Epoch 45/50\n",
      "140/140 [==============================] - 1s 8ms/step - loss: 0.0042 - accuracy: 0.9992 - val_loss: 0.0040 - val_accuracy: 0.9994\n",
      "Epoch 46/50\n",
      "140/140 [==============================] - 1s 7ms/step - loss: 0.0040 - accuracy: 0.9993 - val_loss: 0.0040 - val_accuracy: 0.9993\n",
      "Epoch 47/50\n",
      "140/140 [==============================] - 1s 7ms/step - loss: 0.0038 - accuracy: 0.9993 - val_loss: 0.0041 - val_accuracy: 0.9993\n",
      "Epoch 48/50\n",
      "140/140 [==============================] - 1s 7ms/step - loss: 0.0041 - accuracy: 0.9992 - val_loss: 0.0038 - val_accuracy: 0.9993\n",
      "Epoch 49/50\n",
      "140/140 [==============================] - 1s 6ms/step - loss: 0.0039 - accuracy: 0.9992 - val_loss: 0.0038 - val_accuracy: 0.9994\n",
      "Epoch 50/50\n",
      "140/140 [==============================] - 1s 6ms/step - loss: 0.0041 - accuracy: 0.9992 - val_loss: 0.0039 - val_accuracy: 0.9993\n"
     ]
    }
   ],
   "source": [
    "history = model_dnn.fit(enc_all, y_train, epochs=50, batch_size=1024, \n",
    "                    validation_data=(enc_test, y_test))"
   ]
  },
  {
   "cell_type": "code",
   "execution_count": 23,
   "metadata": {},
   "outputs": [
    {
     "name": "stdout",
     "output_type": "stream",
     "text": [
      "4451/4451 [==============================] - 8s 2ms/step\n"
     ]
    },
    {
     "data": {
      "text/plain": [
       "(142404, 1)"
      ]
     },
     "execution_count": 23,
     "metadata": {},
     "output_type": "execute_result"
    }
   ],
   "source": [
    "predicted_dnn = model_dnn.predict(enc_test) > 0.5\n",
    "predicted_dnn.shape"
   ]
  },
  {
   "cell_type": "code",
   "execution_count": 24,
   "metadata": {},
   "outputs": [
    {
     "name": "stdout",
     "output_type": "stream",
     "text": [
      "Precision 0.92\n",
      "Recall 0.65\n"
     ]
    },
    {
     "data": {
      "image/png": "[encoded data removed]",
      "text/plain": [
       "<Figure size 640x480 with 2 Axes>"
      ]
     },
     "metadata": {},
     "output_type": "display_data"
    },
    {
     "name": "stdout",
     "output_type": "stream",
     "text": [
      "Precision 0.90\n",
      "Recall 0.70\n"
     ]
    },
    {
     "data": {
      "image/png": "[encoded data removed]",
      "text/plain": [
       "<Figure size 640x480 with 2 Axes>"
      ]
     },
     "metadata": {},
     "output_type": "display_data"
    },
    {
     "name": "stdout",
     "output_type": "stream",
     "text": [
      "Precision 0.84\n",
      "Recall 0.74\n"
     ]
    },
    {
     "data": {
      "image/png": "[encoded data removed]",
      "text/plain": [
       "<Figure size 640x480 with 2 Axes>"
      ]
     },
     "metadata": {},
     "output_type": "display_data"
    }
   ],
   "source": [
    "for model, predicted in [(\"svc\", predicted_svc), \n",
    "                                       (\"knn\", predicted_knn), \n",
    "                                       (\"dnn\", predicted_dnn)]:\n",
    "    \n",
    "    print(\"Precision {:.2f}\".format(precision_score(y_test, predicted)))\n",
    "    print(\"Recall {:.2f}\".format(recall_score(y_test, predicted)))\n",
    "    \n",
    "    cm = confusion_matrix(y_test, predicted)\n",
    "\n",
    "    ax = sns.heatmap(cm, annot=True, fmt=',')\n",
    "    ax.set_xlabel('Predicted labels'); \n",
    "    ax.set_ylabel('True labels')\n",
    "    ax.set_title(model); \n",
    "    ax.xaxis.set_ticklabels(['Normal', 'Fraud']); \n",
    "    ax.yaxis.set_ticklabels(['Normal', 'Fraud']);\n",
    "    ax.set(yticks=[0.5, 1.5], \n",
    "              xticks=[0.5, 1.5])\n",
    "    plt.show()"
   ]
  },
  {
   "cell_type": "code",
   "execution_count": null,
   "metadata": {},
   "outputs": [],
   "source": []
  }
 ],
 "metadata": {
  "accelerator": "GPU",
  "colab": {
   "collapsed_sections": [],
   "machine_shape": "hm",
   "provenance": []
  },
  "kernelspec": {
   "display_name": "soyeon",
   "language": "python",
   "name": "soyeon"
  },
  "language_info": {
   "codemirror_mode": {
    "name": "ipython",
    "version": 3
   },
   "file_extension": ".py",
   "mimetype": "text/x-python",
   "name": "python",
   "nbconvert_exporter": "python",
   "pygments_lexer": "ipython3",
   "version": "3.8.10"
  }
 },
 "nbformat": 4,
 "nbformat_minor": 1
}
