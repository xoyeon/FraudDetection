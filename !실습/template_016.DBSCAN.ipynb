{
 "cells": [
  {
   "cell_type": "markdown",
   "metadata": {},
   "source": [
    "# DBSCAN\n",
    "\n",
    "- 노이즈가있는 애플리케이션의 밀도 기반 공간 클러스터링   \n",
    "\n",
    "- 고밀도의 핵심 샘플을 찾아서 클러스터를 확장합니다. 밀도가 비슷한 클러스터를 포함하는 데이터에 적합합니다.  "
   ]
  },
  {
   "cell_type": "markdown",
   "metadata": {},
   "source": [
    "### Toy Data 생성\n",
    "- outlier가 있는 data points를 생성하고 DBSCAN 알고리즘이 outlier를 실제로 검출하는지 test"
   ]
  },
  {
   "cell_type": "markdown",
   "metadata": {},
   "source": [
    "- Data 시각화"
   ]
  },
  {
   "cell_type": "markdown",
   "metadata": {},
   "source": [
    "### DBSCAN model 학습  \n",
    "```\n",
    "DBSCAN(eps=epsilon, min_samples=minimumSamples)\n",
    "```\n",
    "- eps : 이웃으로 간주될 최대 거리 (Radius). 가장 중요한 DBSCAN 매개 변수.\n",
    "- min_samples : 코어 포인트로 간주될 포인트에 대한 이웃의 minimum 샘플 수(포인트 자체 포함)\n",
    "    \n",
    "    \n",
    "- core_sample_indices : core sample 의 index  \n",
    "- labels_ : 데이터 세트의 각 point에 대한 클러스터 레이블. outlier 에는 -1 이 지정."
   ]
  }
 ],
 "metadata": {
  "kernelspec": {
   "display_name": "Python 3 (ipykernel)",
   "language": "python",
   "name": "python3"
  },
  "language_info": {
   "codemirror_mode": {
    "name": "ipython",
    "version": 3
   },
   "file_extension": ".py",
   "mimetype": "text/x-python",
   "name": "python",
   "nbconvert_exporter": "python",
   "pygments_lexer": "ipython3",
   "version": "3.9.12"
  }
 },
 "nbformat": 4,
 "nbformat_minor": 2
}
