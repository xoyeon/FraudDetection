{
 "cells": [
  {
   "cell_type": "markdown",
   "metadata": {
    "id": "iEl3ncgPc0sv"
   },
   "source": [
    "\n",
    "# Autoencoder Reconstruction Error를 이용한 Fraud Detection\n",
    "\n",
    "- [Credit Card Fraud Detection](https://www.kaggle.com/mlg-ulb/creditcardfraud) - Kaggle\n",
    "\n",
    "\n",
    "- Highly Imbalanced Dataset - dataset는 2013 년 9 월 유럽 카드 소지자 신용 카드 거래로 만들었습니다. 이 dataset는 2 일 동안 발생한 거래를 보여 주며, 284,807 건의 거래 중 492 건의 fraud가 있습니다. 데이터세트는 매우 불균형하며 포지티브 클래스(사기)는 모든 거래의 0.172 %를 차지합니다.\n",
    "\n",
    "\n",
    "- 이 dataset는 PCA 변환의 결과인 숫자 입력 변수만 포함합니다. 안타깝게도 기밀 유지 문제로 인해 데이터에 대한 원래 feature와 추가 background 정보를 제공할 수 없습니다. 특성 V1, V2, ... V28은 PCA로 얻은 principal component이며 PCA로 변환되지 않은 유일한 기능은 `Time` 과 `Amount`입니다.`'Time` 특성은 각 트랜잭션과 데이터 세트의 첫 번째 트랜잭션 사이에 경과된 시간(초) 입니다. `Amount` 특성은 거래금액 입니다. \n",
    "\n",
    "\n",
    "\n",
    "- `Class`는 사기의 경우 1, 그렇지 않으면 0 입니다."
   ]
  },
  {
   "cell_type": "code",
   "execution_count": 1,
   "metadata": {},
   "outputs": [],
   "source": [
    "import pandas as pd\n",
    "import numpy as np\n",
    "import seaborn as sns\n",
    "import matplotlib.pyplot as plt \n",
    "import matplotlib.ticker as ticker\n",
    "\n",
    "from sklearn.model_selection import train_test_split\n",
    "from sklearn.metrics import precision_score, recall_score, confusion_matrix\n",
    "from sklearn.preprocessing import StandardScaler\n",
    "\n",
    "import tensorflow as tf\n",
    "from tensorflow.keras.models import Model, load_model\n",
    "from tensorflow.keras.layers import Input, Dense\n",
    "from tensorflow.keras.utils import plot_model\n",
    "\n",
    "np.random.seed(0)\n",
    "tf.random.set_seed(0)"
   ]
  },
  {
   "cell_type": "markdown",
   "metadata": {
    "id": "WTrPa78OJjUN"
   },
   "source": [
    "## Downloading of dataset"
   ]
  },
  {
   "cell_type": "code",
   "execution_count": 2,
   "metadata": {},
   "outputs": [
    {
     "data": {
      "text/html": [
       "<div>\n",
       "<style scoped>\n",
       "    .dataframe tbody tr th:only-of-type {\n",
       "        vertical-align: middle;\n",
       "    }\n",
       "\n",
       "    .dataframe tbody tr th {\n",
       "        vertical-align: top;\n",
       "    }\n",
       "\n",
       "    .dataframe thead th {\n",
       "        text-align: right;\n",
       "    }\n",
       "</style>\n",
       "<table border=\"1\" class=\"dataframe\">\n",
       "  <thead>\n",
       "    <tr style=\"text-align: right;\">\n",
       "      <th></th>\n",
       "      <th>Time</th>\n",
       "      <th>V1</th>\n",
       "      <th>V2</th>\n",
       "      <th>V3</th>\n",
       "      <th>V4</th>\n",
       "      <th>V5</th>\n",
       "      <th>V6</th>\n",
       "      <th>V7</th>\n",
       "      <th>V8</th>\n",
       "      <th>V9</th>\n",
       "      <th>...</th>\n",
       "      <th>V21</th>\n",
       "      <th>V22</th>\n",
       "      <th>V23</th>\n",
       "      <th>V24</th>\n",
       "      <th>V25</th>\n",
       "      <th>V26</th>\n",
       "      <th>V27</th>\n",
       "      <th>V28</th>\n",
       "      <th>Amount</th>\n",
       "      <th>Class</th>\n",
       "    </tr>\n",
       "  </thead>\n",
       "  <tbody>\n",
       "    <tr>\n",
       "      <th>0</th>\n",
       "      <td>0.0</td>\n",
       "      <td>-1.359807</td>\n",
       "      <td>-0.072781</td>\n",
       "      <td>2.536347</td>\n",
       "      <td>1.378155</td>\n",
       "      <td>-0.338321</td>\n",
       "      <td>0.462388</td>\n",
       "      <td>0.239599</td>\n",
       "      <td>0.098698</td>\n",
       "      <td>0.363787</td>\n",
       "      <td>...</td>\n",
       "      <td>-0.018307</td>\n",
       "      <td>0.277838</td>\n",
       "      <td>-0.110474</td>\n",
       "      <td>0.066928</td>\n",
       "      <td>0.128539</td>\n",
       "      <td>-0.189115</td>\n",
       "      <td>0.133558</td>\n",
       "      <td>-0.021053</td>\n",
       "      <td>149.62</td>\n",
       "      <td>0</td>\n",
       "    </tr>\n",
       "    <tr>\n",
       "      <th>1</th>\n",
       "      <td>0.0</td>\n",
       "      <td>1.191857</td>\n",
       "      <td>0.266151</td>\n",
       "      <td>0.166480</td>\n",
       "      <td>0.448154</td>\n",
       "      <td>0.060018</td>\n",
       "      <td>-0.082361</td>\n",
       "      <td>-0.078803</td>\n",
       "      <td>0.085102</td>\n",
       "      <td>-0.255425</td>\n",
       "      <td>...</td>\n",
       "      <td>-0.225775</td>\n",
       "      <td>-0.638672</td>\n",
       "      <td>0.101288</td>\n",
       "      <td>-0.339846</td>\n",
       "      <td>0.167170</td>\n",
       "      <td>0.125895</td>\n",
       "      <td>-0.008983</td>\n",
       "      <td>0.014724</td>\n",
       "      <td>2.69</td>\n",
       "      <td>0</td>\n",
       "    </tr>\n",
       "    <tr>\n",
       "      <th>2</th>\n",
       "      <td>1.0</td>\n",
       "      <td>-1.358354</td>\n",
       "      <td>-1.340163</td>\n",
       "      <td>1.773209</td>\n",
       "      <td>0.379780</td>\n",
       "      <td>-0.503198</td>\n",
       "      <td>1.800499</td>\n",
       "      <td>0.791461</td>\n",
       "      <td>0.247676</td>\n",
       "      <td>-1.514654</td>\n",
       "      <td>...</td>\n",
       "      <td>0.247998</td>\n",
       "      <td>0.771679</td>\n",
       "      <td>0.909412</td>\n",
       "      <td>-0.689281</td>\n",
       "      <td>-0.327642</td>\n",
       "      <td>-0.139097</td>\n",
       "      <td>-0.055353</td>\n",
       "      <td>-0.059752</td>\n",
       "      <td>378.66</td>\n",
       "      <td>0</td>\n",
       "    </tr>\n",
       "    <tr>\n",
       "      <th>3</th>\n",
       "      <td>1.0</td>\n",
       "      <td>-0.966272</td>\n",
       "      <td>-0.185226</td>\n",
       "      <td>1.792993</td>\n",
       "      <td>-0.863291</td>\n",
       "      <td>-0.010309</td>\n",
       "      <td>1.247203</td>\n",
       "      <td>0.237609</td>\n",
       "      <td>0.377436</td>\n",
       "      <td>-1.387024</td>\n",
       "      <td>...</td>\n",
       "      <td>-0.108300</td>\n",
       "      <td>0.005274</td>\n",
       "      <td>-0.190321</td>\n",
       "      <td>-1.175575</td>\n",
       "      <td>0.647376</td>\n",
       "      <td>-0.221929</td>\n",
       "      <td>0.062723</td>\n",
       "      <td>0.061458</td>\n",
       "      <td>123.50</td>\n",
       "      <td>0</td>\n",
       "    </tr>\n",
       "    <tr>\n",
       "      <th>4</th>\n",
       "      <td>2.0</td>\n",
       "      <td>-1.158233</td>\n",
       "      <td>0.877737</td>\n",
       "      <td>1.548718</td>\n",
       "      <td>0.403034</td>\n",
       "      <td>-0.407193</td>\n",
       "      <td>0.095921</td>\n",
       "      <td>0.592941</td>\n",
       "      <td>-0.270533</td>\n",
       "      <td>0.817739</td>\n",
       "      <td>...</td>\n",
       "      <td>-0.009431</td>\n",
       "      <td>0.798278</td>\n",
       "      <td>-0.137458</td>\n",
       "      <td>0.141267</td>\n",
       "      <td>-0.206010</td>\n",
       "      <td>0.502292</td>\n",
       "      <td>0.219422</td>\n",
       "      <td>0.215153</td>\n",
       "      <td>69.99</td>\n",
       "      <td>0</td>\n",
       "    </tr>\n",
       "  </tbody>\n",
       "</table>\n",
       "<p>5 rows × 31 columns</p>\n",
       "</div>"
      ],
      "text/plain": [
       "   Time        V1        V2        V3        V4        V5        V6        V7  \\\n",
       "0   0.0 -1.359807 -0.072781  2.536347  1.378155 -0.338321  0.462388  0.239599   \n",
       "1   0.0  1.191857  0.266151  0.166480  0.448154  0.060018 -0.082361 -0.078803   \n",
       "2   1.0 -1.358354 -1.340163  1.773209  0.379780 -0.503198  1.800499  0.791461   \n",
       "3   1.0 -0.966272 -0.185226  1.792993 -0.863291 -0.010309  1.247203  0.237609   \n",
       "4   2.0 -1.158233  0.877737  1.548718  0.403034 -0.407193  0.095921  0.592941   \n",
       "\n",
       "         V8        V9  ...       V21       V22       V23       V24       V25  \\\n",
       "0  0.098698  0.363787  ... -0.018307  0.277838 -0.110474  0.066928  0.128539   \n",
       "1  0.085102 -0.255425  ... -0.225775 -0.638672  0.101288 -0.339846  0.167170   \n",
       "2  0.247676 -1.514654  ...  0.247998  0.771679  0.909412 -0.689281 -0.327642   \n",
       "3  0.377436 -1.387024  ... -0.108300  0.005274 -0.190321 -1.175575  0.647376   \n",
       "4 -0.270533  0.817739  ... -0.009431  0.798278 -0.137458  0.141267 -0.206010   \n",
       "\n",
       "        V26       V27       V28  Amount  Class  \n",
       "0 -0.189115  0.133558 -0.021053  149.62      0  \n",
       "1  0.125895 -0.008983  0.014724    2.69      0  \n",
       "2 -0.139097 -0.055353 -0.059752  378.66      0  \n",
       "3 -0.221929  0.062723  0.061458  123.50      0  \n",
       "4  0.502292  0.219422  0.215153   69.99      0  \n",
       "\n",
       "[5 rows x 31 columns]"
      ]
     },
     "execution_count": 2,
     "metadata": {},
     "output_type": "execute_result"
    }
   ],
   "source": [
    "df = pd.read_csv( 'https://storage.googleapis.com/download.tensorflow.org/data/creditcard.csv')\n",
    "df.head()"
   ]
  },
  {
   "cell_type": "markdown",
   "metadata": {
    "id": "5Y0a-xNMeDEA"
   },
   "source": [
    "- the dataset is highly unbalanced"
   ]
  },
  {
   "cell_type": "code",
   "execution_count": 3,
   "metadata": {},
   "outputs": [
    {
     "data": {
      "text/plain": [
       "0    284315\n",
       "1       492\n",
       "Name: Class, dtype: int64"
      ]
     },
     "execution_count": 3,
     "metadata": {},
     "output_type": "execute_result"
    }
   ],
   "source": [
    "df['Class'].value_counts()"
   ]
  },
  {
   "cell_type": "code",
   "execution_count": 4,
   "metadata": {},
   "outputs": [
    {
     "name": "stdout",
     "output_type": "stream",
     "text": [
      "Total = 284,807\n",
      "Fraud = 0.17%\n",
      "Normal = 99.83%\n"
     ]
    }
   ],
   "source": [
    "fraud = (df['Class'] == 1).sum()\n",
    "normal = (df['Class'] == 0).sum()\n",
    "\n",
    "total = fraud + normal\n",
    "\n",
    "print(f\"Total = {total:,}\")\n",
    "print(f\"Fraud = {fraud/total*100:,.2f}%\")\n",
    "print(f\"Normal = {normal/total*100:,.2f}%\")"
   ]
  },
  {
   "cell_type": "markdown",
   "metadata": {
    "id": "Yz8jrMm2maRj"
   },
   "source": [
    "- Time 필드를 일중 시간으로 변환합니다.   \n",
    "- Amount 필드는 로그 스케일로 변환합니다."
   ]
  },
  {
   "cell_type": "code",
   "execution_count": 5,
   "metadata": {},
   "outputs": [],
   "source": [
    "df.loc[:, \"Time\"]   = df.loc[:, \"Time\"].apply(lambda x : x / 3600 % 24) #24 시간\n",
    "df.loc[:, 'Amount'] = np.log(df.loc[:, 'Amount'] + 1)"
   ]
  },
  {
   "cell_type": "markdown",
   "metadata": {
    "id": "6vzbL3QfJjUQ"
   },
   "source": [
    "- class 1 이 너무 적으므로 통상적인 7:3 대신 5:5 비율로 train, test set 분리"
   ]
  },
  {
   "cell_type": "code",
   "execution_count": 6,
   "metadata": {},
   "outputs": [
    {
     "data": {
      "text/plain": [
       "((142403, 30), (142404, 30), (142403,), (142404,))"
      ]
     },
     "execution_count": 6,
     "metadata": {},
     "output_type": "execute_result"
    }
   ],
   "source": [
    "X_train, X_test, y_train, y_test = train_test_split(\n",
    "                        df.drop('Class', axis=1), df['Class'], \n",
    "                        test_size=0.5, random_state=0)\n",
    "X_train.shape, X_test.shape, y_train.shape, y_test.shape"
   ]
  },
  {
   "cell_type": "code",
   "execution_count": 7,
   "metadata": {},
   "outputs": [],
   "source": [
    "sc = StandardScaler()\n",
    "X_train = sc.fit_transform(X_train.values)\n",
    "X_test  = sc.transform(X_test.values)"
   ]
  },
  {
   "cell_type": "code",
   "execution_count": 8,
   "metadata": {},
   "outputs": [
    {
     "data": {
      "text/plain": [
       "0    0.998251\n",
       "1    0.001749\n",
       "Name: Class, dtype: float64"
      ]
     },
     "execution_count": 8,
     "metadata": {},
     "output_type": "execute_result"
    }
   ],
   "source": [
    "y_train.value_counts() / y_train.count()"
   ]
  },
  {
   "cell_type": "code",
   "execution_count": 9,
   "metadata": {},
   "outputs": [
    {
     "data": {
      "text/plain": [
       "0    0.998294\n",
       "1    0.001706\n",
       "Name: Class, dtype: float64"
      ]
     },
     "execution_count": 9,
     "metadata": {},
     "output_type": "execute_result"
    }
   ],
   "source": [
    "y_test.value_counts() / y_test.count()"
   ]
  },
  {
   "cell_type": "markdown",
   "metadata": {
    "id": "otvOl-HcevoG"
   },
   "source": [
    "## Autoencoder Train"
   ]
  },
  {
   "cell_type": "markdown",
   "metadata": {
    "id": "xPpRAl0TeQR8"
   },
   "source": [
    "- 정상 거래로만 오토 인코더를 교육합니다.   \n",
    "\n",
    "- 사기성(비정상) 거래의 재구성 error 가 비사기성 거래보다 높을 것으로 기대합니다."
   ]
  },
  {
   "cell_type": "code",
   "execution_count": 10,
   "metadata": {},
   "outputs": [
    {
     "data": {
      "text/plain": [
       "((142154, 30), (249, 30))"
      ]
     },
     "execution_count": 10,
     "metadata": {},
     "output_type": "execute_result"
    }
   ],
   "source": [
    "X_train_normal = X_train[y_train == 0]\n",
    "X_train_fraud = X_train[y_train == 1]\n",
    "\n",
    "X_train_normal.shape, X_train_fraud.shape"
   ]
  },
  {
   "cell_type": "code",
   "execution_count": 12,
   "metadata": {},
   "outputs": [
    {
     "data": {
      "text/plain": [
       "((142161, 30), (243, 30))"
      ]
     },
     "execution_count": 12,
     "metadata": {},
     "output_type": "execute_result"
    }
   ],
   "source": [
    "X_test_normal = X_test[y_test == 0]\n",
    "X_test_fraud = X_test[y_test == 1]\n",
    "\n",
    "X_test_normal.shape, X_test_fraud.shape"
   ]
  },
  {
   "cell_type": "markdown",
   "metadata": {
    "id": "CbX1U5aheSla"
   },
   "source": [
    "## DNN model 작성\n",
    "- 정상 데이터만 사용"
   ]
  },
  {
   "cell_type": "code",
   "execution_count": 14,
   "metadata": {},
   "outputs": [
    {
     "name": "stdout",
     "output_type": "stream",
     "text": [
      "Model: \"model_1\"\n",
      "_________________________________________________________________\n",
      " Layer (type)                Output Shape              Param #   \n",
      "=================================================================\n",
      " input_2 (InputLayer)        [(None, 30)]              0         \n",
      "                                                                 \n",
      " dense_2 (Dense)             (None, 12)                372       \n",
      "                                                                 \n",
      " dense_3 (Dense)             (None, 30)                390       \n",
      "                                                                 \n",
      "=================================================================\n",
      "Total params: 762\n",
      "Trainable params: 762\n",
      "Non-trainable params: 0\n",
      "_________________________________________________________________\n"
     ]
    }
   ],
   "source": [
    "input_layer = Input(shape=(30,))\n",
    "encoded_normal = Dense(12, activation='relu')(input_layer)\n",
    "decoded_normal = Dense(30, activation='linear')(encoded_normal)\n",
    "\n",
    "autoencoder_normal = Model(input_layer, decoded_normal)\n",
    "autoencoder_normal.summary()"
   ]
  },
  {
   "cell_type": "code",
   "execution_count": 15,
   "metadata": {},
   "outputs": [],
   "source": [
    "autoencoder_normal.compile(optimizer='adam', loss='mse')"
   ]
  },
  {
   "cell_type": "markdown",
   "metadata": {
    "id": "GMG2m7rYJjUT"
   },
   "source": [
    "### 정상 data로 만 train  "
   ]
  },
  {
   "cell_type": "code",
   "execution_count": 19,
   "metadata": {},
   "outputs": [
    {
     "name": "stdout",
     "output_type": "stream",
     "text": [
      "Epoch 1/30\n",
      "1111/1111 [==============================] - 6s 5ms/step - loss: 0.7209 - val_loss: 0.5678\n",
      "Epoch 2/30\n",
      "1111/1111 [==============================] - 5s 5ms/step - loss: 0.5486 - val_loss: 0.5277\n",
      "Epoch 3/30\n",
      "1111/1111 [==============================] - 5s 4ms/step - loss: 0.5287 - val_loss: 0.5227\n",
      "Epoch 4/30\n",
      "1111/1111 [==============================] - 5s 4ms/step - loss: 0.5258 - val_loss: 0.5214\n",
      "Epoch 5/30\n",
      "1111/1111 [==============================] - 5s 4ms/step - loss: 0.5247 - val_loss: 0.5218\n",
      "Epoch 6/30\n",
      "1111/1111 [==============================] - 6s 6ms/step - loss: 0.5242 - val_loss: 0.5207\n",
      "Epoch 7/30\n",
      "1111/1111 [==============================] - 5s 4ms/step - loss: 0.5233 - val_loss: 0.5213\n",
      "Epoch 8/30\n",
      "1111/1111 [==============================] - 4s 3ms/step - loss: 0.5229 - val_loss: 0.5205\n",
      "Epoch 9/30\n",
      "1111/1111 [==============================] - 4s 4ms/step - loss: 0.5225 - val_loss: 0.5207\n",
      "Epoch 10/30\n",
      "1111/1111 [==============================] - 5s 5ms/step - loss: 0.5222 - val_loss: 0.5213\n",
      "Epoch 11/30\n",
      "1111/1111 [==============================] - 4s 4ms/step - loss: 0.5218 - val_loss: 0.5209\n",
      "Epoch 12/30\n",
      "1111/1111 [==============================] - 4s 4ms/step - loss: 0.5217 - val_loss: 0.5213\n",
      "Epoch 13/30\n",
      "1111/1111 [==============================] - 4s 4ms/step - loss: 0.5214 - val_loss: 0.5220\n",
      "Epoch 14/30\n",
      "1111/1111 [==============================] - 5s 4ms/step - loss: 0.5212 - val_loss: 0.5217\n",
      "Epoch 15/30\n",
      "1111/1111 [==============================] - 5s 4ms/step - loss: 0.5210 - val_loss: 0.5217\n",
      "Epoch 16/30\n",
      "1111/1111 [==============================] - 5s 4ms/step - loss: 0.5208 - val_loss: 0.5214\n",
      "Epoch 17/30\n",
      "1111/1111 [==============================] - 5s 4ms/step - loss: 0.5206 - val_loss: 0.5212\n",
      "Epoch 18/30\n",
      "1111/1111 [==============================] - 5s 5ms/step - loss: 0.5206 - val_loss: 0.5216\n",
      "Epoch 19/30\n",
      "1111/1111 [==============================] - 5s 5ms/step - loss: 0.5204 - val_loss: 0.5213\n",
      "Epoch 20/30\n",
      "1111/1111 [==============================] - 5s 5ms/step - loss: 0.5202 - val_loss: 0.5222\n",
      "Epoch 21/30\n",
      "1111/1111 [==============================] - 5s 4ms/step - loss: 0.5202 - val_loss: 0.5218\n",
      "Epoch 22/30\n",
      "1111/1111 [==============================] - 5s 4ms/step - loss: 0.5200 - val_loss: 0.5217\n",
      "Epoch 23/30\n",
      "1111/1111 [==============================] - 5s 4ms/step - loss: 0.5200 - val_loss: 0.5229\n",
      "Epoch 24/30\n",
      "1111/1111 [==============================] - 5s 5ms/step - loss: 0.5199 - val_loss: 0.5217\n",
      "Epoch 25/30\n",
      "1111/1111 [==============================] - 5s 5ms/step - loss: 0.5199 - val_loss: 0.5219\n",
      "Epoch 26/30\n",
      "1111/1111 [==============================] - 5s 4ms/step - loss: 0.5197 - val_loss: 0.5225\n",
      "Epoch 27/30\n",
      "1111/1111 [==============================] - 5s 4ms/step - loss: 0.5197 - val_loss: 0.5223\n",
      "Epoch 28/30\n",
      "1111/1111 [==============================] - 5s 4ms/step - loss: 0.5196 - val_loss: 0.5221\n",
      "Epoch 29/30\n",
      "1111/1111 [==============================] - 5s 4ms/step - loss: 0.5194 - val_loss: 0.5220\n",
      "Epoch 30/30\n",
      "1111/1111 [==============================] - 5s 4ms/step - loss: 0.5195 - val_loss: 0.5221\n"
     ]
    }
   ],
   "source": [
    "history = autoencoder_normal.fit(X_train_normal, X_train_normal,\n",
    "                                epochs=30, batch_size=128, validation_data=(X_test_normal, X_test_normal))"
   ]
  },
  {
   "cell_type": "code",
   "execution_count": 20,
   "metadata": {},
   "outputs": [
    {
     "data": {
      "text/plain": [
       "[<matplotlib.lines.Line2D at 0x25a0f8e7850>]"
      ]
     },
     "execution_count": 20,
     "metadata": {},
     "output_type": "execute_result"
    },
    {
     "data": {
      "image/png": "[encoded data removed]",
      "text/plain": [
       "<Figure size 640x480 with 1 Axes>"
      ]
     },
     "metadata": {},
     "output_type": "display_data"
    }
   ],
   "source": [
    "plt.plot(history.history['loss'])\n",
    "plt.plot(history.history['val_loss'])"
   ]
  },
  {
   "cell_type": "markdown",
   "metadata": {
    "id": "wztaRRboxZuc"
   },
   "source": [
    "## Reconstruction Error 시각화"
   ]
  },
  {
   "cell_type": "markdown",
   "metadata": {
    "id": "X6_eJfzzU5L7"
   },
   "source": [
    "- Anomaly data 와의 bar chart 비교를 위해 정상 abnormal data 갯수 만큼의 임의의 normal sample 을 선택"
   ]
  },
  {
   "cell_type": "code",
   "execution_count": 24,
   "metadata": {
    "scrolled": true
   },
   "outputs": [
    {
     "data": {
      "text/plain": [
       "(250, 30)"
      ]
     },
     "execution_count": 24,
     "metadata": {},
     "output_type": "execute_result"
    }
   ],
   "source": [
    "indices = np.random.choice(len(X_train_normal), 250, replace=False)\n",
    "Nom_data = X_train_normal[indices]\n",
    "Nom_data.shape"
   ]
  },
  {
   "cell_type": "markdown",
   "metadata": {
    "id": "P8APIzpjVzQJ"
   },
   "source": [
    "### 정상 data 및 fraud data 의 autoencoder 재 구성값\n",
    "- 정상 data의 metric"
   ]
  },
  {
   "cell_type": "code",
   "execution_count": 29,
   "metadata": {},
   "outputs": [
    {
     "data": {
      "text/html": [
       "<div>\n",
       "<style scoped>\n",
       "    .dataframe tbody tr th:only-of-type {\n",
       "        vertical-align: middle;\n",
       "    }\n",
       "\n",
       "    .dataframe tbody tr th {\n",
       "        vertical-align: top;\n",
       "    }\n",
       "\n",
       "    .dataframe thead th {\n",
       "        text-align: right;\n",
       "    }\n",
       "</style>\n",
       "<table border=\"1\" class=\"dataframe\">\n",
       "  <thead>\n",
       "    <tr style=\"text-align: right;\">\n",
       "      <th></th>\n",
       "      <th>Normal_mse</th>\n",
       "    </tr>\n",
       "  </thead>\n",
       "  <tbody>\n",
       "    <tr>\n",
       "      <th>0</th>\n",
       "      <td>0.323661</td>\n",
       "    </tr>\n",
       "    <tr>\n",
       "      <th>1</th>\n",
       "      <td>0.449387</td>\n",
       "    </tr>\n",
       "    <tr>\n",
       "      <th>2</th>\n",
       "      <td>0.507846</td>\n",
       "    </tr>\n",
       "    <tr>\n",
       "      <th>3</th>\n",
       "      <td>0.209401</td>\n",
       "    </tr>\n",
       "    <tr>\n",
       "      <th>4</th>\n",
       "      <td>0.146602</td>\n",
       "    </tr>\n",
       "    <tr>\n",
       "      <th>...</th>\n",
       "      <td>...</td>\n",
       "    </tr>\n",
       "    <tr>\n",
       "      <th>245</th>\n",
       "      <td>0.841729</td>\n",
       "    </tr>\n",
       "    <tr>\n",
       "      <th>246</th>\n",
       "      <td>0.848253</td>\n",
       "    </tr>\n",
       "    <tr>\n",
       "      <th>247</th>\n",
       "      <td>7.525966</td>\n",
       "    </tr>\n",
       "    <tr>\n",
       "      <th>248</th>\n",
       "      <td>0.488493</td>\n",
       "    </tr>\n",
       "    <tr>\n",
       "      <th>249</th>\n",
       "      <td>0.235403</td>\n",
       "    </tr>\n",
       "  </tbody>\n",
       "</table>\n",
       "<p>250 rows × 1 columns</p>\n",
       "</div>"
      ],
      "text/plain": [
       "     Normal_mse\n",
       "0      0.323661\n",
       "1      0.449387\n",
       "2      0.507846\n",
       "3      0.209401\n",
       "4      0.146602\n",
       "..          ...\n",
       "245    0.841729\n",
       "246    0.848253\n",
       "247    7.525966\n",
       "248    0.488493\n",
       "249    0.235403\n",
       "\n",
       "[250 rows x 1 columns]"
      ]
     },
     "execution_count": 29,
     "metadata": {},
     "output_type": "execute_result"
    }
   ],
   "source": [
    "Nom_pred = autoencoder_normal.predict(Nom_data, verbose=0)\n",
    "Nom_pred_mse = np.mean(np.power(Nom_data - Nom_pred,2),axis = 1)\n",
    "Nom_pred_mse_df = pd.DataFrame({'Normal_mse':Nom_pred_mse})\n",
    "Nom_pred_mse_df"
   ]
  },
  {
   "cell_type": "code",
   "execution_count": 32,
   "metadata": {},
   "outputs": [
    {
     "data": {
      "text/html": [
       "<div>\n",
       "<style scoped>\n",
       "    .dataframe tbody tr th:only-of-type {\n",
       "        vertical-align: middle;\n",
       "    }\n",
       "\n",
       "    .dataframe tbody tr th {\n",
       "        vertical-align: top;\n",
       "    }\n",
       "\n",
       "    .dataframe thead th {\n",
       "        text-align: right;\n",
       "    }\n",
       "</style>\n",
       "<table border=\"1\" class=\"dataframe\">\n",
       "  <thead>\n",
       "    <tr style=\"text-align: right;\">\n",
       "      <th></th>\n",
       "      <th>Normal_mse</th>\n",
       "    </tr>\n",
       "  </thead>\n",
       "  <tbody>\n",
       "    <tr>\n",
       "      <th>count</th>\n",
       "      <td>250.000000</td>\n",
       "    </tr>\n",
       "    <tr>\n",
       "      <th>mean</th>\n",
       "      <td>0.488805</td>\n",
       "    </tr>\n",
       "    <tr>\n",
       "      <th>std</th>\n",
       "      <td>0.765059</td>\n",
       "    </tr>\n",
       "    <tr>\n",
       "      <th>min</th>\n",
       "      <td>0.073068</td>\n",
       "    </tr>\n",
       "    <tr>\n",
       "      <th>25%</th>\n",
       "      <td>0.217388</td>\n",
       "    </tr>\n",
       "    <tr>\n",
       "      <th>50%</th>\n",
       "      <td>0.324156</td>\n",
       "    </tr>\n",
       "    <tr>\n",
       "      <th>75%</th>\n",
       "      <td>0.497000</td>\n",
       "    </tr>\n",
       "    <tr>\n",
       "      <th>max</th>\n",
       "      <td>7.525966</td>\n",
       "    </tr>\n",
       "  </tbody>\n",
       "</table>\n",
       "</div>"
      ],
      "text/plain": [
       "       Normal_mse\n",
       "count  250.000000\n",
       "mean     0.488805\n",
       "std      0.765059\n",
       "min      0.073068\n",
       "25%      0.217388\n",
       "50%      0.324156\n",
       "75%      0.497000\n",
       "max      7.525966"
      ]
     },
     "execution_count": 32,
     "metadata": {},
     "output_type": "execute_result"
    }
   ],
   "source": [
    "Nom_pred_mse_df.describe()"
   ]
  },
  {
   "cell_type": "markdown",
   "metadata": {
    "id": "bAjdGxX8maRo"
   },
   "source": [
    "- fraud data의 metric"
   ]
  },
  {
   "cell_type": "code",
   "execution_count": 36,
   "metadata": {},
   "outputs": [
    {
     "data": {
      "text/html": [
       "<div>\n",
       "<style scoped>\n",
       "    .dataframe tbody tr th:only-of-type {\n",
       "        vertical-align: middle;\n",
       "    }\n",
       "\n",
       "    .dataframe tbody tr th {\n",
       "        vertical-align: top;\n",
       "    }\n",
       "\n",
       "    .dataframe thead th {\n",
       "        text-align: right;\n",
       "    }\n",
       "</style>\n",
       "<table border=\"1\" class=\"dataframe\">\n",
       "  <thead>\n",
       "    <tr style=\"text-align: right;\">\n",
       "      <th></th>\n",
       "      <th>ANormal_mse</th>\n",
       "    </tr>\n",
       "  </thead>\n",
       "  <tbody>\n",
       "    <tr>\n",
       "      <th>count</th>\n",
       "      <td>249.000000</td>\n",
       "    </tr>\n",
       "    <tr>\n",
       "      <th>mean</th>\n",
       "      <td>23.071925</td>\n",
       "    </tr>\n",
       "    <tr>\n",
       "      <th>std</th>\n",
       "      <td>29.889388</td>\n",
       "    </tr>\n",
       "    <tr>\n",
       "      <th>min</th>\n",
       "      <td>0.205308</td>\n",
       "    </tr>\n",
       "    <tr>\n",
       "      <th>25%</th>\n",
       "      <td>4.035032</td>\n",
       "    </tr>\n",
       "    <tr>\n",
       "      <th>50%</th>\n",
       "      <td>8.850034</td>\n",
       "    </tr>\n",
       "    <tr>\n",
       "      <th>75%</th>\n",
       "      <td>26.266982</td>\n",
       "    </tr>\n",
       "    <tr>\n",
       "      <th>max</th>\n",
       "      <td>180.562786</td>\n",
       "    </tr>\n",
       "  </tbody>\n",
       "</table>\n",
       "</div>"
      ],
      "text/plain": [
       "       ANormal_mse\n",
       "count   249.000000\n",
       "mean     23.071925\n",
       "std      29.889388\n",
       "min       0.205308\n",
       "25%       4.035032\n",
       "50%       8.850034\n",
       "75%      26.266982\n",
       "max     180.562786"
      ]
     },
     "execution_count": 36,
     "metadata": {},
     "output_type": "execute_result"
    }
   ],
   "source": [
    "ANom_pred = autoencoder_normal.predict(X_train_fraud, verbose=0)\n",
    "ANom_pred_mse = np.mean(np.power(X_train_fraud - ANom_pred,2),axis = 1)\n",
    "ANom_pred_msee_df = pd.DataFrame({'ANormal_mse':ANom_pred_mse})\n",
    "ANom_pred_msee_df.describe()"
   ]
  },
  {
   "cell_type": "markdown",
   "metadata": {
    "id": "In0qGo81Wz0Z"
   },
   "source": [
    "- 정상 data 와 anomaly data 간의 MSE 차이 시각화"
   ]
  },
  {
   "cell_type": "code",
   "execution_count": 41,
   "metadata": {},
   "outputs": [
    {
     "data": {
      "image/png": "[encoded data removed]",
      "text/plain": [
       "<Figure size 640x480 with 1 Axes>"
      ]
     },
     "metadata": {},
     "output_type": "display_data"
    }
   ],
   "source": [
    "plt.title('MSE Compare')\n",
    "plt.hist(Nom_pred_mse, bins=10, color='blue', histtype='step', label='Normal Data')\n",
    "plt.hist(ANom_pred_mse, bins=10, color='red', histtype='step', label='Abnormal Data')\n",
    "plt.legend()\n",
    "plt.show()"
   ]
  },
  {
   "cell_type": "markdown",
   "metadata": {
    "id": "CXOYnoZvW7dE"
   },
   "source": [
    "- 정상, 비정상 data 의 box plot 비교"
   ]
  },
  {
   "cell_type": "code",
   "execution_count": 45,
   "metadata": {},
   "outputs": [
    {
     "data": {
      "image/png": "[encoded data removed]",
      "text/plain": [
       "<Figure size 640x480 with 1 Axes>"
      ]
     },
     "metadata": {},
     "output_type": "display_data"
    }
   ],
   "source": [
    "plt.boxplot([Nom_pred_mse,ANom_pred_mse])\n",
    "plt.title('Norm vs Abnormal')\n",
    "plt.xticks(ticks=[1,2], labels=['Normal','Abnormal'])\n",
    "plt.ylabel('MSE')\n",
    "plt.show()"
   ]
  },
  {
   "cell_type": "markdown",
   "metadata": {
    "id": "DzM40bzmU-UT"
   },
   "source": [
    "## reconstruction error threshold 결정"
   ]
  },
  {
   "cell_type": "code",
   "execution_count": 47,
   "metadata": {},
   "outputs": [
    {
     "name": "stdout",
     "output_type": "stream",
     "text": [
      "4451/4451 [==============================] - 10s 2ms/step\n"
     ]
    }
   ],
   "source": [
    "predictions = autoencoder_normal.predict(X_train)"
   ]
  },
  {
   "cell_type": "code",
   "execution_count": 50,
   "metadata": {},
   "outputs": [
    {
     "data": {
      "text/html": [
       "<div>\n",
       "<style scoped>\n",
       "    .dataframe tbody tr th:only-of-type {\n",
       "        vertical-align: middle;\n",
       "    }\n",
       "\n",
       "    .dataframe tbody tr th {\n",
       "        vertical-align: top;\n",
       "    }\n",
       "\n",
       "    .dataframe thead th {\n",
       "        text-align: right;\n",
       "    }\n",
       "</style>\n",
       "<table border=\"1\" class=\"dataframe\">\n",
       "  <thead>\n",
       "    <tr style=\"text-align: right;\">\n",
       "      <th></th>\n",
       "      <th>reconstruction_error</th>\n",
       "      <th>true_class</th>\n",
       "    </tr>\n",
       "  </thead>\n",
       "  <tbody>\n",
       "    <tr>\n",
       "      <th>269414</th>\n",
       "      <td>1.231213</td>\n",
       "      <td>0</td>\n",
       "    </tr>\n",
       "    <tr>\n",
       "      <th>75463</th>\n",
       "      <td>0.083158</td>\n",
       "      <td>0</td>\n",
       "    </tr>\n",
       "    <tr>\n",
       "      <th>99307</th>\n",
       "      <td>0.111818</td>\n",
       "      <td>0</td>\n",
       "    </tr>\n",
       "    <tr>\n",
       "      <th>212267</th>\n",
       "      <td>0.843475</td>\n",
       "      <td>0</td>\n",
       "    </tr>\n",
       "    <tr>\n",
       "      <th>157412</th>\n",
       "      <td>0.349573</td>\n",
       "      <td>0</td>\n",
       "    </tr>\n",
       "  </tbody>\n",
       "</table>\n",
       "</div>"
      ],
      "text/plain": [
       "        reconstruction_error  true_class\n",
       "269414              1.231213           0\n",
       "75463               0.083158           0\n",
       "99307               0.111818           0\n",
       "212267              0.843475           0\n",
       "157412              0.349573           0"
      ]
     },
     "execution_count": 50,
     "metadata": {},
     "output_type": "execute_result"
    }
   ],
   "source": [
    "mse = np.mean(np.power(X_train - predictions, 2), axis=1)\n",
    "error_df = pd.DataFrame({'reconstruction_error':mse, 'true_class':y_train})\n",
    "error_df.head()"
   ]
  },
  {
   "cell_type": "code",
   "execution_count": 55,
   "metadata": {},
   "outputs": [
    {
     "data": {
      "text/html": [
       "<div>\n",
       "<style scoped>\n",
       "    .dataframe tbody tr th:only-of-type {\n",
       "        vertical-align: middle;\n",
       "    }\n",
       "\n",
       "    .dataframe tbody tr th {\n",
       "        vertical-align: top;\n",
       "    }\n",
       "\n",
       "    .dataframe thead tr th {\n",
       "        text-align: left;\n",
       "    }\n",
       "\n",
       "    .dataframe thead tr:last-of-type th {\n",
       "        text-align: right;\n",
       "    }\n",
       "</style>\n",
       "<table border=\"1\" class=\"dataframe\">\n",
       "  <thead>\n",
       "    <tr>\n",
       "      <th></th>\n",
       "      <th colspan=\"8\" halign=\"left\">reconstruction_error</th>\n",
       "    </tr>\n",
       "    <tr>\n",
       "      <th></th>\n",
       "      <th>count</th>\n",
       "      <th>mean</th>\n",
       "      <th>std</th>\n",
       "      <th>min</th>\n",
       "      <th>25%</th>\n",
       "      <th>50%</th>\n",
       "      <th>75%</th>\n",
       "      <th>max</th>\n",
       "    </tr>\n",
       "    <tr>\n",
       "      <th>true_class</th>\n",
       "      <th></th>\n",
       "      <th></th>\n",
       "      <th></th>\n",
       "      <th></th>\n",
       "      <th></th>\n",
       "      <th></th>\n",
       "      <th></th>\n",
       "      <th></th>\n",
       "    </tr>\n",
       "  </thead>\n",
       "  <tbody>\n",
       "    <tr>\n",
       "      <th>0</th>\n",
       "      <td>142154.0</td>\n",
       "      <td>0.518537</td>\n",
       "      <td>1.816041</td>\n",
       "      <td>0.034423</td>\n",
       "      <td>0.211318</td>\n",
       "      <td>0.306342</td>\n",
       "      <td>0.480212</td>\n",
       "      <td>198.272645</td>\n",
       "    </tr>\n",
       "    <tr>\n",
       "      <th>1</th>\n",
       "      <td>249.0</td>\n",
       "      <td>23.071925</td>\n",
       "      <td>29.889388</td>\n",
       "      <td>0.205308</td>\n",
       "      <td>4.035032</td>\n",
       "      <td>8.850034</td>\n",
       "      <td>26.266982</td>\n",
       "      <td>180.562786</td>\n",
       "    </tr>\n",
       "  </tbody>\n",
       "</table>\n",
       "</div>"
      ],
      "text/plain": [
       "           reconstruction_error                                            \\\n",
       "                          count       mean        std       min       25%   \n",
       "true_class                                                                  \n",
       "0                      142154.0   0.518537   1.816041  0.034423  0.211318   \n",
       "1                         249.0  23.071925  29.889388  0.205308  4.035032   \n",
       "\n",
       "                                             \n",
       "                 50%        75%         max  \n",
       "true_class                                   \n",
       "0           0.306342   0.480212  198.272645  \n",
       "1           8.850034  26.266982  180.562786  "
      ]
     },
     "execution_count": 55,
     "metadata": {},
     "output_type": "execute_result"
    }
   ],
   "source": [
    "desc = error_df.groupby('true_class').describe()\n",
    "desc"
   ]
  },
  {
   "cell_type": "markdown",
   "metadata": {
    "id": "rRQepwFre9UM"
   },
   "source": [
    "- 위에서 볼 수 있듯이 사기성이 아닌 경우의 오류는 사기성 사례의 오류보다 낮습니다.   \n",
    "\n",
    "\n",
    "- mean + 3 * std 를 threshold 로 사용하여 test set 의 재구성 error (squared error) 가 threshold 보다 크면 fraud 거래로 분류합니다.  \n",
    "\n",
    "- 1 std - 68%, 2 std - 96%, 3std - 99.8%"
   ]
  },
  {
   "cell_type": "code",
   "execution_count": null,
   "metadata": {},
   "outputs": [],
   "source": []
  },
  {
   "cell_type": "code",
   "execution_count": null,
   "metadata": {},
   "outputs": [],
   "source": []
  },
  {
   "cell_type": "markdown",
   "metadata": {
    "id": "xHl-TL8smaRp"
   },
   "source": [
    "- 재구성 오류를 이용한 anomaly detection   \n",
    "- confusion matrix 시각화"
   ]
  },
  {
   "cell_type": "code",
   "execution_count": 58,
   "metadata": {},
   "outputs": [
    {
     "data": {
      "text/plain": [
       "({'3sigma': 5.966660160801331,\n",
       "  '2.5sigma': 5.058639656678637,\n",
       "  '2sigma': 4.150619152555942},\n",
       " 0.5185371360651645,\n",
       " 1.8160410082453888)"
      ]
     },
     "execution_count": 58,
     "metadata": {},
     "output_type": "execute_result"
    }
   ],
   "source": [
    "mean = desc['reconstruction_error']['mean'][0]\n",
    "std = desc['reconstruction_error']['std'][0]\n",
    "threshold = {\"3sigma\":mean + 3*std, \"2.5sigma\":mean + 2.5*std, \"2sigma\":mean + 2*std}\n",
    "\n",
    "threshold, mean, std"
   ]
  },
  {
   "cell_type": "code",
   "execution_count": 61,
   "metadata": {},
   "outputs": [
    {
     "name": "stdout",
     "output_type": "stream",
     "text": [
      "4451/4451 [==============================] - 11s 3ms/step\n",
      "Precision 0.12\n",
      "Recall 0.71\n"
     ]
    },
    {
     "data": {
      "image/png": "[encoded data removed]",
      "text/plain": [
       "<Figure size 640x480 with 2 Axes>"
      ]
     },
     "metadata": {},
     "output_type": "display_data"
    },
    {
     "name": "stdout",
     "output_type": "stream",
     "text": [
      "4451/4451 [==============================] - 10s 2ms/step\n",
      "Precision 0.13\n",
      "Recall 0.63\n"
     ]
    },
    {
     "data": {
      "image/png": "[encoded data removed]",
      "text/plain": [
       "<Figure size 640x480 with 2 Axes>"
      ]
     },
     "metadata": {},
     "output_type": "display_data"
    },
    {
     "name": "stdout",
     "output_type": "stream",
     "text": [
      "4451/4451 [==============================] - 9s 2ms/step\n",
      "Precision 0.15\n",
      "Recall 0.60\n"
     ]
    },
    {
     "data": {
      "image/png": "[encoded data removed]",
      "text/plain": [
       "<Figure size 640x480 with 2 Axes>"
      ]
     },
     "metadata": {},
     "output_type": "display_data"
    }
   ],
   "source": [
    "ths = sorted(threshold.items(), key=lambda kv: kv[1])\n",
    "\n",
    "for k, threshold in ths:\n",
    "\n",
    "    test_predictions = autoencoder_normal.predict(X_test)\n",
    "    mse = np.mean(np.power(X_test - test_predictions, 2), axis=1)\n",
    "    y_pred = [(lambda er: 1 if er >= threshold  else 0)(er) for er in mse]\n",
    "    \n",
    "    print(\"Precision {:.2f}\".format(precision_score(y_test, y_pred)))\n",
    "    print(\"Recall {:.2f}\".format(recall_score(y_test, y_pred)))\n",
    "\n",
    "    cm = confusion_matrix(y_test, y_pred)\n",
    "\n",
    "    ax = sns.heatmap(cm, annot=True, fmt=',')\n",
    "    ax.set_xlabel('Predicted labels'); \n",
    "    ax.set_ylabel('True labels')\n",
    "    ax.xaxis.set_ticklabels(['Normal', 'Fraud']); \n",
    "    ax.yaxis.set_ticklabels(['Normal', 'Fraud']);\n",
    "    ax.set(yticks=[0.5, 1.5], \n",
    "              xticks=[0.5, 1.5])\n",
    "    ax.set_title(k)\n",
    "    plt.show()"
   ]
  },
  {
   "cell_type": "code",
   "execution_count": null,
   "metadata": {},
   "outputs": [],
   "source": []
  }
 ],
 "metadata": {
  "accelerator": "GPU",
  "colab": {
   "collapsed_sections": [],
   "machine_shape": "hm",
   "provenance": []
  },
  "kernelspec": {
   "display_name": "soyeon",
   "language": "python",
   "name": "soyeon"
  },
  "language_info": {
   "codemirror_mode": {
    "name": "ipython",
    "version": 3
   },
   "file_extension": ".py",
   "mimetype": "text/x-python",
   "name": "python",
   "nbconvert_exporter": "python",
   "pygments_lexer": "ipython3",
   "version": "3.8.10"
  }
 },
 "nbformat": 4,
 "nbformat_minor": 1
}
