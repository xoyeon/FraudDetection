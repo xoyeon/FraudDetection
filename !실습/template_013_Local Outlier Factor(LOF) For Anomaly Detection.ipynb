{
 "cells": [
  {
   "cell_type": "markdown",
   "id": "30baa22f",
   "metadata": {},
   "source": [
    "# Local Outlier Factor (LOF) \n",
    "\n",
    "`LOF(Local Outlier Factor)` 알고리즘은 이웃과 관련하여 주어진 데이터 포인트의 로컬 밀도 편차를 계산하는 비지도 학습 이상 탐지 방법입니다. \n",
    "\n",
    "- 각 데이터 포인트의 로컬 밀도를 인접 데이터 포인트와 비교하고 밀도가 낮은 데이터 포인트를 비정상 또는 특이값으로 식별합니다.\n",
    "\n",
    "다음을 학습 합니다.\n",
    "\n",
    "- 특이치 검출(novelty detection)과 outlier detection의 차이점  \n",
    "- 특이치 검출(novelty detection)을 위해 LOF(Local Outlier Factor)를 사용하는 방법\n",
    "- 비정상(anomaly) 또는 이상치(outlier) 탐지를 위해 LOF(Local Outlier Factor)를 사용하는 방법"
   ]
  },
  {
   "cell_type": "markdown",
   "id": "e03f7415",
   "metadata": {},
   "source": [
    "### 불균형 데이터세트 만들기 \n",
    "- 서로 다른 mechanism 으로 생성된 두가지 data 를 하나로 섞어서 생성"
   ]
  },
  {
   "cell_type": "markdown",
   "id": "f1f53043",
   "metadata": {},
   "source": [
    "- data 시각화"
   ]
  },
  {
   "cell_type": "markdown",
   "id": "20e2af71",
   "metadata": {},
   "source": [
    "## Outlier/anomaly Detection Vs. Novelty Detection\n",
    "\n",
    "- LOF(Local Outlier Factor) 알고리즘은 이상치 검출(outlier/anomaly detection) 및 특이치 검출(Novelty Detection)에 모두 사용할 수 있습니다. Outlier / Anomaly Detection 및 Novelty Detection의 차이점은 훈련 데이터 세트에 있습니다.  \n",
    "\n",
    "    - Outlier/anomaly detection에는 훈련 데이터 세트의 이상치가 포함됩니다. 이 알고리즘은 고밀도 데이터가 있는 영역에 적합하고 outlier 및 anomaly를 무시합니다.\n",
    "\n",
    "    - Novelty Detection에는 모델을 훈련할 때 normal data point 만 포함됩니다. 그런 다음 모델은 예측을 위해 Outlier/Anomaly가 포함되어 있는 새 데이터 세트를 사용합니다. Novelty Detection의 이상값을 novelty (특이치) 라고도 합니다.\n",
    "    \n",
    "\n",
    "- outlier label 이 있는 데이터 세트가 있는 경우 두가지 모두에 사용할 수 있습니다. 그렇지 않으면 정상 데이터만으로 이루어진 훈련 데이터 세트를 얻을 수 없기 때문에 outlier detection 만 사용할 수 있습니다.\n",
    "\n",
    "\n",
    "- 고려되는 neighbor 수 (파라미터 n_neighbors)를 몇개로 하는지 정해진 것은 없으며 n_neighbors = 20을 사용하면 일반적으로 잘 작동하는 것으로 보입니다."
   ]
  },
  {
   "cell_type": "markdown",
   "id": "441f56d2",
   "metadata": {},
   "source": [
    "### 1. Local Outlier Factor (LOF) 를 사용한 특이치 검출 (Novelty Detection)\n",
    "\n",
    "- Novelty Detection을 사용하려면 LOF 의 novelty 파라미터를 True로 설정해야 합니다. \n",
    "```\n",
    "LocalOutlierFactor(n_neighbors=20, novelty=True)\n",
    "```\n",
    "- normal data로만 구성된 train set으로 모델을 fitting 하고 outlier를 포함하는 test dataset을 predict 합니다."
   ]
  },
  {
   "cell_type": "markdown",
   "id": "c82897c2",
   "metadata": {},
   "source": [
    "### 2. LOF(Local Outlier Factor)를 사용한 이상치 감지 (outlier detection) \n",
    "- 위와 동일한 데이터 세트에서 outlier detection을 훈련하고 예측하기 위한 LOF(Local Outlier Factor).   \n",
    "- normal 과 outlier 가 섞여 있는 dataset 으로 fit_predict 해야 합니다.\n",
    "- Outlier Detection algorithm을 활성화하려면 novelty=`False`로 설정해야 합니다. \n",
    "```\n",
    "LocalOutlierFactor(n_neighbors=5, novelty=False)  \n",
    "```\n",
    "- X_test 로 측정한 모델간 비교를 위해 X_test 사용"
   ]
  },
  {
   "cell_type": "markdown",
   "id": "3f6744c5",
   "metadata": {},
   "source": [
    "- 시각화를 통한 특이치 검축 / 이상치 검출 결과 비교"
   ]
  },
  {
   "cell_type": "markdown",
   "id": "d0e07b9b",
   "metadata": {},
   "source": [
    "- Novelty Detection model 에서는 minoriy observation 들을 특이치로 분류  \n",
    "- Anomaly Detection model 에서는 저밀도 영역을 정상으로 분류하고 밀도가 다른 영역을 이상치로 분류"
   ]
  }
 ],
 "metadata": {
  "kernelspec": {
   "display_name": "Python 3 (ipykernel)",
   "language": "python",
   "name": "python3"
  },
  "language_info": {
   "codemirror_mode": {
    "name": "ipython",
    "version": 3
   },
   "file_extension": ".py",
   "mimetype": "text/x-python",
   "name": "python",
   "nbconvert_exporter": "python",
   "pygments_lexer": "ipython3",
   "version": "3.9.12"
  }
 },
 "nbformat": 4,
 "nbformat_minor": 5
}
