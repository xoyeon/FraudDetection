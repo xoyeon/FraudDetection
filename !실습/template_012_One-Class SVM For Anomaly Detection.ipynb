{
 "cells": [
  {
   "cell_type": "markdown",
   "id": "30baa22f",
   "metadata": {},
   "source": [
    "# One-class SVM - novelty detection\n",
    "- `One-class SVM (svm_outlier_detection)`은 novelty detection을 위한 결정 기능을 학습하는 비지도 학습 알고리즘  \n",
    "\n",
    "- 새로운 데이터를 훈련 세트와 유사하거나 다른 것으로 분류  \n",
    "\n",
    "One-class SVM은 이상 또는 이상치 감지를 위한 비지도 모델입니다. 일반 지도학습 SVM과 달리 One-class SVM에는 모델 교육 프로세스에 대한 target label이 없습니다. 대신 normal 데이터 포인트에 대한 boundary를 학습하고 boundary 외부의 데이터를 비정상으로 식별합니다.  \n",
    "\n",
    "다음을 학습 합니다.\n",
    "\n",
    "- One-class SVM 모델을 훈련하는 방법\n",
    "- One-class SVM 모델에서 이상을 예측하는 방법  \n",
    "- 이상 예측에 대한 기본 임계값을 변경하는 방법\n",
    "- 예측 결과를 시각화하는 방법"
   ]
  },
  {
   "cell_type": "markdown",
   "id": "e03f7415",
   "metadata": {},
   "source": [
    "### Train Data 생성"
   ]
  },
  {
   "cell_type": "markdown",
   "id": "83386bdc",
   "metadata": {},
   "source": [
    "### Test Data 생성 \n",
    "- Train Data 와 같은 mechanism + 다른 mechanism"
   ]
  },
  {
   "cell_type": "markdown",
   "id": "89c62b38",
   "metadata": {},
   "source": [
    "### One-class SVM 모델 훈련 \n",
    "\n",
    "- kernel function    \n",
    "- SVM은 초평면(hyper-plane)이라는 개념을 사용하여 데이터를 분류  \n",
    "- kernel function을 이용한 차원 변경 trick 사용  \n",
    "\n",
    "- nu=0.01은 데이터 세트에 약 1%의 이상치가 있음을 의미  \n",
    "\n",
    "- Return 값 : -1 - outliers,  1 - inliers."
   ]
  },
  {
   "cell_type": "markdown",
   "id": "db9491a3",
   "metadata": {},
   "source": [
    "### Anomaly 예측 "
   ]
  },
  {
   "cell_type": "markdown",
   "id": "a147b6fe",
   "metadata": {},
   "source": [
    "### 시각화를 통한 original data와 anomaly 예측 결과 비교\n",
    "\n",
    "- 등고선 plot을 이용하여 train, test data, outlier data 가 분리 초평면(separating hyperplane )에서 얼마나 떨어져 있는지 표시  \n",
    "- decision_function(X) : 분리 초평면과의 거리 반환 \n"
   ]
  },
  {
   "cell_type": "markdown",
   "id": "c58f8a15",
   "metadata": {},
   "source": [
    "### 참고 - meshgrid 이해\n",
    "- numpy 를 이용하여 2차원 격자 만들기\n",
    "<img src=\"https://blog.kakaocdn.net/dn/BPOMh/btq5gFDL6j9/3TrmTm06aImuMaDBPbkBgK/img.png\" width=400/>"
   ]
  }
 ],
 "metadata": {
  "kernelspec": {
   "display_name": "Python 3 (ipykernel)",
   "language": "python",
   "name": "python3"
  },
  "language_info": {
   "codemirror_mode": {
    "name": "ipython",
    "version": 3
   },
   "file_extension": ".py",
   "mimetype": "text/x-python",
   "name": "python",
   "nbconvert_exporter": "python",
   "pygments_lexer": "ipython3",
   "version": "3.9.12"
  }
 },
 "nbformat": 4,
 "nbformat_minor": 5
}
