{
 "cells": [
  {
   "cell_type": "markdown",
   "id": "6a54f58b",
   "metadata": {
    "id": "6a54f58b"
   },
   "source": [
    "# 시계열 데이터의 Anomaly Detection 방법 비교\n",
    "\n",
    "- RNN을 이용한 지도학습 방법 - 이진 분류\n",
    "- Autoencoder 사용 방법 - 재구성 오류 측정\n",
    "- Variational Autoencoder 사용 방법 - 재구성 오류 측정"
   ]
  },
  {
   "cell_type": "markdown",
   "id": "50d40d7b",
   "metadata": {
    "id": "50d40d7b"
   },
   "source": [
    "- 이 연습문제에서는 RNN, 자동 인코더 및 변형 자동 인코더를 사용하여 [ECG5000 데이터 세트](http://www.timeseriesclassification.com/description.php?Dataset=ECG5000)에서 이상을 감지합니다.  이 데이터 세트에는 각각 140개의 데이터 포인트가 있는 5,000개의 심전도가 포함되어 있습니다. 각 예제에 0(비정상 리듬에 해당) 또는 1(정상 리듬에 해당)로 레이블이 지정된 데이터 세트의 단순화된 버전을 사용할 것입니다. 우리는 비정상적인 리듬을 식별하는 데 관심이 있습니다.   \n",
    "\n",
    "- \"ECG5000\"의 원본 데이터세트는 Physionet에서 다운로드한 20시간 길이의 ECG입니다. 이름은 BIDMC 울혈성 심부전 데이터베이스(chfdb)이고 레코드 \"chf07\"입니다. "
   ]
  },
  {
   "cell_type": "markdown",
   "id": "265d4877",
   "metadata": {
    "id": "265d4877"
   },
   "source": [
    "## Load and prepare ECG data"
   ]
  },
  {
   "cell_type": "markdown",
   "id": "gnXQbXyeCvLd",
   "metadata": {
    "id": "gnXQbXyeCvLd"
   },
   "source": [
    "normal, abnormal data 분리"
   ]
  },
  {
   "cell_type": "markdown",
   "id": "99398c7b",
   "metadata": {
    "id": "99398c7b"
   },
   "source": [
    "정상 ECG 시각화"
   ]
  },
  {
   "cell_type": "markdown",
   "id": "87c461ab",
   "metadata": {
    "id": "87c461ab"
   },
   "source": [
    "비정상 ECG 시각화"
   ]
  },
  {
   "cell_type": "markdown",
   "id": "51cf3f2f",
   "metadata": {
    "id": "51cf3f2f"
   },
   "source": [
    "### 이상 탐지를 위한 RNN\n",
    "데이터 세트의 레이블에 액세스할 수 있으므로 이상 감지를 이진 분류 지도 학습 문제로 설정할 수 있습니다. "
   ]
  },
  {
   "cell_type": "markdown",
   "id": "65b30eae",
   "metadata": {
    "id": "65b30eae"
   },
   "source": [
    "### 이상 감지를 위한 오토인코더\n",
    "autoencoder의 목적은 주어진 입력의 재구성 오류를 최소화하는 것입니다. 따라서 우리는 최소한의 오류로 이러한 예를 재구성할 수 있도록 정상 심전도 시퀀스에 대해서만 자동 인코더를 훈련할 것입니다.   \n",
    "비정상적인 리듬은 정상 시퀀스보다 재구성 오류가 더 높아야 하므로 재구성 오류가 고정 임계값보다 높은 경우의 리듬을 이상으로 분류할 수 있습니다."
   ]
  },
  {
   "cell_type": "markdown",
   "id": "84d6c130",
   "metadata": {
    "id": "84d6c130"
   },
   "source": [
    "오토인코더는 정상 ECG만 사용하여 훈련됩니다."
   ]
  },
  {
   "cell_type": "markdown",
   "id": "09289d94",
   "metadata": {
    "id": "09289d94"
   },
   "source": [
    "정상 데이터를 오토인코더로 인코딩과 디코딩을 한 후의 신호를 살펴봅니다."
   ]
  },
  {
   "cell_type": "markdown",
   "id": "3940f44c",
   "metadata": {
    "id": "3940f44c"
   },
   "source": [
    "비정상적 데이터 예제에 대한 유사한 플롯 만들기:"
   ]
  },
  {
   "cell_type": "markdown",
   "id": "bcf9ae9f",
   "metadata": {
    "id": "bcf9ae9f"
   },
   "source": [
    "### 이상 감지\n",
    "재구성 손실이 고정 임계값보다 큰지 여부를 계산하여 이상을 감지합니다. 이를 위해 훈련 세트의 정상 예제에 대한 평균 평균 오류를 계산한 다음 재구성 오류가 훈련 세트의 표준 편차보다 높으면 미래 예제를 비정상적인 것으로 분류합니다.\n",
    "\n",
    "훈련 세트의 정상 ECG에 대한 재구성 오류를 시각화 합니다."
   ]
  },
  {
   "cell_type": "markdown",
   "id": "ce9685b5",
   "metadata": {
    "id": "ce9685b5"
   },
   "source": [
    "평균 + 1 표준편차인 임계값을 선택합니다."
   ]
  },
  {
   "cell_type": "markdown",
   "id": "2c6edd65",
   "metadata": {
    "id": "2c6edd65"
   },
   "source": [
    "테스트 세트의 대부분의 비정상 example은 임계값보다 재구성 오류가 더 큽니다. 임계값을 변경하여 분류기의 정밀도와 재현율을 조정할 수 있습니다."
   ]
  },
  {
   "cell_type": "markdown",
   "id": "f1b0a8af",
   "metadata": {
    "id": "f1b0a8af"
   },
   "source": [
    "재구성 오류가 임계값보다 큰 경우 ECG를 이상으로 분류합니다.  \n",
    "재구성 오류를 이용한 이상치 예측과 label 을 비교하여 performance 를 측정합니다."
   ]
  },
  {
   "cell_type": "markdown",
   "id": "066421a4",
   "metadata": {
    "id": "066421a4"
   },
   "source": [
    "### 이상 감지를 위한 Variational Autoencoder\n",
    "오토인코더는 훈련 데이터에 과적합되는 경향이 강합니다. 이 문제를 완화하도록 설계된 VAE를 사용합니다. "
   ]
  },
  {
   "cell_type": "markdown",
   "id": "4da6792e",
   "metadata": {
    "id": "4da6792e"
   },
   "source": [
    "샘플링 단계를 포함하는 네트워크의 인코더 부분을 정의합니다."
   ]
  },
  {
   "cell_type": "markdown",
   "id": "46330865",
   "metadata": {
    "id": "46330865"
   },
   "source": [
    "이전과 마찬가지로 평균 절대 오차에 표준 편차 1을 더한 값에서 임계값을 계산합니다."
   ]
  },
  {
   "cell_type": "markdown",
   "id": "dfa51df5",
   "metadata": {
    "id": "dfa51df5"
   },
   "source": [
    "재구성 오류가 임계값보다 큰 경우 ECG를 이상으로 분류합니다."
   ]
  },
  {
   "cell_type": "markdown",
   "id": "7sPb-Jc3HcyM",
   "metadata": {
    "id": "7sPb-Jc3HcyM"
   },
   "source": [
    "variational autoencoder"
   ]
  },
  {
   "cell_type": "markdown",
   "id": "yysxmh9XHY1z",
   "metadata": {
    "id": "yysxmh9XHY1z"
   },
   "source": [
    "- autoencoder"
   ]
  },
  {
   "cell_type": "markdown",
   "id": "vLNX9eGbHhXI",
   "metadata": {
    "id": "vLNX9eGbHhXI"
   },
   "source": [
    "RNN 이진 분류 모델"
   ]
  }
 ],
 "metadata": {
  "accelerator": "GPU",
  "colab": {
   "name": "260_Anomaly Detection.ipynb",
   "provenance": []
  },
  "kernelspec": {
   "display_name": "Python 3 (ipykernel)",
   "language": "python",
   "name": "python3"
  },
  "language_info": {
   "codemirror_mode": {
    "name": "ipython",
    "version": 3
   },
   "file_extension": ".py",
   "mimetype": "text/x-python",
   "name": "python",
   "nbconvert_exporter": "python",
   "pygments_lexer": "ipython3",
   "version": "3.8.13"
  }
 },
 "nbformat": 4,
 "nbformat_minor": 5
}
