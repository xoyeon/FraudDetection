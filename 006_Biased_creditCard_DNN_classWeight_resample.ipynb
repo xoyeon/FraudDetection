{
 "cells": [
  {
   "cell_type": "markdown",
   "metadata": {
    "id": "SyQuWKAJt3xq"
   },
   "source": [
    "# Deep Learning model의 class weight 조정\n",
    "\n",
    "## DNN 이용, Class Weight 조정, OverSampling\n",
    "\n",
    "- Data 는 이전 실습 문제와 동일한 [Credit Card Fraud Detection](https://www.kaggle.com/mlg-ulb/creditcardfraud) - Kaggle"
   ]
  },
  {
   "cell_type": "code",
   "execution_count": 1,
   "metadata": {
    "id": "dH4wHxmzt3xy"
   },
   "outputs": [],
   "source": [
    "import tensorflow as tf\n",
    "from tensorflow.keras.layers import Dense, Dropout\n",
    "\n",
    "import matplotlib as mpl\n",
    "import matplotlib.pyplot as plt\n",
    "import numpy as np\n",
    "import pandas as pd\n",
    "import seaborn as sns\n",
    "from collections import Counter\n",
    "from sklearn.metrics import confusion_matrix, f1_score\n",
    "from sklearn.metrics import  accuracy_score, precision_score, recall_score, \\\n",
    "                            roc_curve, roc_auc_score\n",
    "\n",
    "from sklearn.model_selection import train_test_split\n",
    "from sklearn.preprocessing import StandardScaler\n",
    "mpl.rcParams['figure.figsize'] = (12, 10)"
   ]
  },
  {
   "cell_type": "markdown",
   "metadata": {
    "id": "IdW269nBt3x2"
   },
   "source": [
    "### Kaggle Credit Card Fraud dataset 다운로드"
   ]
  },
  {
   "cell_type": "code",
   "execution_count": 2,
   "metadata": {
    "colab": {
     "base_uri": "https://localhost:8080/",
     "height": 299
    },
    "id": "Zo_ucpfIt3x4",
    "outputId": "2f4d4e7b-b67d-497f-8871-2fcdb017e7ff"
   },
   "outputs": [
    {
     "data": {
      "text/html": [
       "\n",
       "  <div id=\"df-d545e690-98ca-4be4-933a-4289e934c4c7\">\n",
       "    <div class=\"colab-df-container\">\n",
       "      <div>\n",
       "<style scoped>\n",
       "    .dataframe tbody tr th:only-of-type {\n",
       "        vertical-align: middle;\n",
       "    }\n",
       "\n",
       "    .dataframe tbody tr th {\n",
       "        vertical-align: top;\n",
       "    }\n",
       "\n",
       "    .dataframe thead th {\n",
       "        text-align: right;\n",
       "    }\n",
       "</style>\n",
       "<table border=\"1\" class=\"dataframe\">\n",
       "  <thead>\n",
       "    <tr style=\"text-align: right;\">\n",
       "      <th></th>\n",
       "      <th>Time</th>\n",
       "      <th>V1</th>\n",
       "      <th>V2</th>\n",
       "      <th>V3</th>\n",
       "      <th>V4</th>\n",
       "      <th>V5</th>\n",
       "      <th>V6</th>\n",
       "      <th>V7</th>\n",
       "      <th>V8</th>\n",
       "      <th>V9</th>\n",
       "      <th>...</th>\n",
       "      <th>V21</th>\n",
       "      <th>V22</th>\n",
       "      <th>V23</th>\n",
       "      <th>V24</th>\n",
       "      <th>V25</th>\n",
       "      <th>V26</th>\n",
       "      <th>V27</th>\n",
       "      <th>V28</th>\n",
       "      <th>Amount</th>\n",
       "      <th>Class</th>\n",
       "    </tr>\n",
       "  </thead>\n",
       "  <tbody>\n",
       "    <tr>\n",
       "      <th>0</th>\n",
       "      <td>0.0</td>\n",
       "      <td>-1.359807</td>\n",
       "      <td>-0.072781</td>\n",
       "      <td>2.536347</td>\n",
       "      <td>1.378155</td>\n",
       "      <td>-0.338321</td>\n",
       "      <td>0.462388</td>\n",
       "      <td>0.239599</td>\n",
       "      <td>0.098698</td>\n",
       "      <td>0.363787</td>\n",
       "      <td>...</td>\n",
       "      <td>-0.018307</td>\n",
       "      <td>0.277838</td>\n",
       "      <td>-0.110474</td>\n",
       "      <td>0.066928</td>\n",
       "      <td>0.128539</td>\n",
       "      <td>-0.189115</td>\n",
       "      <td>0.133558</td>\n",
       "      <td>-0.021053</td>\n",
       "      <td>149.62</td>\n",
       "      <td>0</td>\n",
       "    </tr>\n",
       "    <tr>\n",
       "      <th>1</th>\n",
       "      <td>0.0</td>\n",
       "      <td>1.191857</td>\n",
       "      <td>0.266151</td>\n",
       "      <td>0.166480</td>\n",
       "      <td>0.448154</td>\n",
       "      <td>0.060018</td>\n",
       "      <td>-0.082361</td>\n",
       "      <td>-0.078803</td>\n",
       "      <td>0.085102</td>\n",
       "      <td>-0.255425</td>\n",
       "      <td>...</td>\n",
       "      <td>-0.225775</td>\n",
       "      <td>-0.638672</td>\n",
       "      <td>0.101288</td>\n",
       "      <td>-0.339846</td>\n",
       "      <td>0.167170</td>\n",
       "      <td>0.125895</td>\n",
       "      <td>-0.008983</td>\n",
       "      <td>0.014724</td>\n",
       "      <td>2.69</td>\n",
       "      <td>0</td>\n",
       "    </tr>\n",
       "    <tr>\n",
       "      <th>2</th>\n",
       "      <td>1.0</td>\n",
       "      <td>-1.358354</td>\n",
       "      <td>-1.340163</td>\n",
       "      <td>1.773209</td>\n",
       "      <td>0.379780</td>\n",
       "      <td>-0.503198</td>\n",
       "      <td>1.800499</td>\n",
       "      <td>0.791461</td>\n",
       "      <td>0.247676</td>\n",
       "      <td>-1.514654</td>\n",
       "      <td>...</td>\n",
       "      <td>0.247998</td>\n",
       "      <td>0.771679</td>\n",
       "      <td>0.909412</td>\n",
       "      <td>-0.689281</td>\n",
       "      <td>-0.327642</td>\n",
       "      <td>-0.139097</td>\n",
       "      <td>-0.055353</td>\n",
       "      <td>-0.059752</td>\n",
       "      <td>378.66</td>\n",
       "      <td>0</td>\n",
       "    </tr>\n",
       "    <tr>\n",
       "      <th>3</th>\n",
       "      <td>1.0</td>\n",
       "      <td>-0.966272</td>\n",
       "      <td>-0.185226</td>\n",
       "      <td>1.792993</td>\n",
       "      <td>-0.863291</td>\n",
       "      <td>-0.010309</td>\n",
       "      <td>1.247203</td>\n",
       "      <td>0.237609</td>\n",
       "      <td>0.377436</td>\n",
       "      <td>-1.387024</td>\n",
       "      <td>...</td>\n",
       "      <td>-0.108300</td>\n",
       "      <td>0.005274</td>\n",
       "      <td>-0.190321</td>\n",
       "      <td>-1.175575</td>\n",
       "      <td>0.647376</td>\n",
       "      <td>-0.221929</td>\n",
       "      <td>0.062723</td>\n",
       "      <td>0.061458</td>\n",
       "      <td>123.50</td>\n",
       "      <td>0</td>\n",
       "    </tr>\n",
       "    <tr>\n",
       "      <th>4</th>\n",
       "      <td>2.0</td>\n",
       "      <td>-1.158233</td>\n",
       "      <td>0.877737</td>\n",
       "      <td>1.548718</td>\n",
       "      <td>0.403034</td>\n",
       "      <td>-0.407193</td>\n",
       "      <td>0.095921</td>\n",
       "      <td>0.592941</td>\n",
       "      <td>-0.270533</td>\n",
       "      <td>0.817739</td>\n",
       "      <td>...</td>\n",
       "      <td>-0.009431</td>\n",
       "      <td>0.798278</td>\n",
       "      <td>-0.137458</td>\n",
       "      <td>0.141267</td>\n",
       "      <td>-0.206010</td>\n",
       "      <td>0.502292</td>\n",
       "      <td>0.219422</td>\n",
       "      <td>0.215153</td>\n",
       "      <td>69.99</td>\n",
       "      <td>0</td>\n",
       "    </tr>\n",
       "  </tbody>\n",
       "</table>\n",
       "<p>5 rows × 31 columns</p>\n",
       "</div>\n",
       "      <button class=\"colab-df-convert\" onclick=\"convertToInteractive('df-d545e690-98ca-4be4-933a-4289e934c4c7')\"\n",
       "              title=\"Convert this dataframe to an interactive table.\"\n",
       "              style=\"display:none;\">\n",
       "        \n",
       "  <svg xmlns=\"http://www.w3.org/2000/svg\" height=\"24px\"viewBox=\"0 0 24 24\"\n",
       "       width=\"24px\">\n",
       "    <path d=\"M0 0h24v24H0V0z\" fill=\"none\"/>\n",
       "    <path d=\"M18.56 5.44l.94 2.06.94-2.06 2.06-.94-2.06-.94-.94-2.06-.94 2.06-2.06.94zm-11 1L8.5 8.5l.94-2.06 2.06-.94-2.06-.94L8.5 2.5l-.94 2.06-2.06.94zm10 10l.94 2.06.94-2.06 2.06-.94-2.06-.94-.94-2.06-.94 2.06-2.06.94z\"/><path d=\"M17.41 7.96l-1.37-1.37c-.4-.4-.92-.59-1.43-.59-.52 0-1.04.2-1.43.59L10.3 9.45l-7.72 7.72c-.78.78-.78 2.05 0 2.83L4 21.41c.39.39.9.59 1.41.59.51 0 1.02-.2 1.41-.59l7.78-7.78 2.81-2.81c.8-.78.8-2.07 0-2.86zM5.41 20L4 18.59l7.72-7.72 1.47 1.35L5.41 20z\"/>\n",
       "  </svg>\n",
       "      </button>\n",
       "      \n",
       "  <style>\n",
       "    .colab-df-container {\n",
       "      display:flex;\n",
       "      flex-wrap:wrap;\n",
       "      gap: 12px;\n",
       "    }\n",
       "\n",
       "    .colab-df-convert {\n",
       "      background-color: #E8F0FE;\n",
       "      border: none;\n",
       "      border-radius: 50%;\n",
       "      cursor: pointer;\n",
       "      display: none;\n",
       "      fill: #1967D2;\n",
       "      height: 32px;\n",
       "      padding: 0 0 0 0;\n",
       "      width: 32px;\n",
       "    }\n",
       "\n",
       "    .colab-df-convert:hover {\n",
       "      background-color: #E2EBFA;\n",
       "      box-shadow: 0px 1px 2px rgba(60, 64, 67, 0.3), 0px 1px 3px 1px rgba(60, 64, 67, 0.15);\n",
       "      fill: #174EA6;\n",
       "    }\n",
       "\n",
       "    [theme=dark] .colab-df-convert {\n",
       "      background-color: #3B4455;\n",
       "      fill: #D2E3FC;\n",
       "    }\n",
       "\n",
       "    [theme=dark] .colab-df-convert:hover {\n",
       "      background-color: #434B5C;\n",
       "      box-shadow: 0px 1px 3px 1px rgba(0, 0, 0, 0.15);\n",
       "      filter: drop-shadow(0px 1px 2px rgba(0, 0, 0, 0.3));\n",
       "      fill: #FFFFFF;\n",
       "    }\n",
       "  </style>\n",
       "\n",
       "      <script>\n",
       "        const buttonEl =\n",
       "          document.querySelector('#df-d545e690-98ca-4be4-933a-4289e934c4c7 button.colab-df-convert');\n",
       "        buttonEl.style.display =\n",
       "          google.colab.kernel.accessAllowed ? 'block' : 'none';\n",
       "\n",
       "        async function convertToInteractive(key) {\n",
       "          const element = document.querySelector('#df-d545e690-98ca-4be4-933a-4289e934c4c7');\n",
       "          const dataTable =\n",
       "            await google.colab.kernel.invokeFunction('convertToInteractive',\n",
       "                                                     [key], {});\n",
       "          if (!dataTable) return;\n",
       "\n",
       "          const docLinkHtml = 'Like what you see? Visit the ' +\n",
       "            '<a target=\"_blank\" href=https://colab.research.google.com/notebooks/data_table.ipynb>data table notebook</a>'\n",
       "            + ' to learn more about interactive tables.';\n",
       "          element.innerHTML = '';\n",
       "          dataTable['output_type'] = 'display_data';\n",
       "          await google.colab.output.renderOutput(dataTable, element);\n",
       "          const docLink = document.createElement('div');\n",
       "          docLink.innerHTML = docLinkHtml;\n",
       "          element.appendChild(docLink);\n",
       "        }\n",
       "      </script>\n",
       "    </div>\n",
       "  </div>\n",
       "  "
      ],
      "text/plain": [
       "   Time        V1        V2        V3        V4        V5        V6        V7  \\\n",
       "0   0.0 -1.359807 -0.072781  2.536347  1.378155 -0.338321  0.462388  0.239599   \n",
       "1   0.0  1.191857  0.266151  0.166480  0.448154  0.060018 -0.082361 -0.078803   \n",
       "2   1.0 -1.358354 -1.340163  1.773209  0.379780 -0.503198  1.800499  0.791461   \n",
       "3   1.0 -0.966272 -0.185226  1.792993 -0.863291 -0.010309  1.247203  0.237609   \n",
       "4   2.0 -1.158233  0.877737  1.548718  0.403034 -0.407193  0.095921  0.592941   \n",
       "\n",
       "         V8        V9  ...       V21       V22       V23       V24       V25  \\\n",
       "0  0.098698  0.363787  ... -0.018307  0.277838 -0.110474  0.066928  0.128539   \n",
       "1  0.085102 -0.255425  ... -0.225775 -0.638672  0.101288 -0.339846  0.167170   \n",
       "2  0.247676 -1.514654  ...  0.247998  0.771679  0.909412 -0.689281 -0.327642   \n",
       "3  0.377436 -1.387024  ... -0.108300  0.005274 -0.190321 -1.175575  0.647376   \n",
       "4 -0.270533  0.817739  ... -0.009431  0.798278 -0.137458  0.141267 -0.206010   \n",
       "\n",
       "        V26       V27       V28  Amount  Class  \n",
       "0 -0.189115  0.133558 -0.021053  149.62      0  \n",
       "1  0.125895 -0.008983  0.014724    2.69      0  \n",
       "2 -0.139097 -0.055353 -0.059752  378.66      0  \n",
       "3 -0.221929  0.062723  0.061458  123.50      0  \n",
       "4  0.502292  0.219422  0.215153   69.99      0  \n",
       "\n",
       "[5 rows x 31 columns]"
      ]
     },
     "execution_count": 2,
     "metadata": {},
     "output_type": "execute_result"
    }
   ],
   "source": [
    "df = pd.read_csv('https://storage.googleapis.com/download.tensorflow.org/data/creditcard.csv')\n",
    "df.head()"
   ]
  },
  {
   "cell_type": "markdown",
   "metadata": {
    "id": "738aexZRt3x-"
   },
   "source": [
    "### 클래스 레이블 불균형 조사"
   ]
  },
  {
   "cell_type": "code",
   "execution_count": 3,
   "metadata": {
    "colab": {
     "base_uri": "https://localhost:8080/"
    },
    "id": "2nnddVRjGIpU",
    "outputId": "164d2d61-eeb2-4e64-865f-cb0aef55903b"
   },
   "outputs": [
    {
     "data": {
      "text/plain": [
       "0    284315\n",
       "1       492\n",
       "Name: Class, dtype: int64"
      ]
     },
     "execution_count": 3,
     "metadata": {},
     "output_type": "execute_result"
    }
   ],
   "source": [
    "df['Class'].value_counts()"
   ]
  },
  {
   "cell_type": "code",
   "execution_count": 4,
   "metadata": {
    "colab": {
     "base_uri": "https://localhost:8080/"
    },
    "id": "k_Q_Zwbkt3x_",
    "outputId": "430058d4-1b56-455d-b277-54c9a333b743"
   },
   "outputs": [
    {
     "name": "stdout",
     "output_type": "stream",
     "text": [
      "Total 건수: 284807\n",
      "Positive 건수/비율: 492 (0.17%)\n"
     ]
    }
   ],
   "source": [
    "neg, pos = df['Class'].value_counts().values.tolist()\n",
    "total = neg + pos\n",
    "print(f'Total 건수: {total}\\nPositive 건수/비율: {pos} ({pos/total*100:.2f}%)')"
   ]
  },
  {
   "cell_type": "markdown",
   "metadata": {
    "id": "USH9Dhvjt3yG"
   },
   "source": [
    "## Data 전처리 \n",
    "\n",
    "- 2 일 동안의 data가 00:00:00 부터 발생했으므로 Time을 일중 시간으로 변경 : time / 3600 초 % 24 시간  \n",
    "- Amount column 은 편차가 크므로 log-scale 로 변환"
   ]
  },
  {
   "cell_type": "code",
   "execution_count": 5,
   "metadata": {
    "colab": {
     "base_uri": "https://localhost:8080/",
     "height": 299
    },
    "id": "3UxK9Icz-W2r",
    "outputId": "2057ef9e-5c31-4c80-ede6-43458f44deda"
   },
   "outputs": [
    {
     "data": {
      "text/html": [
       "\n",
       "  <div id=\"df-93a2972d-274a-4633-80af-266eb740893e\">\n",
       "    <div class=\"colab-df-container\">\n",
       "      <div>\n",
       "<style scoped>\n",
       "    .dataframe tbody tr th:only-of-type {\n",
       "        vertical-align: middle;\n",
       "    }\n",
       "\n",
       "    .dataframe tbody tr th {\n",
       "        vertical-align: top;\n",
       "    }\n",
       "\n",
       "    .dataframe thead th {\n",
       "        text-align: right;\n",
       "    }\n",
       "</style>\n",
       "<table border=\"1\" class=\"dataframe\">\n",
       "  <thead>\n",
       "    <tr style=\"text-align: right;\">\n",
       "      <th></th>\n",
       "      <th>Time</th>\n",
       "      <th>V1</th>\n",
       "      <th>V2</th>\n",
       "      <th>V3</th>\n",
       "      <th>V4</th>\n",
       "      <th>V5</th>\n",
       "      <th>V6</th>\n",
       "      <th>V7</th>\n",
       "      <th>V8</th>\n",
       "      <th>V9</th>\n",
       "      <th>...</th>\n",
       "      <th>V21</th>\n",
       "      <th>V22</th>\n",
       "      <th>V23</th>\n",
       "      <th>V24</th>\n",
       "      <th>V25</th>\n",
       "      <th>V26</th>\n",
       "      <th>V27</th>\n",
       "      <th>V28</th>\n",
       "      <th>Class</th>\n",
       "      <th>Amount</th>\n",
       "    </tr>\n",
       "  </thead>\n",
       "  <tbody>\n",
       "    <tr>\n",
       "      <th>0</th>\n",
       "      <td>0.000000</td>\n",
       "      <td>-1.359807</td>\n",
       "      <td>-0.072781</td>\n",
       "      <td>2.536347</td>\n",
       "      <td>1.378155</td>\n",
       "      <td>-0.338321</td>\n",
       "      <td>0.462388</td>\n",
       "      <td>0.239599</td>\n",
       "      <td>0.098698</td>\n",
       "      <td>0.363787</td>\n",
       "      <td>...</td>\n",
       "      <td>-0.018307</td>\n",
       "      <td>0.277838</td>\n",
       "      <td>-0.110474</td>\n",
       "      <td>0.066928</td>\n",
       "      <td>0.128539</td>\n",
       "      <td>-0.189115</td>\n",
       "      <td>0.133558</td>\n",
       "      <td>-0.021053</td>\n",
       "      <td>0</td>\n",
       "      <td>5.008105</td>\n",
       "    </tr>\n",
       "    <tr>\n",
       "      <th>1</th>\n",
       "      <td>0.000000</td>\n",
       "      <td>1.191857</td>\n",
       "      <td>0.266151</td>\n",
       "      <td>0.166480</td>\n",
       "      <td>0.448154</td>\n",
       "      <td>0.060018</td>\n",
       "      <td>-0.082361</td>\n",
       "      <td>-0.078803</td>\n",
       "      <td>0.085102</td>\n",
       "      <td>-0.255425</td>\n",
       "      <td>...</td>\n",
       "      <td>-0.225775</td>\n",
       "      <td>-0.638672</td>\n",
       "      <td>0.101288</td>\n",
       "      <td>-0.339846</td>\n",
       "      <td>0.167170</td>\n",
       "      <td>0.125895</td>\n",
       "      <td>-0.008983</td>\n",
       "      <td>0.014724</td>\n",
       "      <td>0</td>\n",
       "      <td>0.989913</td>\n",
       "    </tr>\n",
       "    <tr>\n",
       "      <th>2</th>\n",
       "      <td>0.000278</td>\n",
       "      <td>-1.358354</td>\n",
       "      <td>-1.340163</td>\n",
       "      <td>1.773209</td>\n",
       "      <td>0.379780</td>\n",
       "      <td>-0.503198</td>\n",
       "      <td>1.800499</td>\n",
       "      <td>0.791461</td>\n",
       "      <td>0.247676</td>\n",
       "      <td>-1.514654</td>\n",
       "      <td>...</td>\n",
       "      <td>0.247998</td>\n",
       "      <td>0.771679</td>\n",
       "      <td>0.909412</td>\n",
       "      <td>-0.689281</td>\n",
       "      <td>-0.327642</td>\n",
       "      <td>-0.139097</td>\n",
       "      <td>-0.055353</td>\n",
       "      <td>-0.059752</td>\n",
       "      <td>0</td>\n",
       "      <td>5.936641</td>\n",
       "    </tr>\n",
       "    <tr>\n",
       "      <th>3</th>\n",
       "      <td>0.000278</td>\n",
       "      <td>-0.966272</td>\n",
       "      <td>-0.185226</td>\n",
       "      <td>1.792993</td>\n",
       "      <td>-0.863291</td>\n",
       "      <td>-0.010309</td>\n",
       "      <td>1.247203</td>\n",
       "      <td>0.237609</td>\n",
       "      <td>0.377436</td>\n",
       "      <td>-1.387024</td>\n",
       "      <td>...</td>\n",
       "      <td>-0.108300</td>\n",
       "      <td>0.005274</td>\n",
       "      <td>-0.190321</td>\n",
       "      <td>-1.175575</td>\n",
       "      <td>0.647376</td>\n",
       "      <td>-0.221929</td>\n",
       "      <td>0.062723</td>\n",
       "      <td>0.061458</td>\n",
       "      <td>0</td>\n",
       "      <td>4.816249</td>\n",
       "    </tr>\n",
       "    <tr>\n",
       "      <th>4</th>\n",
       "      <td>0.000556</td>\n",
       "      <td>-1.158233</td>\n",
       "      <td>0.877737</td>\n",
       "      <td>1.548718</td>\n",
       "      <td>0.403034</td>\n",
       "      <td>-0.407193</td>\n",
       "      <td>0.095921</td>\n",
       "      <td>0.592941</td>\n",
       "      <td>-0.270533</td>\n",
       "      <td>0.817739</td>\n",
       "      <td>...</td>\n",
       "      <td>-0.009431</td>\n",
       "      <td>0.798278</td>\n",
       "      <td>-0.137458</td>\n",
       "      <td>0.141267</td>\n",
       "      <td>-0.206010</td>\n",
       "      <td>0.502292</td>\n",
       "      <td>0.219422</td>\n",
       "      <td>0.215153</td>\n",
       "      <td>0</td>\n",
       "      <td>4.248367</td>\n",
       "    </tr>\n",
       "  </tbody>\n",
       "</table>\n",
       "<p>5 rows × 31 columns</p>\n",
       "</div>\n",
       "      <button class=\"colab-df-convert\" onclick=\"convertToInteractive('df-93a2972d-274a-4633-80af-266eb740893e')\"\n",
       "              title=\"Convert this dataframe to an interactive table.\"\n",
       "              style=\"display:none;\">\n",
       "        \n",
       "  <svg xmlns=\"http://www.w3.org/2000/svg\" height=\"24px\"viewBox=\"0 0 24 24\"\n",
       "       width=\"24px\">\n",
       "    <path d=\"M0 0h24v24H0V0z\" fill=\"none\"/>\n",
       "    <path d=\"M18.56 5.44l.94 2.06.94-2.06 2.06-.94-2.06-.94-.94-2.06-.94 2.06-2.06.94zm-11 1L8.5 8.5l.94-2.06 2.06-.94-2.06-.94L8.5 2.5l-.94 2.06-2.06.94zm10 10l.94 2.06.94-2.06 2.06-.94-2.06-.94-.94-2.06-.94 2.06-2.06.94z\"/><path d=\"M17.41 7.96l-1.37-1.37c-.4-.4-.92-.59-1.43-.59-.52 0-1.04.2-1.43.59L10.3 9.45l-7.72 7.72c-.78.78-.78 2.05 0 2.83L4 21.41c.39.39.9.59 1.41.59.51 0 1.02-.2 1.41-.59l7.78-7.78 2.81-2.81c.8-.78.8-2.07 0-2.86zM5.41 20L4 18.59l7.72-7.72 1.47 1.35L5.41 20z\"/>\n",
       "  </svg>\n",
       "      </button>\n",
       "      \n",
       "  <style>\n",
       "    .colab-df-container {\n",
       "      display:flex;\n",
       "      flex-wrap:wrap;\n",
       "      gap: 12px;\n",
       "    }\n",
       "\n",
       "    .colab-df-convert {\n",
       "      background-color: #E8F0FE;\n",
       "      border: none;\n",
       "      border-radius: 50%;\n",
       "      cursor: pointer;\n",
       "      display: none;\n",
       "      fill: #1967D2;\n",
       "      height: 32px;\n",
       "      padding: 0 0 0 0;\n",
       "      width: 32px;\n",
       "    }\n",
       "\n",
       "    .colab-df-convert:hover {\n",
       "      background-color: #E2EBFA;\n",
       "      box-shadow: 0px 1px 2px rgba(60, 64, 67, 0.3), 0px 1px 3px 1px rgba(60, 64, 67, 0.15);\n",
       "      fill: #174EA6;\n",
       "    }\n",
       "\n",
       "    [theme=dark] .colab-df-convert {\n",
       "      background-color: #3B4455;\n",
       "      fill: #D2E3FC;\n",
       "    }\n",
       "\n",
       "    [theme=dark] .colab-df-convert:hover {\n",
       "      background-color: #434B5C;\n",
       "      box-shadow: 0px 1px 3px 1px rgba(0, 0, 0, 0.15);\n",
       "      filter: drop-shadow(0px 1px 2px rgba(0, 0, 0, 0.3));\n",
       "      fill: #FFFFFF;\n",
       "    }\n",
       "  </style>\n",
       "\n",
       "      <script>\n",
       "        const buttonEl =\n",
       "          document.querySelector('#df-93a2972d-274a-4633-80af-266eb740893e button.colab-df-convert');\n",
       "        buttonEl.style.display =\n",
       "          google.colab.kernel.accessAllowed ? 'block' : 'none';\n",
       "\n",
       "        async function convertToInteractive(key) {\n",
       "          const element = document.querySelector('#df-93a2972d-274a-4633-80af-266eb740893e');\n",
       "          const dataTable =\n",
       "            await google.colab.kernel.invokeFunction('convertToInteractive',\n",
       "                                                     [key], {});\n",
       "          if (!dataTable) return;\n",
       "\n",
       "          const docLinkHtml = 'Like what you see? Visit the ' +\n",
       "            '<a target=\"_blank\" href=https://colab.research.google.com/notebooks/data_table.ipynb>data table notebook</a>'\n",
       "            + ' to learn more about interactive tables.';\n",
       "          element.innerHTML = '';\n",
       "          dataTable['output_type'] = 'display_data';\n",
       "          await google.colab.output.renderOutput(dataTable, element);\n",
       "          const docLink = document.createElement('div');\n",
       "          docLink.innerHTML = docLinkHtml;\n",
       "          element.appendChild(docLink);\n",
       "        }\n",
       "      </script>\n",
       "    </div>\n",
       "  </div>\n",
       "  "
      ],
      "text/plain": [
       "       Time        V1        V2        V3        V4        V5        V6  \\\n",
       "0  0.000000 -1.359807 -0.072781  2.536347  1.378155 -0.338321  0.462388   \n",
       "1  0.000000  1.191857  0.266151  0.166480  0.448154  0.060018 -0.082361   \n",
       "2  0.000278 -1.358354 -1.340163  1.773209  0.379780 -0.503198  1.800499   \n",
       "3  0.000278 -0.966272 -0.185226  1.792993 -0.863291 -0.010309  1.247203   \n",
       "4  0.000556 -1.158233  0.877737  1.548718  0.403034 -0.407193  0.095921   \n",
       "\n",
       "         V7        V8        V9  ...       V21       V22       V23       V24  \\\n",
       "0  0.239599  0.098698  0.363787  ... -0.018307  0.277838 -0.110474  0.066928   \n",
       "1 -0.078803  0.085102 -0.255425  ... -0.225775 -0.638672  0.101288 -0.339846   \n",
       "2  0.791461  0.247676 -1.514654  ...  0.247998  0.771679  0.909412 -0.689281   \n",
       "3  0.237609  0.377436 -1.387024  ... -0.108300  0.005274 -0.190321 -1.175575   \n",
       "4  0.592941 -0.270533  0.817739  ... -0.009431  0.798278 -0.137458  0.141267   \n",
       "\n",
       "        V25       V26       V27       V28  Class    Amount  \n",
       "0  0.128539 -0.189115  0.133558 -0.021053      0  5.008105  \n",
       "1  0.167170  0.125895 -0.008983  0.014724      0  0.989913  \n",
       "2 -0.327642 -0.139097 -0.055353 -0.059752      0  5.936641  \n",
       "3  0.647376 -0.221929  0.062723  0.061458      0  4.816249  \n",
       "4 -0.206010  0.502292  0.219422  0.215153      0  4.248367  \n",
       "\n",
       "[5 rows x 31 columns]"
      ]
     },
     "execution_count": 5,
     "metadata": {},
     "output_type": "execute_result"
    }
   ],
   "source": [
    "cleaned_df = df.copy()\n",
    "\n",
    "# Time 을 일중 시간으로 변환\n",
    "cleaned_df.loc[:, \"Time\"] = cleaned_df.loc[:, \"Time\"].apply(lambda x : x / 3600 % 24) \n",
    "\n",
    "# Amount column 은 편차가 크므로 log-scale 로 변환\n",
    "eps=0.001     \n",
    "cleaned_df['Amount'] = np.log(cleaned_df.pop('Amount') + eps)\n",
    "\n",
    "cleaned_df.head()"
   ]
  },
  {
   "cell_type": "code",
   "execution_count": 6,
   "metadata": {
    "colab": {
     "base_uri": "https://localhost:8080/",
     "height": 230
    },
    "id": "vN-HHhQ6_PN5",
    "outputId": "68ef6859-61ca-4bef-bc69-a87bee23b30f"
   },
   "outputs": [
    {
     "data": {
      "text/plain": [
       "<matplotlib.axes._subplots.AxesSubplot at 0x7f93e1f73090>"
      ]
     },
     "execution_count": 6,
     "metadata": {},
     "output_type": "execute_result"
    },
    {
     "data": {
      "image/png": "[encoded data removed]",
      "text/plain": [
       "<Figure size 576x216 with 2 Axes>"
      ]
     },
     "metadata": {
      "needs_background": "light"
     },
     "output_type": "display_data"
    }
   ],
   "source": [
    "fig, (ax1, ax2) = plt.subplots(1, 2, figsize=(8, 3))\n",
    "df['Amount'].plot(kind='hist', ax=ax1)\n",
    "cleaned_df['Amount'].plot(kind='hist', ax=ax2)"
   ]
  },
  {
   "cell_type": "code",
   "execution_count": 7,
   "metadata": {
    "colab": {
     "base_uri": "https://localhost:8080/"
    },
    "id": "4IEMWwojt3yO",
    "outputId": "0943630f-578a-4688-8c3d-6eb8faf075ff"
   },
   "outputs": [
    {
     "data": {
      "text/plain": [
       "array([0, 0, 0, ..., 0, 0, 0])"
      ]
     },
     "execution_count": 7,
     "metadata": {},
     "output_type": "execute_result"
    }
   ],
   "source": [
    "labels = np.array(cleaned_df.pop('Class'))\n",
    "labels"
   ]
  },
  {
   "cell_type": "code",
   "execution_count": 8,
   "metadata": {
    "colab": {
     "base_uri": "https://localhost:8080/"
    },
    "id": "_hqAVRiWt3yV",
    "outputId": "b93b68b2-efd9-4844-bd08-146f506ee9ee"
   },
   "outputs": [
    {
     "data": {
      "text/plain": [
       "(284807, 30)"
      ]
     },
     "execution_count": 8,
     "metadata": {},
     "output_type": "execute_result"
    }
   ],
   "source": [
    "features = cleaned_df.values\n",
    "features.shape"
   ]
  },
  {
   "cell_type": "code",
   "execution_count": 9,
   "metadata": {
    "colab": {
     "base_uri": "https://localhost:8080/",
     "height": 284
    },
    "id": "o5pYgA-d-W2s",
    "outputId": "3202a3a0-5e75-4552-deb4-7c629687ff94"
   },
   "outputs": [
    {
     "data": {
      "text/plain": [
       "<matplotlib.axes._subplots.AxesSubplot at 0x7f93e2d60450>"
      ]
     },
     "execution_count": 9,
     "metadata": {},
     "output_type": "execute_result"
    },
    {
     "data": {
      "image/png": "[encoded data removed]",
      "text/plain": [
       "<Figure size 432x288 with 1 Axes>"
      ]
     },
     "metadata": {
      "needs_background": "light"
     },
     "output_type": "display_data"
    }
   ],
   "source": [
    "plt.figure(figsize=(6, 4))\n",
    "sns.countplot(x=labels)"
   ]
  },
  {
   "cell_type": "markdown",
   "metadata": {
    "id": "q0AhbQkT_XS2"
   },
   "source": [
    "### Dataset 을 Training 과 Test set 으로 분리"
   ]
  },
  {
   "cell_type": "code",
   "execution_count": 10,
   "metadata": {
    "colab": {
     "base_uri": "https://localhost:8080/"
    },
    "id": "RLiKtnt7t3ya",
    "outputId": "d3cca1e4-dcc6-4d3c-9473-7188bb158cd4"
   },
   "outputs": [
    {
     "data": {
      "text/plain": [
       "((142403, 30), (142404, 30), (142403,), (142404,))"
      ]
     },
     "execution_count": 10,
     "metadata": {},
     "output_type": "execute_result"
    }
   ],
   "source": [
    "X_train, X_test, y_train, y_test = train_test_split(features, labels, \n",
    "                                test_size=0.5, random_state=0, stratify=labels)\n",
    "\n",
    "X_train.shape, X_test.shape, y_train.shape, y_test.shape"
   ]
  },
  {
   "cell_type": "code",
   "execution_count": 11,
   "metadata": {
    "colab": {
     "base_uri": "https://localhost:8080/"
    },
    "id": "lVpcSlst-W2t",
    "outputId": "720c0b72-1e77-4ad3-8918-00e0277f8293"
   },
   "outputs": [
    {
     "name": "stdout",
     "output_type": "stream",
     "text": [
      "전체 data의 positive 건수 :  Counter({0: 284315, 1: 492})\n",
      "Train set 의 positive 건수 :  Counter({0: 142157, 1: 246})\n",
      "Test set 의 positive 건수 :  Counter({0: 142158, 1: 246})\n"
     ]
    }
   ],
   "source": [
    "print(\"전체 data의 positive 건수 : \", Counter(labels))\n",
    "print(\"Train set 의 positive 건수 : \", Counter(y_train))\n",
    "print(\"Test set 의 positive 건수 : \", Counter(y_test))"
   ]
  },
  {
   "cell_type": "markdown",
   "metadata": {
    "id": "HbTDWeFP-W2t"
   },
   "source": [
    "## Feature Scaling"
   ]
  },
  {
   "cell_type": "code",
   "execution_count": 12,
   "metadata": {
    "id": "QwUNis6Zt3yc"
   },
   "outputs": [],
   "source": [
    "sc = StandardScaler()\n",
    "X_train = sc.fit_transform(X_train)\n",
    "X_test  = sc.transform(X_test)"
   ]
  },
  {
   "cell_type": "markdown",
   "metadata": {
    "id": "putdDmMN-W2t"
   },
   "source": [
    "### Metrics 정의\n",
    "- model train 중 측정할 metric  정의"
   ]
  },
  {
   "cell_type": "code",
   "execution_count": 13,
   "metadata": {
    "id": "lzeY8gWo-W2t"
   },
   "outputs": [],
   "source": [
    "METRICS = tf.keras.metrics.AUC(name='auc')"
   ]
  },
  {
   "cell_type": "markdown",
   "metadata": {
    "id": "ejjpZM9Kt3ym"
   },
   "source": [
    "## Simple NN model 정의 - 이진 분류 모델"
   ]
  },
  {
   "cell_type": "code",
   "execution_count": 14,
   "metadata": {
    "id": "IbbI4SZat3yn"
   },
   "outputs": [],
   "source": [
    "def make_model():\n",
    "    model = tf.keras.Sequential([\n",
    "      Dense(32, activation='relu', input_shape=(X_train.shape[-1],)),\n",
    "      Dropout(0.2),\n",
    "      Dense(16, activation='relu'),\n",
    "      Dropout(0.2),\n",
    "      Dense(1, activation='sigmoid'),\n",
    "      ])\n",
    "\n",
    "    model.compile(\n",
    "      optimizer = tf.keras.optimizers.Adam(learning_rate=0.01),\n",
    "      loss = 'binary_crossentropy', metrics=[METRICS, 'accuracy'])\n",
    "\n",
    "    return model"
   ]
  },
  {
   "cell_type": "markdown",
   "metadata": {
    "id": "YuB7VrmAt3yr"
   },
   "source": [
    "### Baseline model build"
   ]
  },
  {
   "cell_type": "code",
   "execution_count": 15,
   "metadata": {
    "id": "gTRT9eKnt3ys"
   },
   "outputs": [],
   "source": [
    "EPOCHS = 100\n",
    "BATCH_SIZE = 2048\n",
    "\n",
    "early_stopping = tf.keras.callbacks.EarlyStopping(\n",
    "    monitor='val_auc', \n",
    "    verbose=1,\n",
    "    patience=10,        # no of epochs of no improvement          \n",
    "    mode='max',        #val_auc 가 10 번 연속 증가 안하면 stop           \n",
    "    restore_best_weights=True)      # epoch 의 best weight 저장"
   ]
  },
  {
   "cell_type": "code",
   "execution_count": 16,
   "metadata": {
    "colab": {
     "base_uri": "https://localhost:8080/"
    },
    "id": "i3qmzy34t3yw",
    "outputId": "e7cf8f72-af23-4a96-fb8b-d1f07b0630c4",
    "scrolled": true
   },
   "outputs": [
    {
     "name": "stdout",
     "output_type": "stream",
     "text": [
      "Model: \"sequential\"\n",
      "_________________________________________________________________\n",
      " Layer (type)                Output Shape              Param #   \n",
      "=================================================================\n",
      " dense (Dense)               (None, 32)                992       \n",
      "                                                                 \n",
      " dropout (Dropout)           (None, 32)                0         \n",
      "                                                                 \n",
      " dense_1 (Dense)             (None, 16)                528       \n",
      "                                                                 \n",
      " dropout_1 (Dropout)         (None, 16)                0         \n",
      "                                                                 \n",
      " dense_2 (Dense)             (None, 1)                 17        \n",
      "                                                                 \n",
      "=================================================================\n",
      "Total params: 1,537\n",
      "Trainable params: 1,537\n",
      "Non-trainable params: 0\n",
      "_________________________________________________________________\n"
     ]
    }
   ],
   "source": [
    "base_model = make_model()\n",
    "base_model.summary()"
   ]
  },
  {
   "cell_type": "markdown",
   "metadata": {
    "id": "B-Ftgdtct3zb"
   },
   "source": [
    "## Train the model"
   ]
  },
  {
   "cell_type": "code",
   "execution_count": 17,
   "metadata": {
    "colab": {
     "base_uri": "https://localhost:8080/"
    },
    "id": "qyxi6P6Pt3zd",
    "outputId": "5e3b2ac8-c0c5-458e-e8ab-9259f4d93762",
    "scrolled": true
   },
   "outputs": [
    {
     "name": "stdout",
     "output_type": "stream",
     "text": [
      "Epoch 1/100\n",
      "70/70 [==============================] - 3s 15ms/step - loss: 0.0642 - auc: 0.7183 - accuracy: 0.9773 - val_loss: 0.0047 - val_auc: 0.8958 - val_accuracy: 0.9993\n",
      "Epoch 2/100\n",
      "70/70 [==============================] - 1s 10ms/step - loss: 0.0051 - auc: 0.9261 - accuracy: 0.9991 - val_loss: 0.0042 - val_auc: 0.9021 - val_accuracy: 0.9993\n",
      "Epoch 3/100\n",
      "70/70 [==============================] - 1s 10ms/step - loss: 0.0042 - auc: 0.9268 - accuracy: 0.9993 - val_loss: 0.0037 - val_auc: 0.9302 - val_accuracy: 0.9994\n",
      "Epoch 4/100\n",
      "70/70 [==============================] - 1s 10ms/step - loss: 0.0039 - auc: 0.9354 - accuracy: 0.9993 - val_loss: 0.0037 - val_auc: 0.9285 - val_accuracy: 0.9993\n",
      "Epoch 5/100\n",
      "70/70 [==============================] - 0s 6ms/step - loss: 0.0034 - auc: 0.9499 - accuracy: 0.9993 - val_loss: 0.0037 - val_auc: 0.9362 - val_accuracy: 0.9993\n",
      "Epoch 6/100\n",
      "70/70 [==============================] - 0s 6ms/step - loss: 0.0032 - auc: 0.9600 - accuracy: 0.9994 - val_loss: 0.0037 - val_auc: 0.9364 - val_accuracy: 0.9993\n",
      "Epoch 7/100\n",
      "70/70 [==============================] - 0s 6ms/step - loss: 0.0034 - auc: 0.9582 - accuracy: 0.9993 - val_loss: 0.0037 - val_auc: 0.9325 - val_accuracy: 0.9994\n",
      "Epoch 8/100\n",
      "70/70 [==============================] - 0s 6ms/step - loss: 0.0031 - auc: 0.9542 - accuracy: 0.9994 - val_loss: 0.0037 - val_auc: 0.9326 - val_accuracy: 0.9994\n",
      "Epoch 9/100\n",
      "70/70 [==============================] - 0s 6ms/step - loss: 0.0030 - auc: 0.9564 - accuracy: 0.9994 - val_loss: 0.0037 - val_auc: 0.9365 - val_accuracy: 0.9994\n",
      "Epoch 10/100\n",
      "70/70 [==============================] - 0s 6ms/step - loss: 0.0030 - auc: 0.9585 - accuracy: 0.9994 - val_loss: 0.0037 - val_auc: 0.9345 - val_accuracy: 0.9994\n",
      "Epoch 11/100\n",
      "70/70 [==============================] - 0s 6ms/step - loss: 0.0029 - auc: 0.9687 - accuracy: 0.9994 - val_loss: 0.0041 - val_auc: 0.9224 - val_accuracy: 0.9994\n",
      "Epoch 12/100\n",
      "70/70 [==============================] - 0s 6ms/step - loss: 0.0028 - auc: 0.9625 - accuracy: 0.9993 - val_loss: 0.0040 - val_auc: 0.9326 - val_accuracy: 0.9993\n",
      "Epoch 13/100\n",
      "70/70 [==============================] - 0s 6ms/step - loss: 0.0024 - auc: 0.9710 - accuracy: 0.9994 - val_loss: 0.0037 - val_auc: 0.9346 - val_accuracy: 0.9994\n",
      "Epoch 14/100\n",
      "70/70 [==============================] - 0s 6ms/step - loss: 0.0027 - auc: 0.9607 - accuracy: 0.9994 - val_loss: 0.0042 - val_auc: 0.9123 - val_accuracy: 0.9993\n",
      "Epoch 15/100\n",
      "70/70 [==============================] - 0s 6ms/step - loss: 0.0025 - auc: 0.9709 - accuracy: 0.9994 - val_loss: 0.0039 - val_auc: 0.9306 - val_accuracy: 0.9993\n",
      "Epoch 16/100\n",
      "70/70 [==============================] - 0s 6ms/step - loss: 0.0023 - auc: 0.9689 - accuracy: 0.9995 - val_loss: 0.0041 - val_auc: 0.9205 - val_accuracy: 0.9994\n",
      "Epoch 17/100\n",
      "70/70 [==============================] - 0s 6ms/step - loss: 0.0022 - auc: 0.9710 - accuracy: 0.9995 - val_loss: 0.0040 - val_auc: 0.9266 - val_accuracy: 0.9994\n",
      "Epoch 18/100\n",
      "70/70 [==============================] - 0s 6ms/step - loss: 0.0022 - auc: 0.9690 - accuracy: 0.9995 - val_loss: 0.0040 - val_auc: 0.9266 - val_accuracy: 0.9994\n",
      "Epoch 19/100\n",
      "70/70 [==============================] - 0s 6ms/step - loss: 0.0024 - auc: 0.9770 - accuracy: 0.9994 - val_loss: 0.0039 - val_auc: 0.9367 - val_accuracy: 0.9994\n",
      "Epoch 20/100\n",
      "70/70 [==============================] - 0s 6ms/step - loss: 0.0022 - auc: 0.9772 - accuracy: 0.9995 - val_loss: 0.0039 - val_auc: 0.9386 - val_accuracy: 0.9994\n",
      "Epoch 21/100\n",
      "70/70 [==============================] - 0s 6ms/step - loss: 0.0022 - auc: 0.9832 - accuracy: 0.9994 - val_loss: 0.0038 - val_auc: 0.9365 - val_accuracy: 0.9994\n",
      "Epoch 22/100\n",
      "70/70 [==============================] - 0s 6ms/step - loss: 0.0022 - auc: 0.9731 - accuracy: 0.9994 - val_loss: 0.0037 - val_auc: 0.9406 - val_accuracy: 0.9994\n",
      "Epoch 23/100\n",
      "70/70 [==============================] - 1s 8ms/step - loss: 0.0022 - auc: 0.9812 - accuracy: 0.9994 - val_loss: 0.0038 - val_auc: 0.9346 - val_accuracy: 0.9994\n",
      "Epoch 24/100\n",
      "70/70 [==============================] - 0s 6ms/step - loss: 0.0022 - auc: 0.9731 - accuracy: 0.9995 - val_loss: 0.0039 - val_auc: 0.9345 - val_accuracy: 0.9994\n",
      "Epoch 25/100\n",
      "70/70 [==============================] - 0s 6ms/step - loss: 0.0021 - auc: 0.9812 - accuracy: 0.9994 - val_loss: 0.0042 - val_auc: 0.9225 - val_accuracy: 0.9994\n",
      "Epoch 26/100\n",
      "70/70 [==============================] - 0s 6ms/step - loss: 0.0020 - auc: 0.9772 - accuracy: 0.9995 - val_loss: 0.0041 - val_auc: 0.9327 - val_accuracy: 0.9994\n",
      "Epoch 27/100\n",
      "70/70 [==============================] - 0s 6ms/step - loss: 0.0022 - auc: 0.9792 - accuracy: 0.9994 - val_loss: 0.0042 - val_auc: 0.9306 - val_accuracy: 0.9994\n",
      "Epoch 28/100\n",
      "70/70 [==============================] - 0s 6ms/step - loss: 0.0022 - auc: 0.9751 - accuracy: 0.9993 - val_loss: 0.0042 - val_auc: 0.9367 - val_accuracy: 0.9994\n",
      "Epoch 29/100\n",
      "70/70 [==============================] - 0s 6ms/step - loss: 0.0021 - auc: 0.9731 - accuracy: 0.9994 - val_loss: 0.0044 - val_auc: 0.9246 - val_accuracy: 0.9994\n",
      "Epoch 30/100\n",
      "70/70 [==============================] - 0s 6ms/step - loss: 0.0019 - auc: 0.9854 - accuracy: 0.9995 - val_loss: 0.0043 - val_auc: 0.9286 - val_accuracy: 0.9994\n",
      "Epoch 31/100\n",
      "70/70 [==============================] - 0s 6ms/step - loss: 0.0020 - auc: 0.9813 - accuracy: 0.9995 - val_loss: 0.0041 - val_auc: 0.9367 - val_accuracy: 0.9994\n",
      "Epoch 32/100\n",
      "70/70 [==============================] - ETA: 0s - loss: 0.0020 - auc: 0.9813 - accuracy: 0.9994Restoring model weights from the end of the best epoch: 22.\n",
      "70/70 [==============================] - 0s 7ms/step - loss: 0.0020 - auc: 0.9813 - accuracy: 0.9994 - val_loss: 0.0044 - val_auc: 0.9286 - val_accuracy: 0.9994\n",
      "Epoch 32: early stopping\n"
     ]
    }
   ],
   "source": [
    "baseline_history = base_model.fit(X_train, y_train, batch_size=BATCH_SIZE,\n",
    "                             epochs=EPOCHS, \n",
    "                             callbacks=[early_stopping], \n",
    "                             validation_data=(X_test, y_test))"
   ]
  },
  {
   "cell_type": "code",
   "execution_count": 18,
   "metadata": {
    "colab": {
     "base_uri": "https://localhost:8080/"
    },
    "id": "z4EDRL6v_43L",
    "outputId": "2165c341-5739-4173-fde0-90494065dc4a"
   },
   "outputs": [
    {
     "data": {
      "text/plain": [
       "0.9994171261787415"
      ]
     },
     "execution_count": 18,
     "metadata": {},
     "output_type": "execute_result"
    }
   ],
   "source": [
    "baseline_history.history['val_accuracy'][-1]"
   ]
  },
  {
   "cell_type": "markdown",
   "metadata": {
    "id": "PROwAK95t3zl"
   },
   "source": [
    "## Evaluate Metric\n",
    "\n",
    "- confusion matrix 를 이용하여 metrics 요약"
   ]
  },
  {
   "cell_type": "code",
   "execution_count": 19,
   "metadata": {
    "colab": {
     "base_uri": "https://localhost:8080/"
    },
    "id": "ZSXfIygjGIpe",
    "outputId": "d42c1bb3-3a30-4965-c743-e319665c4c00"
   },
   "outputs": [
    {
     "name": "stdout",
     "output_type": "stream",
     "text": [
      "4451/4451 [==============================] - 6s 1ms/step\n"
     ]
    },
    {
     "data": {
      "text/plain": [
       "(142404, 1)"
      ]
     },
     "execution_count": 19,
     "metadata": {},
     "output_type": "execute_result"
    }
   ],
   "source": [
    "predictions_baseline  = base_model.predict(X_test)\n",
    "predictions_baseline.shape"
   ]
  },
  {
   "cell_type": "code",
   "execution_count": 20,
   "metadata": {
    "colab": {
     "base_uri": "https://localhost:8080/"
    },
    "id": "710YXLQgEAud",
    "outputId": "aecab8d9-fc80-4926-8501-f4787da46362"
   },
   "outputs": [
    {
     "data": {
      "text/plain": [
       "(142404, 1)"
      ]
     },
     "execution_count": 20,
     "metadata": {},
     "output_type": "execute_result"
    }
   ],
   "source": [
    "predictions_baseline.shape"
   ]
  },
  {
   "cell_type": "code",
   "execution_count": 21,
   "metadata": {
    "id": "GKBFC56Nt3zq"
   },
   "outputs": [],
   "source": [
    "def plot_cm(y_test, y_pred_prob, threshold):\n",
    "    \n",
    "    y_pred = y_pred_prob > threshold\n",
    "    \n",
    "    cm = confusion_matrix(y_test, y_pred)\n",
    "    \n",
    "    print(\"f1 score:\", f1_score(y_test, y_pred))\n",
    "    print(\"Accuracy\", accuracy_score(y_test, y_pred))\n",
    "    print(\"Precision\", precision_score(y_test, y_pred))\n",
    "    print(\"Recall\", recall_score(y_test, y_pred))\n",
    "    \n",
    "    plt.figure(figsize=(5,5))\n",
    "\n",
    "    sns.heatmap(cm, annot=True, fmt=\"d\")\n",
    "    plt.title('Confusion matrix (threshold>{:.2f}) '.format(threshold))\n",
    "    plt.ylabel('Actual label')\n",
    "    plt.xlabel('Predicted label')"
   ]
  },
  {
   "cell_type": "markdown",
   "metadata": {
    "id": "LWD-EIM7t3zt"
   },
   "source": [
    "### Test dataset 으로 모델을 평가 하고, confusion matrix 를 그린다"
   ]
  },
  {
   "cell_type": "code",
   "execution_count": 22,
   "metadata": {
    "colab": {
     "base_uri": "https://localhost:8080/",
     "height": 426
    },
    "id": "Y3nVjXCUt3zu",
    "outputId": "6f9013f4-bd75-4898-d35a-d6906f444457"
   },
   "outputs": [
    {
     "name": "stdout",
     "output_type": "stream",
     "text": [
      "f1 score: 0.8212765957446808\n",
      "Accuracy 0.9994101289289626\n",
      "Precision 0.8616071428571429\n",
      "Recall 0.7845528455284553\n"
     ]
    },
    {
     "data": {
      "image/png": "[encoded data removed]",
      "text/plain": [
       "<Figure size 360x360 with 2 Axes>"
      ]
     },
     "metadata": {
      "needs_background": "light"
     },
     "output_type": "display_data"
    }
   ],
   "source": [
    "plot_cm(y_test, predictions_baseline, threshold=0.5)"
   ]
  },
  {
   "cell_type": "markdown",
   "metadata": {
    "id": "-P-iJJ1pt3z5"
   },
   "source": [
    "## Class Weight 조정\n",
    "\n",
    "사용할 positive 샘플이 많지 않기 때문에 가용한 적은 수의 sample 에 classifier 가 더 비중을 두도록 할 수 있다.  이는 모델이 과소 표현된 클래스의 샘플에 `더 많은주의를 기울이도록` 지시하는 데 유용.\n",
    "\n",
    "step1 - 레이블 및 관련 가중치로 dictionary 정의 \n",
    "```\n",
    "class_weight ={0: 0.5008652375006595, 1: 289.43800813008136}\n",
    "```                \n",
    "step2 - dictionary를 매개 변수로 공급:  \n",
    "```\n",
    "    model.fit(X_train, Y_train, nb_epoch=5, batch_size=32, class_weight=class_weight)\n",
    "```\n",
    "\n",
    "- loss function 계산 시 class_weight 에 지정된 대로 가중 평균"
   ]
  },
  {
   "cell_type": "code",
   "execution_count": 23,
   "metadata": {
    "colab": {
     "base_uri": "https://localhost:8080/"
    },
    "id": "rp27qwQa-W2w",
    "outputId": "bbbd7b32-709f-4dce-8ce2-40491730aa9b"
   },
   "outputs": [
    {
     "data": {
      "text/plain": [
       "(284315, 492, 284807)"
      ]
     },
     "execution_count": 23,
     "metadata": {},
     "output_type": "execute_result"
    }
   ],
   "source": [
    "neg, pos, total"
   ]
  },
  {
   "cell_type": "code",
   "execution_count": 24,
   "metadata": {
    "colab": {
     "base_uri": "https://localhost:8080/"
    },
    "id": "8VevE6hHt3z6",
    "outputId": "59119d70-3f8b-48dc-a19e-a68719137446"
   },
   "outputs": [
    {
     "name": "stdout",
     "output_type": "stream",
     "text": [
      "Weight for class 0: 1.00\n",
      "Weight for class 1: 578.88\n"
     ]
    }
   ],
   "source": [
    "weight_for_0 = (1 / neg)*(total)\n",
    "weight_for_1 = (1 / pos)*(total)\n",
    "\n",
    "class_weight = {0: weight_for_0, 1: weight_for_1}\n",
    "\n",
    "print('Weight for class 0: {:.2f}'.format(weight_for_0))\n",
    "print('Weight for class 1: {:.2f}'.format(weight_for_1))"
   ]
  },
  {
   "cell_type": "code",
   "execution_count": 25,
   "metadata": {
    "colab": {
     "base_uri": "https://localhost:8080/"
    },
    "id": "T6dv3lSi-W2x",
    "outputId": "7c569718-ec12-40b9-d436-c7a63ae7011b"
   },
   "outputs": [
    {
     "data": {
      "text/plain": [
       "{0: 1.001730475001319, 1: 578.8760162601627}"
      ]
     },
     "execution_count": 25,
     "metadata": {},
     "output_type": "execute_result"
    }
   ],
   "source": [
    "class_weight"
   ]
  },
  {
   "cell_type": "code",
   "execution_count": 26,
   "metadata": {
    "colab": {
     "base_uri": "https://localhost:8080/"
    },
    "id": "Am_veDXSt3z9",
    "outputId": "4d2744a8-50ec-4576-a37f-782e1a2b2519",
    "scrolled": true
   },
   "outputs": [
    {
     "name": "stdout",
     "output_type": "stream",
     "text": [
      "Epoch 1/100\n",
      "70/70 [==============================] - 1s 11ms/step - loss: 0.6863 - auc: 0.9097 - accuracy: 0.8793 - val_loss: 0.0820 - val_auc: 0.9775 - val_accuracy: 0.9868\n",
      "Epoch 2/100\n",
      "70/70 [==============================] - 0s 7ms/step - loss: 0.3942 - auc: 0.9688 - accuracy: 0.9638 - val_loss: 0.1002 - val_auc: 0.9797 - val_accuracy: 0.9826\n",
      "Epoch 3/100\n",
      "70/70 [==============================] - 0s 7ms/step - loss: 0.3352 - auc: 0.9800 - accuracy: 0.9567 - val_loss: 0.1257 - val_auc: 0.9823 - val_accuracy: 0.9653\n",
      "Epoch 4/100\n",
      "70/70 [==============================] - 0s 6ms/step - loss: 0.2443 - auc: 0.9905 - accuracy: 0.9746 - val_loss: 0.1064 - val_auc: 0.9823 - val_accuracy: 0.9662\n",
      "Epoch 5/100\n",
      "70/70 [==============================] - 0s 6ms/step - loss: 0.2572 - auc: 0.9879 - accuracy: 0.9703 - val_loss: 0.0759 - val_auc: 0.9831 - val_accuracy: 0.9807\n",
      "Epoch 6/100\n",
      "70/70 [==============================] - 0s 6ms/step - loss: 0.2199 - auc: 0.9923 - accuracy: 0.9720 - val_loss: 0.0871 - val_auc: 0.9844 - val_accuracy: 0.9728\n",
      "Epoch 7/100\n",
      "70/70 [==============================] - 0s 7ms/step - loss: 0.1945 - auc: 0.9945 - accuracy: 0.9690 - val_loss: 0.0683 - val_auc: 0.9804 - val_accuracy: 0.9754\n",
      "Epoch 8/100\n",
      "70/70 [==============================] - 0s 6ms/step - loss: 0.2162 - auc: 0.9926 - accuracy: 0.9658 - val_loss: 0.0978 - val_auc: 0.9809 - val_accuracy: 0.9700\n",
      "Epoch 9/100\n",
      "70/70 [==============================] - 0s 6ms/step - loss: 0.1835 - auc: 0.9955 - accuracy: 0.9709 - val_loss: 0.0529 - val_auc: 0.9806 - val_accuracy: 0.9837\n",
      "Epoch 10/100\n",
      "70/70 [==============================] - 0s 6ms/step - loss: 0.1575 - auc: 0.9964 - accuracy: 0.9728 - val_loss: 0.0792 - val_auc: 0.9797 - val_accuracy: 0.9705\n",
      "Epoch 11/100\n",
      "70/70 [==============================] - 0s 7ms/step - loss: 0.1708 - auc: 0.9940 - accuracy: 0.9708 - val_loss: 0.0548 - val_auc: 0.9704 - val_accuracy: 0.9798\n",
      "Epoch 12/100\n",
      "70/70 [==============================] - 0s 6ms/step - loss: 0.1375 - auc: 0.9973 - accuracy: 0.9741 - val_loss: 0.0373 - val_auc: 0.9700 - val_accuracy: 0.9893\n",
      "Epoch 13/100\n",
      "70/70 [==============================] - 0s 6ms/step - loss: 0.1587 - auc: 0.9962 - accuracy: 0.9687 - val_loss: 0.0901 - val_auc: 0.9764 - val_accuracy: 0.9604\n",
      "Epoch 14/100\n",
      "70/70 [==============================] - 0s 7ms/step - loss: 0.1550 - auc: 0.9963 - accuracy: 0.9687 - val_loss: 0.0557 - val_auc: 0.9804 - val_accuracy: 0.9795\n",
      "Epoch 15/100\n",
      "70/70 [==============================] - 0s 6ms/step - loss: 0.1444 - auc: 0.9967 - accuracy: 0.9727 - val_loss: 0.0448 - val_auc: 0.9738 - val_accuracy: 0.9820\n",
      "Epoch 16/100\n",
      "69/70 [============================>.] - ETA: 0s - loss: 0.1300 - auc: 0.9974 - accuracy: 0.9764Restoring model weights from the end of the best epoch: 6.\n",
      "70/70 [==============================] - 0s 6ms/step - loss: 0.1315 - auc: 0.9973 - accuracy: 0.9763 - val_loss: 0.0528 - val_auc: 0.9736 - val_accuracy: 0.9815\n",
      "Epoch 16: early stopping\n"
     ]
    }
   ],
   "source": [
    "weighted_model = make_model()\n",
    "\n",
    "weighted_history = weighted_model.fit(X_train, y_train, \n",
    "                                    batch_size=BATCH_SIZE,\n",
    "                                    epochs=EPOCHS, \n",
    "                                    callbacks = [early_stopping], \n",
    "                                    validation_data=(X_test, y_test),\n",
    "                                    class_weight=class_weight) "
   ]
  },
  {
   "cell_type": "code",
   "execution_count": 27,
   "metadata": {
    "colab": {
     "base_uri": "https://localhost:8080/"
    },
    "id": "ErH9Ehhct30D",
    "outputId": "12d4c38c-2e65-4c94-f155-993e71fe5f49"
   },
   "outputs": [
    {
     "name": "stdout",
     "output_type": "stream",
     "text": [
      "4451/4451 [==============================] - 6s 1ms/step\n"
     ]
    }
   ],
   "source": [
    "predictions_weighted = weighted_model.predict(X_test)"
   ]
  },
  {
   "cell_type": "code",
   "execution_count": 28,
   "metadata": {
    "colab": {
     "base_uri": "https://localhost:8080/",
     "height": 502
    },
    "id": "59NLR77Kt30E",
    "outputId": "80d8cbef-d165-48ed-abd8-462d2b5bc379"
   },
   "outputs": [
    {
     "name": "stdout",
     "output_type": "stream",
     "text": [
      "loss :  0.08705693483352661\n",
      "auc :  0.9843770265579224\n",
      "accuracy :  0.9728027582168579\n",
      "\n",
      "f1 score: 0.10450867052023123\n",
      "Accuracy 0.972802730260386\n",
      "Precision 0.05540573670017161\n",
      "Recall 0.9186991869918699\n"
     ]
    },
    {
     "data": {
      "image/png": "[encoded data removed]",
      "text/plain": [
       "<Figure size 360x360 with 2 Axes>"
      ]
     },
     "metadata": {
      "needs_background": "light"
     },
     "output_type": "display_data"
    }
   ],
   "source": [
    "weighted_results = weighted_model.evaluate(X_test, y_test,\n",
    "                                           batch_size=BATCH_SIZE, verbose=0)\n",
    "\n",
    "for name, value in zip(weighted_model.metrics_names, weighted_results):\n",
    "    print(name, ': ', value)\n",
    "print()\n",
    "\n",
    "plot_cm(y_test, predictions_weighted, threshold=0.5)"
   ]
  },
  {
   "cell_type": "markdown",
   "metadata": {
    "id": "FF42Tjcdt30K"
   },
   "source": [
    "## Plot the ROC"
   ]
  },
  {
   "cell_type": "code",
   "execution_count": 29,
   "metadata": {
    "id": "SJDSTW-3-W2x"
   },
   "outputs": [],
   "source": [
    "def plot_roc(name, labels, predictions, **kwargs):\n",
    "    \n",
    "    fp, tp, _ = roc_curve(labels, predictions)\n",
    "    auc = roc_auc_score(y_test, predictions)\n",
    "    \n",
    "    plt.plot(100*fp, 100*tp, label=f\"auc of {name}={auc:.5f}\", linewidth=2, **kwargs)\n",
    "    plt.xlabel('FP [%]')\n",
    "    plt.ylabel('TP [%]')\n",
    "    plt.xlim([-0.5,20])\n",
    "    plt.ylim([80,100.5])\n",
    "    plt.grid(True)\n",
    "    ax = plt.gca()\n",
    "    ax.set_aspect('equal')\n",
    "    fig = plt.gcf()\n",
    "    fig.set_size_inches(8, 6)"
   ]
  },
  {
   "cell_type": "code",
   "execution_count": 30,
   "metadata": {
    "colab": {
     "base_uri": "https://localhost:8080/",
     "height": 407
    },
    "id": "DmZ5bpDEt30N",
    "outputId": "eb76d8df-dd43-4f36-ba0c-27e2548440cf",
    "scrolled": false
   },
   "outputs": [
    {
     "data": {
      "text/plain": [
       "<matplotlib.legend.Legend at 0x7f937c197150>"
      ]
     },
     "execution_count": 30,
     "metadata": {},
     "output_type": "execute_result"
    },
    {
     "data": {
      "image/png": "[encoded data removed]",
      "text/plain": [
       "<Figure size 576x432 with 1 Axes>"
      ]
     },
     "metadata": {
      "needs_background": "light"
     },
     "output_type": "display_data"
    }
   ],
   "source": [
    "plot_roc(\"Baseline ROC\", y_test, predictions_baseline, color='blue', linestyle='--')\n",
    "\n",
    "plot_roc(\"Weighted ROC\", y_test, predictions_weighted, color='red', linestyle='--')\n",
    "\n",
    "plt.legend(loc='lower right')"
   ]
  },
  {
   "cell_type": "markdown",
   "metadata": {
    "id": "rcbHFEtjGzxD"
   },
   "source": [
    "## Next Step => Over+Under-sampling model과 weight 조절 DNN model 비교"
   ]
  },
  {
   "cell_type": "code",
   "execution_count": 30,
   "metadata": {
    "id": "hppuc3Wi-W2y"
   },
   "outputs": [],
   "source": []
  }
 ],
 "metadata": {
  "accelerator": "GPU",
  "colab": {
   "collapsed_sections": [],
   "machine_shape": "hm",
   "provenance": []
  },
  "gpuClass": "standard",
  "kernelspec": {
   "display_name": "Python 3 (ipykernel)",
   "language": "python",
   "name": "python3"
  },
  "language_info": {
   "codemirror_mode": {
    "name": "ipython",
    "version": 3
   },
   "file_extension": ".py",
   "mimetype": "text/x-python",
   "name": "python",
   "nbconvert_exporter": "python",
   "pygments_lexer": "ipython3",
   "version": "3.9.13"
  }
 },
 "nbformat": 4,
 "nbformat_minor": 1
}
